{
 "cells": [
  {
   "cell_type": "markdown",
   "metadata": {},
   "source": [
    "# Batch correction benchmark"
   ]
  },
  {
   "cell_type": "code",
   "execution_count": 1,
   "metadata": {},
   "outputs": [],
   "source": [
    "import numpy as np\n",
    "import pandas as pd\n",
    "\n",
    "import scanpy as sc\n",
    "\n",
    "from harmony import harmonize\n",
    "#from sklearn.metrics import adjusted_rand_score, normalized_mutual_info_score, silhouette_score\n",
    "from tqdm.auto import tqdm\n",
    "\n",
    "import scIB"
   ]
  },
  {
   "cell_type": "code",
   "execution_count": 2,
   "metadata": {},
   "outputs": [],
   "source": [
    "from numba import set_num_threads\n",
    "\n",
    "set_num_threads(16)"
   ]
  },
  {
   "cell_type": "code",
   "execution_count": 3,
   "metadata": {},
   "outputs": [],
   "source": [
    "import sys\n",
    "import gc\n",
    "from pathlib import Path\n",
    "\n",
    "sys.path.append(str(Path.home() / 'Code/sctoolkit/')) # downloaded from https://github.com/gokceneraslan/sctoolkit/"
   ]
  },
  {
   "cell_type": "code",
   "execution_count": 4,
   "metadata": {},
   "outputs": [],
   "source": [
    "from sctoolkit.integrate import fit_single_cell"
   ]
  },
  {
   "cell_type": "code",
   "execution_count": 5,
   "metadata": {},
   "outputs": [],
   "source": [
    "sc.set_figure_params(dpi=100)"
   ]
  },
  {
   "cell_type": "code",
   "execution_count": 6,
   "metadata": {},
   "outputs": [
    {
     "data": {
      "text/plain": [
       "AnnData object with n_obs × n_vars = 209126 × 17695\n",
       "    obs: 'n_genes', 'fpr', 'tissue', 'prep', 'individual', 'nGenes', 'nUMIs', 'PercentMito', 'PercentRibo', 'Age_bin', 'Sex', 'Sample ID', 'Participant ID', 'Container', 'Sample ID short', 'RIN score from PAXgene tissue Aliquot', 'RIN score from Frozen tissue Aliquot', 'Age', 'BMI', 'Race/Ethnicity', 'Autolysis Score', 'Sample Ischemic Time (mins)', 'Tissue Site Detail', 'scrublet', 'scrublet_score', 'barcode', 'batch', 'n_counts', 'tissue-individual-prep', 'Broad cell type', 'Granular cell type', 'batch_triplet', 'introns', 'junctions', 'exons', 'sense', 'antisense', 'intergenic', 'batch-barcode', 'exon_ratio', 'intron_ratio', 'junction_ratio', 'log10_nUMIs', 'leiden', 'leiden_tissue', 'Tissue composition', 'Cell types level 2', 'Cell types level 3', 'Broad cell type numbers', 'Broad cell type (numbers)', 'Tissue', 'channel', 'ischemic_time', 'Participant_ID', 'Sample_ID'\n",
       "    var: 'gene_ids', 'Chromosome', 'Source', 'Start', 'End', 'Strand', 'gene_name', 'gene_source', 'gene_biotype', 'gene_length', 'gene_coding_length', 'Approved symbol', 'Approved name', 'Status', 'Previous symbols', 'Alias symbols', 'gene_include', 'n_cells'\n",
       "    uns: 'Broad cell type (numbers)_colors', 'Broad cell type numbers_colors', 'Broad cell type_colors', 'Broad cell type_logregcv_vae_colors', 'Broad cell type_sizes', 'Granular cell type_colors', 'Participant ID_colors', 'Sex_colors', 'Tissue composition_colors', 'Tissue_colors', \"dendrogram_['Broad cell type']\", 'leiden', 'leiden_colors', 'leiden_sub_colors', 'neighbors', 'paga', 'prep_colors', 'tissue_colors', 'umap'\n",
       "    obsm: 'X_pca', 'X_umap', 'X_umap_tissue', 'X_vae_mean', 'X_vae_mean_tissue', 'X_vae_samples', 'X_vae_var'\n",
       "    varm: 'spring_leiden_sub'\n",
       "    layers: 'counts'\n",
       "    obsp: 'connectivities', 'distances'"
      ]
     },
     "execution_count": 6,
     "metadata": {},
     "output_type": "execute_result"
    }
   ],
   "source": [
    "ad_orig = sc.read('../scGTEx/alltissue_v5__myocytes_20210204-compessed.h5ad')\n",
    "ad_orig"
   ]
  },
  {
   "cell_type": "code",
   "execution_count": 7,
   "metadata": {},
   "outputs": [
    {
     "name": "stderr",
     "output_type": "stream",
     "text": [
      "/home/gokcen/.local/lib/python3.8/site-packages/anndata/_core/anndata.py:1094: FutureWarning: is_categorical is deprecated and will be removed in a future version.  Use is_categorical_dtype instead\n"
     ]
    },
    {
     "data": {
      "text/plain": [
       "AnnData object with n_obs × n_vars = 209068 × 17695\n",
       "    obs: 'n_genes', 'fpr', 'tissue', 'prep', 'individual', 'nGenes', 'nUMIs', 'PercentMito', 'PercentRibo', 'Age_bin', 'Sex', 'Sample ID', 'Participant ID', 'Container', 'Sample ID short', 'RIN score from PAXgene tissue Aliquot', 'RIN score from Frozen tissue Aliquot', 'Age', 'BMI', 'Race/Ethnicity', 'Autolysis Score', 'Sample Ischemic Time (mins)', 'Tissue Site Detail', 'scrublet', 'scrublet_score', 'barcode', 'batch', 'n_counts', 'tissue-individual-prep', 'Broad cell type', 'Granular cell type', 'batch_triplet', 'introns', 'junctions', 'exons', 'sense', 'antisense', 'intergenic', 'batch-barcode', 'exon_ratio', 'intron_ratio', 'junction_ratio', 'log10_nUMIs', 'leiden', 'leiden_tissue', 'Tissue composition', 'Cell types level 2', 'Cell types level 3', 'Broad cell type numbers', 'Broad cell type (numbers)', 'Tissue', 'channel', 'ischemic_time', 'Participant_ID', 'Sample_ID'\n",
       "    var: 'gene_ids', 'Chromosome', 'Source', 'Start', 'End', 'Strand', 'gene_name', 'gene_source', 'gene_biotype', 'gene_length', 'gene_coding_length', 'Approved symbol', 'Approved name', 'Status', 'Previous symbols', 'Alias symbols', 'gene_include', 'n_cells'\n",
       "    uns: 'Broad cell type (numbers)_colors', 'Broad cell type numbers_colors', 'Broad cell type_colors', 'Broad cell type_logregcv_vae_colors', 'Broad cell type_sizes', 'Participant ID_colors', 'Sex_colors', 'Tissue composition_colors', 'Tissue_colors', \"dendrogram_['Broad cell type']\", 'leiden', 'leiden_colors', 'leiden_sub_colors', 'neighbors', 'paga', 'prep_colors', 'tissue_colors', 'umap'\n",
       "    obsm: 'X_pca', 'X_umap', 'X_umap_tissue', 'X_vae_mean', 'X_vae_mean_tissue', 'X_vae_samples', 'X_vae_var'\n",
       "    varm: 'spring_leiden_sub'\n",
       "    layers: 'counts'\n",
       "    obsp: 'connectivities', 'distances'"
      ]
     },
     "execution_count": 7,
     "metadata": {},
     "output_type": "execute_result"
    }
   ],
   "source": [
    "ch = ad_orig.obs.channel.value_counts()>30\n",
    "ch = ch[ch].index.values.astype(str)\n",
    "\n",
    "ad_orig = ad_orig[ad_orig.obs.channel.isin(ch)].copy()\n",
    "ad_orig"
   ]
  },
  {
   "cell_type": "code",
   "execution_count": 8,
   "metadata": {},
   "outputs": [
    {
     "name": "stdout",
     "output_type": "stream",
     "text": [
      "The history saving thread hit an unexpected error (OperationalError('database is locked')).History will not be written to the database.\n"
     ]
    },
    {
     "data": {
      "text/plain": [
       "AnnData object with n_obs × n_vars = 209068 × 17603\n",
       "    obs: 'n_genes', 'fpr', 'tissue', 'prep', 'individual', 'nGenes', 'nUMIs', 'PercentMito', 'PercentRibo', 'Age_bin', 'Sex', 'Sample ID', 'Participant ID', 'Container', 'Sample ID short', 'RIN score from PAXgene tissue Aliquot', 'RIN score from Frozen tissue Aliquot', 'Age', 'BMI', 'Race/Ethnicity', 'Autolysis Score', 'Sample Ischemic Time (mins)', 'Tissue Site Detail', 'scrublet', 'scrublet_score', 'barcode', 'batch', 'n_counts', 'tissue-individual-prep', 'Broad cell type', 'Granular cell type', 'batch_triplet', 'introns', 'junctions', 'exons', 'sense', 'antisense', 'intergenic', 'batch-barcode', 'exon_ratio', 'intron_ratio', 'junction_ratio', 'log10_nUMIs', 'leiden', 'leiden_tissue', 'Tissue composition', 'Cell types level 2', 'Cell types level 3', 'Broad cell type numbers', 'Broad cell type (numbers)', 'Tissue', 'channel', 'ischemic_time', 'Participant_ID', 'Sample_ID'\n",
       "    var: 'gene_ids', 'Chromosome', 'Source', 'Start', 'End', 'Strand', 'gene_name', 'gene_source', 'gene_biotype', 'gene_length', 'gene_coding_length', 'Approved symbol', 'Approved name', 'Status', 'Previous symbols', 'Alias symbols', 'gene_include', 'n_cells'\n",
       "    uns: 'Broad cell type (numbers)_colors', 'Broad cell type numbers_colors', 'Broad cell type_colors', 'Broad cell type_logregcv_vae_colors', 'Broad cell type_sizes', 'Participant ID_colors', 'Sex_colors', 'Tissue composition_colors', 'Tissue_colors', \"dendrogram_['Broad cell type']\", 'leiden', 'leiden_colors', 'leiden_sub_colors', 'neighbors', 'paga', 'prep_colors', 'tissue_colors', 'umap'\n",
       "    obsm: 'X_pca', 'X_umap', 'X_umap_tissue', 'X_vae_mean', 'X_vae_mean_tissue', 'X_vae_samples', 'X_vae_var'\n",
       "    varm: 'spring_leiden_sub'\n",
       "    layers: 'counts'\n",
       "    obsp: 'connectivities', 'distances'"
      ]
     },
     "execution_count": 8,
     "metadata": {},
     "output_type": "execute_result"
    }
   ],
   "source": [
    "sc.pp.filter_genes(ad_orig, min_cells=10)\n",
    "ad_orig"
   ]
  },
  {
   "cell_type": "code",
   "execution_count": 9,
   "metadata": {},
   "outputs": [],
   "source": [
    "metrics = []\n",
    "metric_keys = ['Broad cell type', 'channel', 'tissue', 'Participant ID', 'prep']"
   ]
  },
  {
   "cell_type": "markdown",
   "metadata": {},
   "source": [
    "## Uncorrected"
   ]
  },
  {
   "cell_type": "code",
   "execution_count": 10,
   "metadata": {},
   "outputs": [],
   "source": [
    "sc.pp.highly_variable_genes(ad_orig, n_top_genes=2000)\n",
    "sc.pp.pca(ad_orig)\n",
    "sc.pp.neighbors(ad_orig)\n",
    "sc.tl.leiden(ad_orig)"
   ]
  },
  {
   "cell_type": "code",
   "execution_count": 11,
   "metadata": {},
   "outputs": [
    {
     "name": "stdout",
     "output_type": "stream",
     "text": [
      "664122\n"
     ]
    }
   ],
   "source": [
    "import random \n",
    "\n",
    "seed = random.randint(0, 1_000_000)\n",
    "print(seed)\n",
    "random.seed(seed)\n",
    "\n",
    "import torch\n",
    "torch.manual_seed(seed)\n",
    "\n",
    "np.random.seed(seed)"
   ]
  },
  {
   "cell_type": "markdown",
   "metadata": {},
   "source": [
    "## Harmony"
   ]
  },
  {
   "cell_type": "code",
   "execution_count": 12,
   "metadata": {},
   "outputs": [
    {
     "name": "stderr",
     "output_type": "stream",
     "text": [
      "/home/gokcen/.local/lib/python3.8/site-packages/harmony/utils.py:19: UserWarning: The given NumPy array is not writeable, and PyTorch does not support non-writeable tensors. This means you can write to the underlying (supposedly non-writeable) NumPy array using the tensor. You may want to copy the array to protect its data or make it writeable before converting it to a tensor. This type of warning will be suppressed for the rest of this program. (Triggered internally at  /pytorch/torch/csrc/utils/tensor_numpy.cpp:141.)\n",
      "/home/gokcen/.local/lib/python3.8/site-packages/sklearn/cluster/_kmeans.py:973: FutureWarning: 'n_jobs' was deprecated in version 0.23 and will be removed in 0.25.\n"
     ]
    },
    {
     "name": "stdout",
     "output_type": "stream",
     "text": [
      "\tInitialization is completed.\n",
      "\tCompleted 1 / 10 iteration(s).\n",
      "\tCompleted 2 / 10 iteration(s).\n",
      "Reach convergence after 2 iteration(s).\n",
      "CPU times: user 2h 19min 26s, sys: 16min 46s, total: 2h 36min 13s\n",
      "Wall time: 18min 40s\n"
     ]
    }
   ],
   "source": [
    "ad_harmony = ad_orig.copy()\n",
    "\n",
    "%time ad_harmony.obsm['X_harmony'] = harmonize(ad_harmony.obsm['X_pca'], ad_harmony.obs, 'channel', random_state=seed)\n",
    "\n",
    "sc.pp.neighbors(ad_harmony, use_rep='X_harmony')"
   ]
  },
  {
   "cell_type": "code",
   "execution_count": 13,
   "metadata": {},
   "outputs": [],
   "source": [
    "sc.tl.leiden(ad_harmony)"
   ]
  },
  {
   "cell_type": "code",
   "execution_count": 14,
   "metadata": {},
   "outputs": [
    {
     "data": {
      "application/vnd.jupyter.widget-view+json": {
       "model_id": "eb9262a4b0fc4a1a88fd3c92f2b2fde0",
       "version_major": 2,
       "version_minor": 0
      },
      "text/plain": [
       "HBox(children=(FloatProgress(value=0.0, max=5.0), HTML(value='')))"
      ]
     },
     "metadata": {},
     "output_type": "display_data"
    },
    {
     "name": "stdout",
     "output_type": "stream",
     "text": [
      "\n"
     ]
    },
    {
     "name": "stderr",
     "output_type": "stream",
     "text": [
      "/home/gokcen/.local/lib/python3.8/site-packages/anndata/_core/anndata.py:1094: FutureWarning: is_categorical is deprecated and will be removed in a future version.  Use is_categorical_dtype instead\n",
      "/home/gokcen/.local/lib/python3.8/site-packages/anndata/_core/anndata.py:1094: FutureWarning: is_categorical is deprecated and will be removed in a future version.  Use is_categorical_dtype instead\n"
     ]
    },
    {
     "name": "stdout",
     "output_type": "stream",
     "text": [
      "Adding diffusion to step 4\n"
     ]
    },
    {
     "name": "stderr",
     "output_type": "stream",
     "text": [
      "/home/gokcen/.local/lib/python3.8/site-packages/anndata/_core/anndata.py:1094: FutureWarning: is_categorical is deprecated and will be removed in a future version.  Use is_categorical_dtype instead\n",
      "/home/gokcen/.local/lib/python3.8/site-packages/anndata/_core/anndata.py:1094: FutureWarning: is_categorical is deprecated and will be removed in a future version.  Use is_categorical_dtype instead\n"
     ]
    },
    {
     "name": "stdout",
     "output_type": "stream",
     "text": [
      "Adding diffusion to step 4\n",
      "Adding diffusion to step 5\n"
     ]
    },
    {
     "name": "stderr",
     "output_type": "stream",
     "text": [
      "/home/gokcen/.local/lib/python3.8/site-packages/anndata/_core/anndata.py:1094: FutureWarning: is_categorical is deprecated and will be removed in a future version.  Use is_categorical_dtype instead\n"
     ]
    },
    {
     "name": "stdout",
     "output_type": "stream",
     "text": [
      "Adding diffusion to step 4\n"
     ]
    },
    {
     "name": "stderr",
     "output_type": "stream",
     "text": [
      "/home/gokcen/.local/lib/python3.8/site-packages/anndata/_core/anndata.py:1094: FutureWarning: is_categorical is deprecated and will be removed in a future version.  Use is_categorical_dtype instead\n"
     ]
    },
    {
     "name": "stdout",
     "output_type": "stream",
     "text": [
      "Adding diffusion to step 4\n",
      "Adding diffusion to step 5\n"
     ]
    },
    {
     "name": "stderr",
     "output_type": "stream",
     "text": [
      "/home/gokcen/.local/lib/python3.8/site-packages/anndata/_core/anndata.py:1094: FutureWarning: is_categorical is deprecated and will be removed in a future version.  Use is_categorical_dtype instead\n"
     ]
    },
    {
     "name": "stdout",
     "output_type": "stream",
     "text": [
      "Adding diffusion to step 4\n",
      "Adding diffusion to step 5\n",
      "Adding diffusion to step 6\n"
     ]
    },
    {
     "name": "stderr",
     "output_type": "stream",
     "text": [
      "/home/gokcen/.local/lib/python3.8/site-packages/anndata/_core/anndata.py:1094: FutureWarning: is_categorical is deprecated and will be removed in a future version.  Use is_categorical_dtype instead\n"
     ]
    },
    {
     "name": "stdout",
     "output_type": "stream",
     "text": [
      "Adding diffusion to step 4\n"
     ]
    },
    {
     "name": "stderr",
     "output_type": "stream",
     "text": [
      "/home/gokcen/.local/lib/python3.8/site-packages/anndata/_core/anndata.py:1094: FutureWarning: is_categorical is deprecated and will be removed in a future version.  Use is_categorical_dtype instead\n",
      "/home/gokcen/.local/lib/python3.8/site-packages/anndata/_core/anndata.py:1094: FutureWarning: is_categorical is deprecated and will be removed in a future version.  Use is_categorical_dtype instead\n"
     ]
    },
    {
     "name": "stdout",
     "output_type": "stream",
     "text": [
      "Adding diffusion to step 4\n"
     ]
    },
    {
     "name": "stderr",
     "output_type": "stream",
     "text": [
      "/home/gokcen/.local/lib/python3.8/site-packages/anndata/_core/anndata.py:1094: FutureWarning: is_categorical is deprecated and will be removed in a future version.  Use is_categorical_dtype instead\n",
      "/home/gokcen/.local/lib/python3.8/site-packages/anndata/_core/anndata.py:1094: FutureWarning: is_categorical is deprecated and will be removed in a future version.  Use is_categorical_dtype instead\n"
     ]
    },
    {
     "name": "stdout",
     "output_type": "stream",
     "text": [
      "Adding diffusion to step 4\n"
     ]
    },
    {
     "name": "stderr",
     "output_type": "stream",
     "text": [
      "/home/gokcen/.local/lib/python3.8/site-packages/anndata/_core/anndata.py:1094: FutureWarning: is_categorical is deprecated and will be removed in a future version.  Use is_categorical_dtype instead\n",
      "/home/gokcen/.local/lib/python3.8/site-packages/anndata/_core/anndata.py:1094: FutureWarning: is_categorical is deprecated and will be removed in a future version.  Use is_categorical_dtype instead\n"
     ]
    },
    {
     "name": "stdout",
     "output_type": "stream",
     "text": [
      "Adding diffusion to step 4\n"
     ]
    },
    {
     "name": "stderr",
     "output_type": "stream",
     "text": [
      "/home/gokcen/.local/lib/python3.8/site-packages/anndata/_core/anndata.py:1094: FutureWarning: is_categorical is deprecated and will be removed in a future version.  Use is_categorical_dtype instead\n"
     ]
    },
    {
     "name": "stdout",
     "output_type": "stream",
     "text": [
      "Adding diffusion to step 4\n",
      "Adding diffusion to step 5\n",
      "Adding diffusion to step 6\n"
     ]
    },
    {
     "name": "stderr",
     "output_type": "stream",
     "text": [
      "/home/gokcen/.local/lib/python3.8/site-packages/anndata/_core/anndata.py:1094: FutureWarning: is_categorical is deprecated and will be removed in a future version.  Use is_categorical_dtype instead\n"
     ]
    },
    {
     "name": "stdout",
     "output_type": "stream",
     "text": [
      "Adding diffusion to step 4\n",
      "Adding diffusion to step 5\n"
     ]
    },
    {
     "name": "stderr",
     "output_type": "stream",
     "text": [
      "/home/gokcen/.local/lib/python3.8/site-packages/anndata/_core/anndata.py:1094: FutureWarning: is_categorical is deprecated and will be removed in a future version.  Use is_categorical_dtype instead\n"
     ]
    },
    {
     "name": "stdout",
     "output_type": "stream",
     "text": [
      "Adding diffusion to step 4\n",
      "Adding diffusion to step 5\n",
      "Adding diffusion to step 6\n"
     ]
    },
    {
     "name": "stderr",
     "output_type": "stream",
     "text": [
      "/home/gokcen/.local/lib/python3.8/site-packages/anndata/_core/anndata.py:1094: FutureWarning: is_categorical is deprecated and will be removed in a future version.  Use is_categorical_dtype instead\n"
     ]
    },
    {
     "name": "stdout",
     "output_type": "stream",
     "text": [
      "Adding diffusion to step 4\n",
      "Adding diffusion to step 5\n",
      "Adding diffusion to step 6\n",
      "Adding diffusion to step 7\n",
      "Adding diffusion to step 8\n"
     ]
    },
    {
     "name": "stderr",
     "output_type": "stream",
     "text": [
      "/home/gokcen/.local/lib/python3.8/site-packages/anndata/_core/anndata.py:1094: FutureWarning: is_categorical is deprecated and will be removed in a future version.  Use is_categorical_dtype instead\n"
     ]
    },
    {
     "name": "stdout",
     "output_type": "stream",
     "text": [
      "Adding diffusion to step 4\n"
     ]
    },
    {
     "name": "stderr",
     "output_type": "stream",
     "text": [
      "/home/gokcen/.local/lib/python3.8/site-packages/anndata/_core/anndata.py:1094: FutureWarning: is_categorical is deprecated and will be removed in a future version.  Use is_categorical_dtype instead\n",
      "/home/gokcen/.local/lib/python3.8/site-packages/anndata/_core/anndata.py:1094: FutureWarning: is_categorical is deprecated and will be removed in a future version.  Use is_categorical_dtype instead\n"
     ]
    },
    {
     "name": "stdout",
     "output_type": "stream",
     "text": [
      "Adding diffusion to step 4\n",
      "Adding diffusion to step 5\n",
      "Adding diffusion to step 6\n"
     ]
    },
    {
     "name": "stderr",
     "output_type": "stream",
     "text": [
      "/home/gokcen/.local/lib/python3.8/site-packages/anndata/_core/anndata.py:1094: FutureWarning: is_categorical is deprecated and will be removed in a future version.  Use is_categorical_dtype instead\n"
     ]
    },
    {
     "name": "stdout",
     "output_type": "stream",
     "text": [
      "Adding diffusion to step 4\n"
     ]
    },
    {
     "name": "stderr",
     "output_type": "stream",
     "text": [
      "/home/gokcen/.local/lib/python3.8/site-packages/anndata/_core/anndata.py:1094: FutureWarning: is_categorical is deprecated and will be removed in a future version.  Use is_categorical_dtype instead\n",
      "/home/gokcen/.local/lib/python3.8/site-packages/anndata/_core/anndata.py:1094: FutureWarning: is_categorical is deprecated and will be removed in a future version.  Use is_categorical_dtype instead\n"
     ]
    },
    {
     "name": "stdout",
     "output_type": "stream",
     "text": [
      "Adding diffusion to step 4\n"
     ]
    },
    {
     "name": "stderr",
     "output_type": "stream",
     "text": [
      "/home/gokcen/.local/lib/python3.8/site-packages/anndata/_core/anndata.py:1094: FutureWarning: is_categorical is deprecated and will be removed in a future version.  Use is_categorical_dtype instead\n",
      "/home/gokcen/.local/lib/python3.8/site-packages/anndata/_core/anndata.py:1094: FutureWarning: is_categorical is deprecated and will be removed in a future version.  Use is_categorical_dtype instead\n"
     ]
    },
    {
     "name": "stdout",
     "output_type": "stream",
     "text": [
      "Adding diffusion to step 4\n",
      "Adding diffusion to step 5\n",
      "Adding diffusion to step 6\n",
      "Adding diffusion to step 7\n",
      "Adding diffusion to step 8\n",
      "Adding diffusion to step 9\n"
     ]
    },
    {
     "name": "stderr",
     "output_type": "stream",
     "text": [
      "/home/gokcen/.local/lib/python3.8/site-packages/anndata/_core/anndata.py:1094: FutureWarning: is_categorical is deprecated and will be removed in a future version.  Use is_categorical_dtype instead\n",
      "/home/gokcen/.local/lib/python3.8/site-packages/anndata/_core/anndata.py:1094: FutureWarning: is_categorical is deprecated and will be removed in a future version.  Use is_categorical_dtype instead\n"
     ]
    },
    {
     "name": "stdout",
     "output_type": "stream",
     "text": [
      "Adding diffusion to step 4\n"
     ]
    },
    {
     "name": "stderr",
     "output_type": "stream",
     "text": [
      "/home/gokcen/.local/lib/python3.8/site-packages/anndata/_core/anndata.py:1094: FutureWarning: is_categorical is deprecated and will be removed in a future version.  Use is_categorical_dtype instead\n"
     ]
    },
    {
     "name": "stdout",
     "output_type": "stream",
     "text": [
      "Adding diffusion to step 4\n",
      "Adding diffusion to step 5\n",
      "Adding diffusion to step 6\n"
     ]
    },
    {
     "name": "stderr",
     "output_type": "stream",
     "text": [
      "/home/gokcen/.local/lib/python3.8/site-packages/anndata/_core/anndata.py:1094: FutureWarning: is_categorical is deprecated and will be removed in a future version.  Use is_categorical_dtype instead\n"
     ]
    },
    {
     "name": "stdout",
     "output_type": "stream",
     "text": [
      "Adding diffusion to step 4\n",
      "Adding diffusion to step 5\n",
      "Adding diffusion to step 6\n",
      "Adding diffusion to step 7\n",
      "Adding diffusion to step 8\n",
      "Adding diffusion to step 9\n",
      "Adding diffusion to step 10\n",
      "Adding diffusion to step 11\n",
      "Adding diffusion to step 12\n",
      "Adding diffusion to step 13\n",
      "Adding diffusion to step 14\n",
      "Adding diffusion to step 15\n"
     ]
    },
    {
     "name": "stderr",
     "output_type": "stream",
     "text": [
      "/home/gokcen/.local/lib/python3.8/site-packages/anndata/_core/anndata.py:1094: FutureWarning: is_categorical is deprecated and will be removed in a future version.  Use is_categorical_dtype instead\n"
     ]
    },
    {
     "name": "stdout",
     "output_type": "stream",
     "text": [
      "Adding diffusion to step 4\n"
     ]
    },
    {
     "name": "stderr",
     "output_type": "stream",
     "text": [
      "/home/gokcen/.local/lib/python3.8/site-packages/anndata/_core/anndata.py:1094: FutureWarning: is_categorical is deprecated and will be removed in a future version.  Use is_categorical_dtype instead\n"
     ]
    },
    {
     "name": "stdout",
     "output_type": "stream",
     "text": [
      "Adding diffusion to step 4\n",
      "Adding diffusion to step 5\n"
     ]
    },
    {
     "name": "stderr",
     "output_type": "stream",
     "text": [
      "/home/gokcen/.local/lib/python3.8/site-packages/anndata/_core/anndata.py:1094: FutureWarning: is_categorical is deprecated and will be removed in a future version.  Use is_categorical_dtype instead\n"
     ]
    },
    {
     "name": "stdout",
     "output_type": "stream",
     "text": [
      "Adding diffusion to step 4\n",
      "Adding diffusion to step 5\n"
     ]
    },
    {
     "name": "stderr",
     "output_type": "stream",
     "text": [
      "/home/gokcen/.local/lib/python3.8/site-packages/anndata/_core/anndata.py:1094: FutureWarning: is_categorical is deprecated and will be removed in a future version.  Use is_categorical_dtype instead\n"
     ]
    },
    {
     "name": "stdout",
     "output_type": "stream",
     "text": [
      "Adding diffusion to step 4\n",
      "Adding diffusion to step 5\n",
      "Adding diffusion to step 6\n",
      "Adding diffusion to step 7\n",
      "Adding diffusion to step 8\n",
      "Adding diffusion to step 9\n"
     ]
    },
    {
     "name": "stderr",
     "output_type": "stream",
     "text": [
      "/home/gokcen/.local/lib/python3.8/site-packages/anndata/_core/anndata.py:1094: FutureWarning: is_categorical is deprecated and will be removed in a future version.  Use is_categorical_dtype instead\n"
     ]
    },
    {
     "name": "stdout",
     "output_type": "stream",
     "text": [
      "Adding diffusion to step 4\n",
      "Adding diffusion to step 5\n",
      "Adding diffusion to step 6\n",
      "Adding diffusion to step 7\n",
      "Adding diffusion to step 8\n"
     ]
    },
    {
     "name": "stderr",
     "output_type": "stream",
     "text": [
      "/home/gokcen/.local/lib/python3.8/site-packages/anndata/_core/anndata.py:1094: FutureWarning: is_categorical is deprecated and will be removed in a future version.  Use is_categorical_dtype instead\n"
     ]
    },
    {
     "name": "stdout",
     "output_type": "stream",
     "text": [
      "Adding diffusion to step 4\n",
      "Adding diffusion to step 5\n"
     ]
    },
    {
     "name": "stderr",
     "output_type": "stream",
     "text": [
      "/home/gokcen/.local/lib/python3.8/site-packages/anndata/_core/anndata.py:1094: FutureWarning: is_categorical is deprecated and will be removed in a future version.  Use is_categorical_dtype instead\n"
     ]
    },
    {
     "name": "stdout",
     "output_type": "stream",
     "text": [
      "Adding diffusion to step 4\n"
     ]
    },
    {
     "name": "stderr",
     "output_type": "stream",
     "text": [
      "/home/gokcen/.local/lib/python3.8/site-packages/anndata/_core/anndata.py:1094: FutureWarning: is_categorical is deprecated and will be removed in a future version.  Use is_categorical_dtype instead\n"
     ]
    },
    {
     "name": "stdout",
     "output_type": "stream",
     "text": [
      "Adding diffusion to step 4\n",
      "Adding diffusion to step 5\n"
     ]
    },
    {
     "name": "stderr",
     "output_type": "stream",
     "text": [
      "/home/gokcen/.local/lib/python3.8/site-packages/anndata/_core/anndata.py:1094: FutureWarning: is_categorical is deprecated and will be removed in a future version.  Use is_categorical_dtype instead\n"
     ]
    },
    {
     "name": "stdout",
     "output_type": "stream",
     "text": [
      "Adding diffusion to step 4\n",
      "Adding diffusion to step 5\n"
     ]
    },
    {
     "name": "stderr",
     "output_type": "stream",
     "text": [
      "/home/gokcen/.local/lib/python3.8/site-packages/anndata/_core/anndata.py:1094: FutureWarning: is_categorical is deprecated and will be removed in a future version.  Use is_categorical_dtype instead\n"
     ]
    },
    {
     "name": "stdout",
     "output_type": "stream",
     "text": [
      "Adding diffusion to step 4\n"
     ]
    },
    {
     "name": "stderr",
     "output_type": "stream",
     "text": [
      "/home/gokcen/.local/lib/python3.8/site-packages/anndata/_core/anndata.py:1094: FutureWarning: is_categorical is deprecated and will be removed in a future version.  Use is_categorical_dtype instead\n"
     ]
    },
    {
     "name": "stdout",
     "output_type": "stream",
     "text": [
      "Adding diffusion to step 4\n",
      "Adding diffusion to step 5\n"
     ]
    },
    {
     "name": "stderr",
     "output_type": "stream",
     "text": [
      "/home/gokcen/.local/lib/python3.8/site-packages/anndata/_core/anndata.py:1094: FutureWarning: is_categorical is deprecated and will be removed in a future version.  Use is_categorical_dtype instead\n",
      "/home/gokcen/.local/lib/python3.8/site-packages/anndata/_core/anndata.py:1094: FutureWarning: is_categorical is deprecated and will be removed in a future version.  Use is_categorical_dtype instead\n"
     ]
    },
    {
     "name": "stdout",
     "output_type": "stream",
     "text": [
      "Adding diffusion to step 4\n"
     ]
    },
    {
     "name": "stderr",
     "output_type": "stream",
     "text": [
      "/home/gokcen/.local/lib/python3.8/site-packages/anndata/_core/anndata.py:1094: FutureWarning: is_categorical is deprecated and will be removed in a future version.  Use is_categorical_dtype instead\n"
     ]
    },
    {
     "name": "stdout",
     "output_type": "stream",
     "text": [
      "Adding diffusion to step 4\n",
      "Adding diffusion to step 5\n",
      "CPU times: user 1h 10min 42s, sys: 2min 2s, total: 1h 12min 45s\n",
      "Wall time: 1h 8min 20s\n"
     ]
    }
   ],
   "source": [
    "ad = ad_harmony\n",
    "method_name = 'Harmony'\n",
    "metrics = [x for x in metrics if x[0] != method_name]\n",
    "\n",
    "for key in tqdm(metric_keys):\n",
    "    metrics.append((method_name, 'NMI', key, scIB.metrics.nmi(ad, key, 'leiden')))\n",
    "    metrics.append((method_name, 'ARI', key, scIB.metrics.ari(ad, key, 'leiden')))\n",
    "    \n",
    "%time kbet_score = scIB.metrics.kBET(ad, 'channel', 'Broad cell type', embed='X_harmony')\n",
    "metrics.append((method_name, 'kBET', 'Broad cell type', kbet_score))        "
   ]
  },
  {
   "cell_type": "markdown",
   "metadata": {},
   "source": [
    "## BBKNN"
   ]
  },
  {
   "cell_type": "code",
   "execution_count": 11,
   "metadata": {},
   "outputs": [
    {
     "name": "stderr",
     "output_type": "stream",
     "text": [
      "/home/gokcen/.local/lib/python3.8/site-packages/anndata/_core/anndata.py:1094: FutureWarning: is_categorical is deprecated and will be removed in a future version.  Use is_categorical_dtype instead\n",
      "  if not is_categorical(df_full[k]):\n"
     ]
    },
    {
     "name": "stdout",
     "output_type": "stream",
     "text": [
      "CPU times: user 35min 16s, sys: 6min 25s, total: 41min 42s\n",
      "Wall time: 32min 46s\n"
     ]
    }
   ],
   "source": [
    "ad_bbknn = ad_orig.copy()\n",
    "sc.pp.highly_variable_genes(ad_bbknn, n_top_genes=2000, subset=True)\n",
    "\n",
    "%time ad_bbknn = scIB.integration.runBBKNN(ad_bbknn, 'channel', pynndescent_random_state=seed)\n",
    "\n",
    "sc.tl.leiden(ad_bbknn)"
   ]
  },
  {
   "cell_type": "code",
   "execution_count": 12,
   "metadata": {
    "collapsed": true,
    "jupyter": {
     "outputs_hidden": true
    }
   },
   "outputs": [
    {
     "data": {
      "application/vnd.jupyter.widget-view+json": {
       "model_id": "4bde8ba3ed1647d7bca84645a26cf396",
       "version_major": 2,
       "version_minor": 0
      },
      "text/plain": [
       "HBox(children=(FloatProgress(value=0.0, max=5.0), HTML(value='')))"
      ]
     },
     "metadata": {},
     "output_type": "display_data"
    },
    {
     "name": "stdout",
     "output_type": "stream",
     "text": [
      "\n"
     ]
    },
    {
     "name": "stderr",
     "output_type": "stream",
     "text": [
      "/home/gokcen/.local/lib/python3.8/site-packages/scipy/sparse/_index.py:124: SparseEfficiencyWarning: Changing the sparsity structure of a csr_matrix is expensive. lil_matrix is more efficient.\n",
      "  self._set_arrayXarray(i, j, x)\n",
      "/home/gokcen/.local/lib/python3.8/site-packages/anndata/compat/__init__.py:189: FutureWarning: During AnnData slicing, found matrix at .uns['neighbors']['diffusion_connectivities'] that happens to be dimensioned at n_obs×n_obs (209068×209068).\n",
      "\n",
      "These matrices should now be stored in the .obsp attribute.\n",
      "This slicing behavior will be removed in anndata 0.8.\n",
      "  warn(\n",
      "/home/gokcen/.local/lib/python3.8/site-packages/anndata/_core/anndata.py:1094: FutureWarning: is_categorical is deprecated and will be removed in a future version.  Use is_categorical_dtype instead\n",
      "  if not is_categorical(df_full[k]):\n",
      "/home/gokcen/.local/lib/python3.8/site-packages/anndata/compat/__init__.py:189: FutureWarning: During AnnData slicing, found matrix at .uns['neighbors']['diffusion_connectivities'] that happens to be dimensioned at n_obs×n_obs (95×95).\n",
      "\n",
      "These matrices should now be stored in the .obsp attribute.\n",
      "This slicing behavior will be removed in anndata 0.8.\n",
      "  warn(\n",
      "/home/gokcen/.local/lib/python3.8/site-packages/anndata/_core/anndata.py:1094: FutureWarning: is_categorical is deprecated and will be removed in a future version.  Use is_categorical_dtype instead\n",
      "  if not is_categorical(df_full[k]):\n",
      "/home/gokcen/.local/lib/python3.8/site-packages/anndata/compat/__init__.py:189: FutureWarning: During AnnData slicing, found matrix at .uns['neighbors']['diffusion_connectivities'] that happens to be dimensioned at n_obs×n_obs (209068×209068).\n",
      "\n",
      "These matrices should now be stored in the .obsp attribute.\n",
      "This slicing behavior will be removed in anndata 0.8.\n",
      "  warn(\n",
      "/home/gokcen/.local/lib/python3.8/site-packages/anndata/compat/__init__.py:189: FutureWarning: During AnnData slicing, found matrix at .uns['neighbors']['diffusion_connectivities'] that happens to be dimensioned at n_obs×n_obs (20772×20772).\n",
      "\n",
      "These matrices should now be stored in the .obsp attribute.\n",
      "This slicing behavior will be removed in anndata 0.8.\n",
      "  warn(\n",
      "/home/gokcen/.local/lib/python3.8/site-packages/anndata/_core/anndata.py:1094: FutureWarning: is_categorical is deprecated and will be removed in a future version.  Use is_categorical_dtype instead\n",
      "  if not is_categorical(df_full[k]):\n",
      "/home/gokcen/.local/lib/python3.8/site-packages/anndata/compat/__init__.py:189: FutureWarning: During AnnData slicing, found matrix at .uns['neighbors']['diffusion_connectivities'] that happens to be dimensioned at n_obs×n_obs (209068×209068).\n",
      "\n",
      "These matrices should now be stored in the .obsp attribute.\n",
      "This slicing behavior will be removed in anndata 0.8.\n",
      "  warn(\n",
      "/home/gokcen/.local/lib/python3.8/site-packages/anndata/compat/__init__.py:189: FutureWarning: During AnnData slicing, found matrix at .uns['neighbors']['diffusion_connectivities'] that happens to be dimensioned at n_obs×n_obs (487×487).\n",
      "\n",
      "These matrices should now be stored in the .obsp attribute.\n",
      "This slicing behavior will be removed in anndata 0.8.\n",
      "  warn(\n",
      "/home/gokcen/.local/lib/python3.8/site-packages/anndata/_core/anndata.py:1094: FutureWarning: is_categorical is deprecated and will be removed in a future version.  Use is_categorical_dtype instead\n",
      "  if not is_categorical(df_full[k]):\n",
      "/home/gokcen/.local/lib/python3.8/site-packages/anndata/compat/__init__.py:189: FutureWarning: During AnnData slicing, found matrix at .uns['neighbors']['diffusion_connectivities'] that happens to be dimensioned at n_obs×n_obs (209068×209068).\n",
      "\n",
      "These matrices should now be stored in the .obsp attribute.\n",
      "This slicing behavior will be removed in anndata 0.8.\n",
      "  warn(\n",
      "/home/gokcen/.local/lib/python3.8/site-packages/anndata/compat/__init__.py:189: FutureWarning: During AnnData slicing, found matrix at .uns['neighbors']['diffusion_connectivities'] that happens to be dimensioned at n_obs×n_obs (937×937).\n",
      "\n",
      "These matrices should now be stored in the .obsp attribute.\n",
      "This slicing behavior will be removed in anndata 0.8.\n",
      "  warn(\n",
      "/home/gokcen/.local/lib/python3.8/site-packages/anndata/_core/anndata.py:1094: FutureWarning: is_categorical is deprecated and will be removed in a future version.  Use is_categorical_dtype instead\n",
      "  if not is_categorical(df_full[k]):\n",
      "/home/gokcen/.local/lib/python3.8/site-packages/anndata/compat/__init__.py:189: FutureWarning: During AnnData slicing, found matrix at .uns['neighbors']['diffusion_connectivities'] that happens to be dimensioned at n_obs×n_obs (209068×209068).\n",
      "\n",
      "These matrices should now be stored in the .obsp attribute.\n",
      "This slicing behavior will be removed in anndata 0.8.\n",
      "  warn(\n",
      "/home/gokcen/.local/lib/python3.8/site-packages/anndata/compat/__init__.py:189: FutureWarning: During AnnData slicing, found matrix at .uns['neighbors']['diffusion_connectivities'] that happens to be dimensioned at n_obs×n_obs (2771×2771).\n",
      "\n",
      "These matrices should now be stored in the .obsp attribute.\n",
      "This slicing behavior will be removed in anndata 0.8.\n",
      "  warn(\n",
      "/home/gokcen/.local/lib/python3.8/site-packages/anndata/_core/anndata.py:1094: FutureWarning: is_categorical is deprecated and will be removed in a future version.  Use is_categorical_dtype instead\n",
      "  if not is_categorical(df_full[k]):\n"
     ]
    },
    {
     "name": "stdout",
     "output_type": "stream",
     "text": [
      "Adding diffusion to step 4\n",
      "Adding diffusion to step 5\n",
      "Adding diffusion to step 6\n",
      "Adding diffusion to step 7\n",
      "Adding diffusion to step 8\n",
      "Adding diffusion to step 9\n"
     ]
    },
    {
     "name": "stderr",
     "output_type": "stream",
     "text": [
      "/home/gokcen/.local/lib/python3.8/site-packages/anndata/compat/__init__.py:189: FutureWarning: During AnnData slicing, found matrix at .uns['neighbors']['diffusion_connectivities'] that happens to be dimensioned at n_obs×n_obs (209068×209068).\n",
      "\n",
      "These matrices should now be stored in the .obsp attribute.\n",
      "This slicing behavior will be removed in anndata 0.8.\n",
      "  warn(\n",
      "/home/gokcen/.local/lib/python3.8/site-packages/anndata/compat/__init__.py:189: FutureWarning: During AnnData slicing, found matrix at .uns['neighbors']['diffusion_connectivities'] that happens to be dimensioned at n_obs×n_obs (2404×2404).\n",
      "\n",
      "These matrices should now be stored in the .obsp attribute.\n",
      "This slicing behavior will be removed in anndata 0.8.\n",
      "  warn(\n",
      "/home/gokcen/.local/lib/python3.8/site-packages/anndata/_core/anndata.py:1094: FutureWarning: is_categorical is deprecated and will be removed in a future version.  Use is_categorical_dtype instead\n",
      "  if not is_categorical(df_full[k]):\n",
      "/home/gokcen/.local/lib/python3.8/site-packages/anndata/compat/__init__.py:189: FutureWarning: During AnnData slicing, found matrix at .uns['neighbors']['diffusion_connectivities'] that happens to be dimensioned at n_obs×n_obs (209068×209068).\n",
      "\n",
      "These matrices should now be stored in the .obsp attribute.\n",
      "This slicing behavior will be removed in anndata 0.8.\n",
      "  warn(\n",
      "/home/gokcen/.local/lib/python3.8/site-packages/anndata/compat/__init__.py:189: FutureWarning: During AnnData slicing, found matrix at .uns['neighbors']['diffusion_connectivities'] that happens to be dimensioned at n_obs×n_obs (989×989).\n",
      "\n",
      "These matrices should now be stored in the .obsp attribute.\n",
      "This slicing behavior will be removed in anndata 0.8.\n",
      "  warn(\n",
      "/home/gokcen/.local/lib/python3.8/site-packages/anndata/_core/anndata.py:1094: FutureWarning: is_categorical is deprecated and will be removed in a future version.  Use is_categorical_dtype instead\n",
      "  if not is_categorical(df_full[k]):\n",
      "/home/gokcen/.local/lib/python3.8/site-packages/anndata/compat/__init__.py:189: FutureWarning: During AnnData slicing, found matrix at .uns['neighbors']['diffusion_connectivities'] that happens to be dimensioned at n_obs×n_obs (209068×209068).\n",
      "\n",
      "These matrices should now be stored in the .obsp attribute.\n",
      "This slicing behavior will be removed in anndata 0.8.\n",
      "  warn(\n",
      "/home/gokcen/.local/lib/python3.8/site-packages/anndata/compat/__init__.py:189: FutureWarning: During AnnData slicing, found matrix at .uns['neighbors']['diffusion_connectivities'] that happens to be dimensioned at n_obs×n_obs (96×96).\n",
      "\n",
      "These matrices should now be stored in the .obsp attribute.\n",
      "This slicing behavior will be removed in anndata 0.8.\n",
      "  warn(\n",
      "/home/gokcen/.local/lib/python3.8/site-packages/anndata/_core/anndata.py:1094: FutureWarning: is_categorical is deprecated and will be removed in a future version.  Use is_categorical_dtype instead\n",
      "  if not is_categorical(df_full[k]):\n"
     ]
    },
    {
     "name": "stdout",
     "output_type": "stream",
     "text": [
      "Adding diffusion to step 4\n"
     ]
    },
    {
     "name": "stderr",
     "output_type": "stream",
     "text": [
      "/home/gokcen/.local/lib/python3.8/site-packages/anndata/compat/__init__.py:189: FutureWarning: During AnnData slicing, found matrix at .uns['neighbors']['diffusion_connectivities'] that happens to be dimensioned at n_obs×n_obs (209068×209068).\n",
      "\n",
      "These matrices should now be stored in the .obsp attribute.\n",
      "This slicing behavior will be removed in anndata 0.8.\n",
      "  warn(\n",
      "/home/gokcen/.local/lib/python3.8/site-packages/anndata/compat/__init__.py:189: FutureWarning: During AnnData slicing, found matrix at .uns['neighbors']['diffusion_connectivities'] that happens to be dimensioned at n_obs×n_obs (237×237).\n",
      "\n",
      "These matrices should now be stored in the .obsp attribute.\n",
      "This slicing behavior will be removed in anndata 0.8.\n",
      "  warn(\n",
      "/home/gokcen/.local/lib/python3.8/site-packages/anndata/_core/anndata.py:1094: FutureWarning: is_categorical is deprecated and will be removed in a future version.  Use is_categorical_dtype instead\n",
      "  if not is_categorical(df_full[k]):\n",
      "/home/gokcen/.local/lib/python3.8/site-packages/anndata/compat/__init__.py:189: FutureWarning: During AnnData slicing, found matrix at .uns['neighbors']['diffusion_connectivities'] that happens to be dimensioned at n_obs×n_obs (209068×209068).\n",
      "\n",
      "These matrices should now be stored in the .obsp attribute.\n",
      "This slicing behavior will be removed in anndata 0.8.\n",
      "  warn(\n",
      "/home/gokcen/.local/lib/python3.8/site-packages/anndata/compat/__init__.py:189: FutureWarning: During AnnData slicing, found matrix at .uns['neighbors']['diffusion_connectivities'] that happens to be dimensioned at n_obs×n_obs (2585×2585).\n",
      "\n",
      "These matrices should now be stored in the .obsp attribute.\n",
      "This slicing behavior will be removed in anndata 0.8.\n",
      "  warn(\n",
      "/home/gokcen/.local/lib/python3.8/site-packages/anndata/_core/anndata.py:1094: FutureWarning: is_categorical is deprecated and will be removed in a future version.  Use is_categorical_dtype instead\n",
      "  if not is_categorical(df_full[k]):\n"
     ]
    },
    {
     "name": "stdout",
     "output_type": "stream",
     "text": [
      "Adding diffusion to step 4\n",
      "Adding diffusion to step 5\n"
     ]
    },
    {
     "name": "stderr",
     "output_type": "stream",
     "text": [
      "/home/gokcen/.local/lib/python3.8/site-packages/anndata/compat/__init__.py:189: FutureWarning: During AnnData slicing, found matrix at .uns['neighbors']['diffusion_connectivities'] that happens to be dimensioned at n_obs×n_obs (209068×209068).\n",
      "\n",
      "These matrices should now be stored in the .obsp attribute.\n",
      "This slicing behavior will be removed in anndata 0.8.\n",
      "  warn(\n",
      "/home/gokcen/.local/lib/python3.8/site-packages/anndata/compat/__init__.py:189: FutureWarning: During AnnData slicing, found matrix at .uns['neighbors']['diffusion_connectivities'] that happens to be dimensioned at n_obs×n_obs (7041×7041).\n",
      "\n",
      "These matrices should now be stored in the .obsp attribute.\n",
      "This slicing behavior will be removed in anndata 0.8.\n",
      "  warn(\n",
      "/home/gokcen/.local/lib/python3.8/site-packages/anndata/_core/anndata.py:1094: FutureWarning: is_categorical is deprecated and will be removed in a future version.  Use is_categorical_dtype instead\n",
      "  if not is_categorical(df_full[k]):\n"
     ]
    },
    {
     "name": "stdout",
     "output_type": "stream",
     "text": [
      "Adding diffusion to step 4\n"
     ]
    },
    {
     "name": "stderr",
     "output_type": "stream",
     "text": [
      "/home/gokcen/.local/lib/python3.8/site-packages/anndata/compat/__init__.py:189: FutureWarning: During AnnData slicing, found matrix at .uns['neighbors']['diffusion_connectivities'] that happens to be dimensioned at n_obs×n_obs (209068×209068).\n",
      "\n",
      "These matrices should now be stored in the .obsp attribute.\n",
      "This slicing behavior will be removed in anndata 0.8.\n",
      "  warn(\n",
      "/home/gokcen/.local/lib/python3.8/site-packages/anndata/compat/__init__.py:189: FutureWarning: During AnnData slicing, found matrix at .uns['neighbors']['diffusion_connectivities'] that happens to be dimensioned at n_obs×n_obs (5121×5121).\n",
      "\n",
      "These matrices should now be stored in the .obsp attribute.\n",
      "This slicing behavior will be removed in anndata 0.8.\n",
      "  warn(\n",
      "/home/gokcen/.local/lib/python3.8/site-packages/anndata/_core/anndata.py:1094: FutureWarning: is_categorical is deprecated and will be removed in a future version.  Use is_categorical_dtype instead\n",
      "  if not is_categorical(df_full[k]):\n",
      "/home/gokcen/.local/lib/python3.8/site-packages/anndata/compat/__init__.py:189: FutureWarning: During AnnData slicing, found matrix at .uns['neighbors']['diffusion_connectivities'] that happens to be dimensioned at n_obs×n_obs (209068×209068).\n",
      "\n",
      "These matrices should now be stored in the .obsp attribute.\n",
      "This slicing behavior will be removed in anndata 0.8.\n",
      "  warn(\n",
      "/home/gokcen/.local/lib/python3.8/site-packages/anndata/compat/__init__.py:189: FutureWarning: During AnnData slicing, found matrix at .uns['neighbors']['diffusion_connectivities'] that happens to be dimensioned at n_obs×n_obs (1578×1578).\n",
      "\n",
      "These matrices should now be stored in the .obsp attribute.\n",
      "This slicing behavior will be removed in anndata 0.8.\n",
      "  warn(\n",
      "/home/gokcen/.local/lib/python3.8/site-packages/anndata/_core/anndata.py:1094: FutureWarning: is_categorical is deprecated and will be removed in a future version.  Use is_categorical_dtype instead\n",
      "  if not is_categorical(df_full[k]):\n",
      "/home/gokcen/.local/lib/python3.8/site-packages/anndata/compat/__init__.py:189: FutureWarning: During AnnData slicing, found matrix at .uns['neighbors']['diffusion_connectivities'] that happens to be dimensioned at n_obs×n_obs (209068×209068).\n",
      "\n",
      "These matrices should now be stored in the .obsp attribute.\n",
      "This slicing behavior will be removed in anndata 0.8.\n",
      "  warn(\n",
      "/home/gokcen/.local/lib/python3.8/site-packages/anndata/compat/__init__.py:189: FutureWarning: During AnnData slicing, found matrix at .uns['neighbors']['diffusion_connectivities'] that happens to be dimensioned at n_obs×n_obs (72×72).\n",
      "\n",
      "These matrices should now be stored in the .obsp attribute.\n",
      "This slicing behavior will be removed in anndata 0.8.\n",
      "  warn(\n",
      "/home/gokcen/.local/lib/python3.8/site-packages/anndata/_core/anndata.py:1094: FutureWarning: is_categorical is deprecated and will be removed in a future version.  Use is_categorical_dtype instead\n",
      "  if not is_categorical(df_full[k]):\n",
      "/home/gokcen/.local/lib/python3.8/site-packages/anndata/compat/__init__.py:189: FutureWarning: During AnnData slicing, found matrix at .uns['neighbors']['diffusion_connectivities'] that happens to be dimensioned at n_obs×n_obs (209068×209068).\n",
      "\n",
      "These matrices should now be stored in the .obsp attribute.\n",
      "This slicing behavior will be removed in anndata 0.8.\n",
      "  warn(\n",
      "/home/gokcen/.local/lib/python3.8/site-packages/anndata/compat/__init__.py:189: FutureWarning: During AnnData slicing, found matrix at .uns['neighbors']['diffusion_connectivities'] that happens to be dimensioned at n_obs×n_obs (48×48).\n",
      "\n",
      "These matrices should now be stored in the .obsp attribute.\n",
      "This slicing behavior will be removed in anndata 0.8.\n",
      "  warn(\n",
      "/home/gokcen/.local/lib/python3.8/site-packages/anndata/_core/anndata.py:1094: FutureWarning: is_categorical is deprecated and will be removed in a future version.  Use is_categorical_dtype instead\n",
      "  if not is_categorical(df_full[k]):\n"
     ]
    },
    {
     "name": "stdout",
     "output_type": "stream",
     "text": [
      "CPU times: user 6h 26min 5s, sys: 37.4 s, total: 6h 26min 42s\n",
      "Wall time: 6h 26min 44s\n"
     ]
    }
   ],
   "source": [
    "ad = ad_bbknn\n",
    "method_name = 'BBKNN'\n",
    "metrics = [x for x in metrics if x[0] != method_name]\n",
    "\n",
    "for key in tqdm(metric_keys):\n",
    "    metrics.append((method_name, 'NMI', key, scIB.metrics.nmi(ad, key, 'leiden')))\n",
    "    metrics.append((method_name, 'ARI', key, scIB.metrics.ari(ad, key, 'leiden')))\n",
    "    \n",
    "%time kbet_score = scIB.metrics.kBET(ad, 'channel', 'Broad cell type', type_='knn')\n",
    "metrics.append((method_name, 'kBET', 'Broad cell type', kbet_score))    "
   ]
  },
  {
   "cell_type": "code",
   "execution_count": 13,
   "metadata": {},
   "outputs": [],
   "source": [
    "#ad_bbknn.write('adata_bbknn_full.h5ad')"
   ]
  },
  {
   "cell_type": "markdown",
   "metadata": {},
   "source": [
    "## MNN"
   ]
  },
  {
   "cell_type": "code",
   "execution_count": 17,
   "metadata": {},
   "outputs": [
    {
     "name": "stderr",
     "output_type": "stream",
     "text": [
      "/home/gokcen/.miniconda3/lib/python3.8/site-packages/mnnpy/utils.py:14: NumbaWarning: \u001b[1m\n",
      "Compilation is falling back to object mode WITH looplifting enabled because Function \"l2_norm\" failed type inference due to: \u001b[1m\u001b[1m\u001b[1mNo implementation of function Function(<function norm at 0x7f31c4115e50>) found for signature:\n",
      " \n",
      " >>> norm(x=array(float32, 2d, A), axis=Literal[int](1))\n",
      " \n",
      "There are 2 candidate implementations:\n",
      "\u001b[1m  - Of which 2 did not match due to:\n",
      "  Overload in function 'norm_impl': File: numba/np/linalg.py: Line 2351.\n",
      "    With argument(s): '(x=array(float32, 2d, A), axis=int64)':\u001b[0m\n",
      "\u001b[1m   Rejected as the implementation raised a specific error:\n",
      "     TypeError: norm_impl() got an unexpected keyword argument 'x'\u001b[0m\n",
      "  raised from /home/gokcen/.miniconda3/lib/python3.8/site-packages/numba/core/typing/templates.py:775\n",
      "\u001b[0m\n",
      "\u001b[0m\u001b[1mDuring: resolving callee type: Function(<function norm at 0x7f31c4115e50>)\u001b[0m\n",
      "\u001b[0m\u001b[1mDuring: typing of call at /home/gokcen/.miniconda3/lib/python3.8/site-packages/mnnpy/utils.py (16)\n",
      "\u001b[0m\n",
      "\u001b[1m\n",
      "File \"../../.miniconda3/lib/python3.8/site-packages/mnnpy/utils.py\", line 16:\u001b[0m\n",
      "\u001b[1mdef l2_norm(in_matrix):\n",
      "\u001b[1m    return np.linalg.norm(x=in_matrix, axis=1)\n",
      "\u001b[0m    \u001b[1m^\u001b[0m\u001b[0m\n",
      "\u001b[0m\n",
      "  @jit(float32[:](float32[:, :]), nogil=True)\n",
      "/home/gokcen/.miniconda3/lib/python3.8/site-packages/numba/core/object_mode_passes.py:151: NumbaWarning: \u001b[1mFunction \"l2_norm\" was compiled in object mode without forceobj=True.\n",
      "\u001b[1m\n",
      "File \"../../.miniconda3/lib/python3.8/site-packages/mnnpy/utils.py\", line 15:\u001b[0m\n",
      "\u001b[1m@jit(float32[:](float32[:, :]), nogil=True)\n",
      "\u001b[1mdef l2_norm(in_matrix):\n",
      "\u001b[0m\u001b[1m^\u001b[0m\u001b[0m\n",
      "\u001b[0m\n",
      "  warnings.warn(errors.NumbaWarning(warn_msg,\n",
      "/home/gokcen/.miniconda3/lib/python3.8/site-packages/numba/core/object_mode_passes.py:161: NumbaDeprecationWarning: \u001b[1m\n",
      "Fall-back from the nopython compilation path to the object mode compilation path has been detected, this is deprecated behaviour.\n",
      "\n",
      "For more information visit https://numba.pydata.org/numba-doc/latest/reference/deprecation.html#deprecation-of-object-mode-fall-back-behaviour-when-using-jit\n",
      "\u001b[1m\n",
      "File \"../../.miniconda3/lib/python3.8/site-packages/mnnpy/utils.py\", line 15:\u001b[0m\n",
      "\u001b[1m@jit(float32[:](float32[:, :]), nogil=True)\n",
      "\u001b[1mdef l2_norm(in_matrix):\n",
      "\u001b[0m\u001b[1m^\u001b[0m\u001b[0m\n",
      "\u001b[0m\n",
      "  warnings.warn(errors.NumbaDeprecationWarning(msg,\n",
      "/home/gokcen/.miniconda3/lib/python3.8/site-packages/mnnpy/utils.py:14: NumbaWarning: \u001b[1mCode running in object mode won't allow parallel execution despite nogil=True.\u001b[0m\n",
      "  @jit(float32[:](float32[:, :]), nogil=True)\n",
      "/home/gokcen/.miniconda3/lib/python3.8/site-packages/mnnpy/utils.py:29: NumbaPerformanceWarning: \u001b[1m\u001b[1m\u001b[1mnp.dot() is faster on contiguous arrays, called on (array(float32, 1d, A), array(float32, 1d, A))\u001b[0m\u001b[0m\u001b[0m\n",
      "  dist[i, j] = np.dot(m[i], n[j])\n",
      "/home/gokcen/.miniconda3/lib/python3.8/site-packages/mnnpy/utils.py:88: NumbaWarning: \u001b[1m\n",
      "Compilation is falling back to object mode WITH looplifting enabled because Function \"find_mutual_nn\" failed type inference due to: \u001b[1mUntyped global name 'cKDTree':\u001b[0m \u001b[1m\u001b[1mCannot determine Numba type of <class 'type'>\u001b[0m\n",
      "\u001b[1m\n",
      "File \"../../.miniconda3/lib/python3.8/site-packages/mnnpy/utils.py\", line 90:\u001b[0m\n",
      "\u001b[1mdef find_mutual_nn(data1, data2, k1, k2, n_jobs):\n",
      "\u001b[1m    k_index_1 = cKDTree(data1).query(x=data2, k=k1, n_jobs=n_jobs)[1]\n",
      "\u001b[0m    \u001b[1m^\u001b[0m\u001b[0m\n",
      "\u001b[0m\u001b[0m\n",
      "  @jit((float32[:, :], float32[:, :], int8, int8, int8))\n",
      "/home/gokcen/.miniconda3/lib/python3.8/site-packages/mnnpy/utils.py:88: NumbaWarning: \u001b[1m\n",
      "Compilation is falling back to object mode WITHOUT looplifting enabled because Function \"find_mutual_nn\" failed type inference due to: \u001b[1mUntyped global name 'cKDTree':\u001b[0m \u001b[1m\u001b[1mCannot determine Numba type of <class 'type'>\u001b[0m\n",
      "\u001b[1m\n",
      "File \"../../.miniconda3/lib/python3.8/site-packages/mnnpy/utils.py\", line 90:\u001b[0m\n",
      "\u001b[1mdef find_mutual_nn(data1, data2, k1, k2, n_jobs):\n",
      "\u001b[1m    k_index_1 = cKDTree(data1).query(x=data2, k=k1, n_jobs=n_jobs)[1]\n",
      "\u001b[0m    \u001b[1m^\u001b[0m\u001b[0m\n",
      "\u001b[0m\u001b[0m\n",
      "  @jit((float32[:, :], float32[:, :], int8, int8, int8))\n",
      "/home/gokcen/.miniconda3/lib/python3.8/site-packages/numba/core/object_mode_passes.py:151: NumbaWarning: \u001b[1mFunction \"find_mutual_nn\" was compiled in object mode without forceobj=True, but has lifted loops.\n",
      "\u001b[1m\n",
      "File \"../../.miniconda3/lib/python3.8/site-packages/mnnpy/utils.py\", line 90:\u001b[0m\n",
      "\u001b[1mdef find_mutual_nn(data1, data2, k1, k2, n_jobs):\n",
      "\u001b[1m    k_index_1 = cKDTree(data1).query(x=data2, k=k1, n_jobs=n_jobs)[1]\n",
      "\u001b[0m    \u001b[1m^\u001b[0m\u001b[0m\n",
      "\u001b[0m\n",
      "  warnings.warn(errors.NumbaWarning(warn_msg,\n",
      "/home/gokcen/.miniconda3/lib/python3.8/site-packages/numba/core/object_mode_passes.py:161: NumbaDeprecationWarning: \u001b[1m\n",
      "Fall-back from the nopython compilation path to the object mode compilation path has been detected, this is deprecated behaviour.\n",
      "\n",
      "For more information visit https://numba.pydata.org/numba-doc/latest/reference/deprecation.html#deprecation-of-object-mode-fall-back-behaviour-when-using-jit\n",
      "\u001b[1m\n",
      "File \"../../.miniconda3/lib/python3.8/site-packages/mnnpy/utils.py\", line 90:\u001b[0m\n",
      "\u001b[1mdef find_mutual_nn(data1, data2, k1, k2, n_jobs):\n",
      "\u001b[1m    k_index_1 = cKDTree(data1).query(x=data2, k=k1, n_jobs=n_jobs)[1]\n",
      "\u001b[0m    \u001b[1m^\u001b[0m\u001b[0m\n",
      "\u001b[0m\n",
      "  warnings.warn(errors.NumbaDeprecationWarning(msg,\n",
      "/home/gokcen/.miniconda3/lib/python3.8/site-packages/mnnpy/utils.py:102: NumbaWarning: \u001b[1m\n",
      "Compilation is falling back to object mode WITH looplifting enabled because Function \"compute_correction\" failed type inference due to: \u001b[1m\u001b[1m\u001b[1mNo implementation of function Function(<function unique at 0x7f31c40fb8b0>) found for signature:\n",
      " \n",
      " >>> unique(array(int32, 1d, A), return_counts=Literal[bool](True))\n",
      " \n",
      "There are 2 candidate implementations:\n",
      "\u001b[1m  - Of which 2 did not match due to:\n",
      "  Overload in function 'np_unique': File: numba/np/arrayobj.py: Line 1993.\n",
      "    With argument(s): '(array(int32, 1d, A), return_counts=bool)':\u001b[0m\n",
      "\u001b[1m   Rejected as the implementation raised a specific error:\n",
      "     TypeError: np_unique() got an unexpected keyword argument 'return_counts'\u001b[0m\n",
      "  raised from /home/gokcen/.miniconda3/lib/python3.8/site-packages/numba/core/typing/templates.py:775\n",
      "\u001b[0m\n",
      "\u001b[0m\u001b[1mDuring: resolving callee type: Function(<function unique at 0x7f31c40fb8b0>)\u001b[0m\n",
      "\u001b[0m\u001b[1mDuring: typing of call at /home/gokcen/.miniconda3/lib/python3.8/site-packages/mnnpy/utils.py (105)\n",
      "\u001b[0m\n",
      "\u001b[1m\n",
      "File \"../../.miniconda3/lib/python3.8/site-packages/mnnpy/utils.py\", line 105:\u001b[0m\n",
      "\u001b[1mdef compute_correction(data1, data2, mnn1, mnn2, data2_or_raw2, sigma):\n",
      "    <source elided>\n",
      "    vect = data1[mnn1] - data2[mnn2]\n",
      "\u001b[1m    mnn_index, mnn_count = np.unique(mnn2, return_counts=True)\n",
      "\u001b[0m    \u001b[1m^\u001b[0m\u001b[0m\n",
      "\u001b[0m\n",
      "  @jit(float32[:, :](float32[:, :], float32[:, :], int32[:], int32[:], float32[:, :], float32))\n",
      "/home/gokcen/.miniconda3/lib/python3.8/site-packages/mnnpy/utils.py:102: NumbaWarning: \u001b[1m\n",
      "Compilation is falling back to object mode WITHOUT looplifting enabled because Function \"compute_correction\" failed type inference due to: \u001b[1m\u001b[1mCannot determine Numba type of <class 'numba.core.dispatcher.LiftedLoop'>\u001b[0m\n",
      "\u001b[1m\n",
      "File \"../../.miniconda3/lib/python3.8/site-packages/mnnpy/utils.py\", line 107:\u001b[0m\n",
      "\u001b[1mdef compute_correction(data1, data2, mnn1, mnn2, data2_or_raw2, sigma):\n",
      "    <source elided>\n",
      "    vect_reduced = np.zeros((data2.shape[0], vect.shape[1]), dtype=np.float32)\n",
      "\u001b[1m    for index, ve in zip(mnn2, vect):\n",
      "\u001b[0m    \u001b[1m^\u001b[0m\u001b[0m\n",
      "\u001b[0m\u001b[0m\n",
      "  @jit(float32[:, :](float32[:, :], float32[:, :], int32[:], int32[:], float32[:, :], float32))\n",
      "/home/gokcen/.miniconda3/lib/python3.8/site-packages/numba/core/object_mode_passes.py:151: NumbaWarning: \u001b[1mFunction \"compute_correction\" was compiled in object mode without forceobj=True, but has lifted loops.\n",
      "\u001b[1m\n",
      "File \"../../.miniconda3/lib/python3.8/site-packages/mnnpy/utils.py\", line 104:\u001b[0m\n",
      "\u001b[1mdef compute_correction(data1, data2, mnn1, mnn2, data2_or_raw2, sigma):\n",
      "\u001b[1m    vect = data1[mnn1] - data2[mnn2]\n",
      "\u001b[0m    \u001b[1m^\u001b[0m\u001b[0m\n",
      "\u001b[0m\n",
      "  warnings.warn(errors.NumbaWarning(warn_msg,\n",
      "/home/gokcen/.miniconda3/lib/python3.8/site-packages/numba/core/object_mode_passes.py:161: NumbaDeprecationWarning: \u001b[1m\n",
      "Fall-back from the nopython compilation path to the object mode compilation path has been detected, this is deprecated behaviour.\n",
      "\n",
      "For more information visit https://numba.pydata.org/numba-doc/latest/reference/deprecation.html#deprecation-of-object-mode-fall-back-behaviour-when-using-jit\n",
      "\u001b[1m\n",
      "File \"../../.miniconda3/lib/python3.8/site-packages/mnnpy/utils.py\", line 104:\u001b[0m\n",
      "\u001b[1mdef compute_correction(data1, data2, mnn1, mnn2, data2_or_raw2, sigma):\n",
      "\u001b[1m    vect = data1[mnn1] - data2[mnn2]\n",
      "\u001b[0m    \u001b[1m^\u001b[0m\u001b[0m\n",
      "\u001b[0m\n",
      "  warnings.warn(errors.NumbaDeprecationWarning(msg,\n",
      "/home/gokcen/.miniconda3/lib/python3.8/site-packages/mnnpy/utils.py:199: NumbaWarning: \u001b[1m\n",
      "Compilation is falling back to object mode WITH looplifting enabled because Function \"adjust_s_variance\" failed type inference due to: \u001b[1mNameError: name 'sq_dist_to_line' is not defined\u001b[0m\u001b[0m\n",
      "  @jit(float32(float32[:, :], float32[:, :], float32[:], float32[:], float32), nogil=True)\n",
      "/home/gokcen/.miniconda3/lib/python3.8/site-packages/mnnpy/utils.py:199: NumbaWarning: \u001b[1m\n",
      "Compilation is falling back to object mode WITHOUT looplifting enabled because Function \"adjust_s_variance\" failed type inference due to: \u001b[1m\u001b[1mCannot determine Numba type of <class 'numba.core.dispatcher.LiftedLoop'>\u001b[0m\n",
      "\u001b[1m\n",
      "File \"../../.miniconda3/lib/python3.8/site-packages/mnnpy/utils.py\", line 207:\u001b[0m\n",
      "\u001b[1mdef adjust_s_variance(data1, data2, curcell, curvect, sigma):\n",
      "    <source elided>\n",
      "    totalprob2 = 0.\n",
      "\u001b[1m    for samecell in data2:\n",
      "\u001b[0m    \u001b[1m^\u001b[0m\u001b[0m\n",
      "\u001b[0m\u001b[0m\n",
      "  @jit(float32(float32[:, :], float32[:, :], float32[:], float32[:], float32), nogil=True)\n",
      "/home/gokcen/.miniconda3/lib/python3.8/site-packages/numba/core/object_mode_passes.py:151: NumbaWarning: \u001b[1mFunction \"adjust_s_variance\" was compiled in object mode without forceobj=True, but has lifted loops.\n",
      "\u001b[1m\n",
      "File \"../../.miniconda3/lib/python3.8/site-packages/mnnpy/utils.py\", line 201:\u001b[0m\n",
      "\u001b[1mdef adjust_s_variance(data1, data2, curcell, curvect, sigma):\n",
      "\u001b[1m    distance1 = np.zeros((data1.shape[0], 2), dtype=np.float32)\n",
      "\u001b[0m    \u001b[1m^\u001b[0m\u001b[0m\n",
      "\u001b[0m\n",
      "  warnings.warn(errors.NumbaWarning(warn_msg,\n",
      "/home/gokcen/.miniconda3/lib/python3.8/site-packages/numba/core/object_mode_passes.py:161: NumbaDeprecationWarning: \u001b[1m\n",
      "Fall-back from the nopython compilation path to the object mode compilation path has been detected, this is deprecated behaviour.\n",
      "\n",
      "For more information visit https://numba.pydata.org/numba-doc/latest/reference/deprecation.html#deprecation-of-object-mode-fall-back-behaviour-when-using-jit\n",
      "\u001b[1m\n",
      "File \"../../.miniconda3/lib/python3.8/site-packages/mnnpy/utils.py\", line 201:\u001b[0m\n",
      "\u001b[1mdef adjust_s_variance(data1, data2, curcell, curvect, sigma):\n",
      "\u001b[1m    distance1 = np.zeros((data1.shape[0], 2), dtype=np.float32)\n",
      "\u001b[0m    \u001b[1m^\u001b[0m\u001b[0m\n",
      "\u001b[0m\n",
      "  warnings.warn(errors.NumbaDeprecationWarning(msg,\n",
      "/home/gokcen/.miniconda3/lib/python3.8/site-packages/mnnpy/utils.py:199: NumbaWarning: \u001b[1mCode running in object mode won't allow parallel execution despite nogil=True.\u001b[0m\n",
      "  @jit(float32(float32[:, :], float32[:, :], float32[:], float32[:], float32), nogil=True)\n",
      "/home/gokcen/.miniconda3/lib/python3.8/site-packages/mnnpy/utils.py:238: NumbaPerformanceWarning: \u001b[1m\u001b[1m\u001b[1mnp.dot() is faster on contiguous arrays, called on (array(float32, 1d, C), array(float32, 1d, A))\u001b[0m\u001b[0m\u001b[0m\n",
      "  scale = np.dot(working, grad)\n",
      "/home/gokcen/.local/lib/python3.8/site-packages/anndata/_core/anndata.py:1094: FutureWarning: is_categorical is deprecated and will be removed in a future version.  Use is_categorical_dtype instead\n",
      "  if not is_categorical(df_full[k]):\n"
     ]
    },
    {
     "name": "stdout",
     "output_type": "stream",
     "text": [
      "Performing cosine normalization...\n"
     ]
    },
    {
     "name": "stderr",
     "output_type": "stream",
     "text": [
      "/home/gokcen/.miniconda3/lib/python3.8/site-packages/mnnpy/utils.py:14: NumbaWarning: \u001b[1m\n",
      "Compilation is falling back to object mode WITH looplifting enabled because Function \"l2_norm\" failed type inference due to: \u001b[1m\u001b[1m\u001b[1mNo implementation of function Function(<function norm at 0x7f31c4115e50>) found for signature:\n",
      " \n",
      " >>> norm(x=array(float32, 2d, A), axis=Literal[int](1))\n",
      " \n",
      "There are 2 candidate implementations:\n",
      "\u001b[1m    - Of which 2 did not match due to:\n",
      "    Overload in function 'norm_impl': File: numba/np/linalg.py: Line 2351.\n",
      "      With argument(s): '(x=array(float32, 2d, A), axis=int64)':\u001b[0m\n",
      "\u001b[1m     Rejected as the implementation raised a specific error:\n",
      "       TypeError: norm_impl() got an unexpected keyword argument 'x'\u001b[0m\n",
      "  raised from /home/gokcen/.miniconda3/lib/python3.8/site-packages/numba/core/typing/templates.py:775\n",
      "\u001b[0m\n",
      "\u001b[0m\u001b[1mDuring: resolving callee type: Function(<function norm at 0x7f31c4115e50>)\u001b[0m\n",
      "\u001b[0m\u001b[1mDuring: typing of call at /home/gokcen/.miniconda3/lib/python3.8/site-packages/mnnpy/utils.py (16)\n",
      "\u001b[0m\n",
      "\u001b[1m\n",
      "File \"../../.miniconda3/lib/python3.8/site-packages/mnnpy/utils.py\", line 16:\u001b[0m\n",
      "\u001b[1mdef l2_norm(in_matrix):\n",
      "\u001b[1m    return np.linalg.norm(x=in_matrix, axis=1)\n",
      "\u001b[0m    \u001b[1m^\u001b[0m\u001b[0m\n",
      "\u001b[0m\n",
      "  @jit(float32[:](float32[:, :]), nogil=True)\n",
      "/home/gokcen/.miniconda3/lib/python3.8/site-packages/numba/core/object_mode_passes.py:151: NumbaWarning: \u001b[1mFunction \"l2_norm\" was compiled in object mode without forceobj=True.\n",
      "\u001b[1m\n",
      "File \"../../.miniconda3/lib/python3.8/site-packages/mnnpy/utils.py\", line 15:\u001b[0m\n",
      "\u001b[1m@jit(float32[:](float32[:, :]), nogil=True)\n",
      "\u001b[1mdef l2_norm(in_matrix):\n",
      "\u001b[0m\u001b[1m^\u001b[0m\u001b[0m\n",
      "\u001b[0m\n",
      "  warnings.warn(errors.NumbaWarning(warn_msg,\n",
      "/home/gokcen/.miniconda3/lib/python3.8/site-packages/numba/core/object_mode_passes.py:161: NumbaDeprecationWarning: \u001b[1m\n",
      "Fall-back from the nopython compilation path to the object mode compilation path has been detected, this is deprecated behaviour.\n",
      "\n",
      "For more information visit https://numba.pydata.org/numba-doc/latest/reference/deprecation.html#deprecation-of-object-mode-fall-back-behaviour-when-using-jit\n",
      "\u001b[1m\n",
      "File \"../../.miniconda3/lib/python3.8/site-packages/mnnpy/utils.py\", line 15:\u001b[0m\n",
      "\u001b[1m@jit(float32[:](float32[:, :]), nogil=True)\n",
      "\u001b[1mdef l2_norm(in_matrix):\n",
      "\u001b[0m\u001b[1m^\u001b[0m\u001b[0m\n",
      "\u001b[0m\n",
      "  warnings.warn(errors.NumbaDeprecationWarning(msg,\n",
      "/home/gokcen/.miniconda3/lib/python3.8/site-packages/mnnpy/utils.py:14: NumbaWarning: \u001b[1mCode running in object mode won't allow parallel execution despite nogil=True.\u001b[0m\n",
      "  @jit(float32[:](float32[:, :]), nogil=True)\n",
      "/home/gokcen/.miniconda3/lib/python3.8/site-packages/mnnpy/utils.py:14: NumbaWarning: \u001b[1m\n",
      "Compilation is falling back to object mode WITH looplifting enabled because Function \"l2_norm\" failed type inference due to: \u001b[1m\u001b[1m\u001b[1mNo implementation of function Function(<function norm at 0x7f31c4115e50>) found for signature:\n",
      " \n",
      " >>> norm(x=array(float32, 2d, A), axis=Literal[int](1))\n",
      " \n",
      "There are 2 candidate implementations:\n",
      "\u001b[1m    - Of which 2 did not match due to:\n",
      "    Overload in function 'norm_impl': File: numba/np/linalg.py: Line 2351.\n",
      "      With argument(s): '(x=array(float32, 2d, A), axis=int64)':\u001b[0m\n",
      "\u001b[1m     Rejected as the implementation raised a specific error:\n",
      "       TypeError: norm_impl() got an unexpected keyword argument 'x'\u001b[0m\n",
      "  raised from /home/gokcen/.miniconda3/lib/python3.8/site-packages/numba/core/typing/templates.py:775\n",
      "\u001b[0m\n",
      "\u001b[0m\u001b[1mDuring: resolving callee type: Function(<function norm at 0x7f31c4115e50>)\u001b[0m\n",
      "\u001b[0m\u001b[1mDuring: typing of call at /home/gokcen/.miniconda3/lib/python3.8/site-packages/mnnpy/utils.py (16)\n",
      "\u001b[0m\n",
      "\u001b[1m\n",
      "File \"../../.miniconda3/lib/python3.8/site-packages/mnnpy/utils.py\", line 16:\u001b[0m\n",
      "\u001b[1mdef l2_norm(in_matrix):\n",
      "\u001b[1m    return np.linalg.norm(x=in_matrix, axis=1)\n",
      "\u001b[0m    \u001b[1m^\u001b[0m\u001b[0m\n",
      "\u001b[0m\n",
      "  @jit(float32[:](float32[:, :]), nogil=True)\n",
      "/home/gokcen/.miniconda3/lib/python3.8/site-packages/numba/core/object_mode_passes.py:151: NumbaWarning: \u001b[1mFunction \"l2_norm\" was compiled in object mode without forceobj=True.\n",
      "\u001b[1m\n",
      "File \"../../.miniconda3/lib/python3.8/site-packages/mnnpy/utils.py\", line 15:\u001b[0m\n",
      "\u001b[1m@jit(float32[:](float32[:, :]), nogil=True)\n",
      "\u001b[1mdef l2_norm(in_matrix):\n",
      "\u001b[0m\u001b[1m^\u001b[0m\u001b[0m\n",
      "\u001b[0m\n",
      "  warnings.warn(errors.NumbaWarning(warn_msg,\n",
      "/home/gokcen/.miniconda3/lib/python3.8/site-packages/numba/core/object_mode_passes.py:161: NumbaDeprecationWarning: \u001b[1m\n",
      "Fall-back from the nopython compilation path to the object mode compilation path has been detected, this is deprecated behaviour.\n",
      "\n",
      "For more information visit https://numba.pydata.org/numba-doc/latest/reference/deprecation.html#deprecation-of-object-mode-fall-back-behaviour-when-using-jit\n",
      "\u001b[1m\n",
      "File \"../../.miniconda3/lib/python3.8/site-packages/mnnpy/utils.py\", line 15:\u001b[0m\n",
      "\u001b[1m@jit(float32[:](float32[:, :]), nogil=True)\n",
      "\u001b[1mdef l2_norm(in_matrix):\n",
      "\u001b[0m\u001b[1m^\u001b[0m\u001b[0m\n",
      "\u001b[0m\n",
      "  warnings.warn(errors.NumbaDeprecationWarning(msg,\n",
      "/home/gokcen/.miniconda3/lib/python3.8/site-packages/mnnpy/utils.py:14: NumbaWarning: \u001b[1mCode running in object mode won't allow parallel execution despite nogil=True.\u001b[0m\n",
      "  @jit(float32[:](float32[:, :]), nogil=True)\n",
      "/home/gokcen/.miniconda3/lib/python3.8/site-packages/mnnpy/utils.py:14: NumbaWarning: \u001b[1m\n",
      "Compilation is falling back to object mode WITH looplifting enabled because Function \"l2_norm\" failed type inference due to: \u001b[1m\u001b[1m\u001b[1mNo implementation of function Function(<function norm at 0x7f31c4115e50>) found for signature:\n",
      " \n",
      " >>> norm(x=array(float32, 2d, A), axis=Literal[int](1))\n",
      " \n",
      "There are 2 candidate implementations:\n",
      "\u001b[1m    - Of which 2 did not match due to:\n",
      "    Overload in function 'norm_impl': File: numba/np/linalg.py: Line 2351.\n",
      "      With argument(s): '(x=array(float32, 2d, A), axis=int64)':\u001b[0m\n",
      "\u001b[1m     Rejected as the implementation raised a specific error:\n",
      "       TypeError: norm_impl() got an unexpected keyword argument 'x'\u001b[0m\n",
      "  raised from /home/gokcen/.miniconda3/lib/python3.8/site-packages/numba/core/typing/templates.py:775\n",
      "\u001b[0m\n",
      "\u001b[0m\u001b[1mDuring: resolving callee type: Function(<function norm at 0x7f31c4115e50>)\u001b[0m\n",
      "\u001b[0m\u001b[1mDuring: typing of call at /home/gokcen/.miniconda3/lib/python3.8/site-packages/mnnpy/utils.py (16)\n",
      "\u001b[0m\n",
      "\u001b[1m\n",
      "File \"../../.miniconda3/lib/python3.8/site-packages/mnnpy/utils.py\", line 16:\u001b[0m\n",
      "\u001b[1mdef l2_norm(in_matrix):\n",
      "\u001b[1m    return np.linalg.norm(x=in_matrix, axis=1)\n",
      "\u001b[0m    \u001b[1m^\u001b[0m\u001b[0m\n",
      "\u001b[0m\n",
      "  @jit(float32[:](float32[:, :]), nogil=True)\n",
      "/home/gokcen/.miniconda3/lib/python3.8/site-packages/numba/core/object_mode_passes.py:151: NumbaWarning: \u001b[1mFunction \"l2_norm\" was compiled in object mode without forceobj=True.\n",
      "\u001b[1m\n",
      "File \"../../.miniconda3/lib/python3.8/site-packages/mnnpy/utils.py\", line 15:\u001b[0m\n",
      "\u001b[1m@jit(float32[:](float32[:, :]), nogil=True)\n",
      "\u001b[1mdef l2_norm(in_matrix):\n",
      "\u001b[0m\u001b[1m^\u001b[0m\u001b[0m\n",
      "\u001b[0m\n",
      "  warnings.warn(errors.NumbaWarning(warn_msg,\n",
      "/home/gokcen/.miniconda3/lib/python3.8/site-packages/numba/core/object_mode_passes.py:161: NumbaDeprecationWarning: \u001b[1m\n",
      "Fall-back from the nopython compilation path to the object mode compilation path has been detected, this is deprecated behaviour.\n",
      "\n",
      "For more information visit https://numba.pydata.org/numba-doc/latest/reference/deprecation.html#deprecation-of-object-mode-fall-back-behaviour-when-using-jit\n",
      "\u001b[1m\n",
      "File \"../../.miniconda3/lib/python3.8/site-packages/mnnpy/utils.py\", line 15:\u001b[0m\n",
      "\u001b[1m@jit(float32[:](float32[:, :]), nogil=True)\n",
      "\u001b[1mdef l2_norm(in_matrix):\n",
      "\u001b[0m\u001b[1m^\u001b[0m\u001b[0m\n",
      "\u001b[0m\n",
      "  warnings.warn(errors.NumbaDeprecationWarning(msg,\n",
      "/home/gokcen/.miniconda3/lib/python3.8/site-packages/mnnpy/utils.py:14: NumbaWarning: \u001b[1mCode running in object mode won't allow parallel execution despite nogil=True.\u001b[0m\n",
      "  @jit(float32[:](float32[:, :]), nogil=True)\n",
      "/home/gokcen/.miniconda3/lib/python3.8/site-packages/mnnpy/utils.py:14: NumbaWarning: \u001b[1m\n",
      "Compilation is falling back to object mode WITH looplifting enabled because Function \"l2_norm\" failed type inference due to: \u001b[1m\u001b[1m\u001b[1mNo implementation of function Function(<function norm at 0x7f31c4115e50>) found for signature:\n",
      " \n",
      " >>> norm(x=array(float32, 2d, A), axis=Literal[int](1))\n",
      " \n",
      "There are 2 candidate implementations:\n",
      "\u001b[1m    - Of which 2 did not match due to:\n",
      "    Overload in function 'norm_impl': File: numba/np/linalg.py: Line 2351.\n",
      "      With argument(s): '(x=array(float32, 2d, A), axis=int64)':\u001b[0m\n",
      "\u001b[1m     Rejected as the implementation raised a specific error:\n",
      "       TypeError: norm_impl() got an unexpected keyword argument 'x'\u001b[0m\n",
      "  raised from /home/gokcen/.miniconda3/lib/python3.8/site-packages/numba/core/typing/templates.py:775\n",
      "\u001b[0m\n",
      "\u001b[0m\u001b[1mDuring: resolving callee type: Function(<function norm at 0x7f31c4115e50>)\u001b[0m\n",
      "\u001b[0m\u001b[1mDuring: typing of call at /home/gokcen/.miniconda3/lib/python3.8/site-packages/mnnpy/utils.py (16)\n",
      "\u001b[0m\n",
      "\u001b[1m\n",
      "File \"../../.miniconda3/lib/python3.8/site-packages/mnnpy/utils.py\", line 16:\u001b[0m\n",
      "\u001b[1mdef l2_norm(in_matrix):\n",
      "\u001b[1m    return np.linalg.norm(x=in_matrix, axis=1)\n",
      "\u001b[0m    \u001b[1m^\u001b[0m\u001b[0m\n",
      "\u001b[0m\n",
      "  @jit(float32[:](float32[:, :]), nogil=True)\n",
      "/home/gokcen/.miniconda3/lib/python3.8/site-packages/numba/core/object_mode_passes.py:151: NumbaWarning: \u001b[1mFunction \"l2_norm\" was compiled in object mode without forceobj=True.\n",
      "\u001b[1m\n",
      "File \"../../.miniconda3/lib/python3.8/site-packages/mnnpy/utils.py\", line 15:\u001b[0m\n",
      "\u001b[1m@jit(float32[:](float32[:, :]), nogil=True)\n",
      "\u001b[1mdef l2_norm(in_matrix):\n",
      "\u001b[0m\u001b[1m^\u001b[0m\u001b[0m\n",
      "\u001b[0m\n",
      "  warnings.warn(errors.NumbaWarning(warn_msg,\n",
      "/home/gokcen/.miniconda3/lib/python3.8/site-packages/numba/core/object_mode_passes.py:161: NumbaDeprecationWarning: \u001b[1m\n",
      "Fall-back from the nopython compilation path to the object mode compilation path has been detected, this is deprecated behaviour.\n",
      "\n",
      "For more information visit https://numba.pydata.org/numba-doc/latest/reference/deprecation.html#deprecation-of-object-mode-fall-back-behaviour-when-using-jit\n",
      "\u001b[1m\n",
      "File \"../../.miniconda3/lib/python3.8/site-packages/mnnpy/utils.py\", line 15:\u001b[0m\n",
      "\u001b[1m@jit(float32[:](float32[:, :]), nogil=True)\n",
      "\u001b[1mdef l2_norm(in_matrix):\n",
      "\u001b[0m\u001b[1m^\u001b[0m\u001b[0m\n",
      "\u001b[0m\n",
      "  warnings.warn(errors.NumbaDeprecationWarning(msg,\n",
      "/home/gokcen/.miniconda3/lib/python3.8/site-packages/mnnpy/utils.py:14: NumbaWarning: \u001b[1mCode running in object mode won't allow parallel execution despite nogil=True.\u001b[0m\n",
      "  @jit(float32[:](float32[:, :]), nogil=True)\n",
      "/home/gokcen/.miniconda3/lib/python3.8/site-packages/mnnpy/utils.py:14: NumbaWarning: \u001b[1m\n",
      "Compilation is falling back to object mode WITH looplifting enabled because Function \"l2_norm\" failed type inference due to: \u001b[1m\u001b[1m\u001b[1mNo implementation of function Function(<function norm at 0x7f31c4115e50>) found for signature:\n",
      " \n",
      " >>> norm(x=array(float32, 2d, A), axis=Literal[int](1))\n",
      " \n",
      "There are 2 candidate implementations:\n",
      "\u001b[1m    - Of which 2 did not match due to:\n",
      "    Overload in function 'norm_impl': File: numba/np/linalg.py: Line 2351.\n",
      "      With argument(s): '(x=array(float32, 2d, A), axis=int64)':\u001b[0m\n",
      "\u001b[1m     Rejected as the implementation raised a specific error:\n",
      "       TypeError: norm_impl() got an unexpected keyword argument 'x'\u001b[0m\n",
      "  raised from /home/gokcen/.miniconda3/lib/python3.8/site-packages/numba/core/typing/templates.py:775\n",
      "\u001b[0m\n",
      "\u001b[0m\u001b[1mDuring: resolving callee type: Function(<function norm at 0x7f31c4115e50>)\u001b[0m\n",
      "\u001b[0m\u001b[1mDuring: typing of call at /home/gokcen/.miniconda3/lib/python3.8/site-packages/mnnpy/utils.py (16)\n",
      "\u001b[0m\n",
      "\u001b[1m\n",
      "File \"../../.miniconda3/lib/python3.8/site-packages/mnnpy/utils.py\", line 16:\u001b[0m\n",
      "\u001b[1mdef l2_norm(in_matrix):\n",
      "\u001b[1m    return np.linalg.norm(x=in_matrix, axis=1)\n",
      "\u001b[0m    \u001b[1m^\u001b[0m\u001b[0m\n",
      "\u001b[0m\n",
      "  @jit(float32[:](float32[:, :]), nogil=True)\n",
      "/home/gokcen/.miniconda3/lib/python3.8/site-packages/mnnpy/utils.py:14: NumbaWarning: \u001b[1m\n",
      "Compilation is falling back to object mode WITH looplifting enabled because Function \"l2_norm\" failed type inference due to: \u001b[1m\u001b[1m\u001b[1mNo implementation of function Function(<function norm at 0x7f31c4115e50>) found for signature:\n",
      " \n",
      " >>> norm(x=array(float32, 2d, A), axis=Literal[int](1))\n",
      " \n",
      "There are 2 candidate implementations:\n",
      "\u001b[1m    - Of which 2 did not match due to:\n",
      "    Overload in function 'norm_impl': File: numba/np/linalg.py: Line 2351.\n",
      "      With argument(s): '(x=array(float32, 2d, A), axis=int64)':\u001b[0m\n",
      "\u001b[1m     Rejected as the implementation raised a specific error:\n",
      "       TypeError: norm_impl() got an unexpected keyword argument 'x'\u001b[0m\n",
      "  raised from /home/gokcen/.miniconda3/lib/python3.8/site-packages/numba/core/typing/templates.py:775\n",
      "\u001b[0m\n",
      "\u001b[0m\u001b[1mDuring: resolving callee type: Function(<function norm at 0x7f31c4115e50>)\u001b[0m\n",
      "\u001b[0m\u001b[1mDuring: typing of call at /home/gokcen/.miniconda3/lib/python3.8/site-packages/mnnpy/utils.py (16)\n",
      "\u001b[0m\n",
      "\u001b[1m\n",
      "File \"../../.miniconda3/lib/python3.8/site-packages/mnnpy/utils.py\", line 16:\u001b[0m\n",
      "\u001b[1mdef l2_norm(in_matrix):\n",
      "\u001b[1m    return np.linalg.norm(x=in_matrix, axis=1)\n",
      "\u001b[0m    \u001b[1m^\u001b[0m\u001b[0m\n",
      "\u001b[0m\n",
      "  @jit(float32[:](float32[:, :]), nogil=True)\n",
      "/home/gokcen/.miniconda3/lib/python3.8/site-packages/numba/core/object_mode_passes.py:151: NumbaWarning: \u001b[1mFunction \"l2_norm\" was compiled in object mode without forceobj=True.\n",
      "\u001b[1m\n",
      "File \"../../.miniconda3/lib/python3.8/site-packages/mnnpy/utils.py\", line 15:\u001b[0m\n",
      "\u001b[1m@jit(float32[:](float32[:, :]), nogil=True)\n",
      "\u001b[1mdef l2_norm(in_matrix):\n",
      "\u001b[0m\u001b[1m^\u001b[0m\u001b[0m\n",
      "\u001b[0m\n",
      "  warnings.warn(errors.NumbaWarning(warn_msg,\n",
      "/home/gokcen/.miniconda3/lib/python3.8/site-packages/numba/core/object_mode_passes.py:161: NumbaDeprecationWarning: \u001b[1m\n",
      "Fall-back from the nopython compilation path to the object mode compilation path has been detected, this is deprecated behaviour.\n",
      "\n",
      "For more information visit https://numba.pydata.org/numba-doc/latest/reference/deprecation.html#deprecation-of-object-mode-fall-back-behaviour-when-using-jit\n",
      "\u001b[1m\n",
      "File \"../../.miniconda3/lib/python3.8/site-packages/mnnpy/utils.py\", line 15:\u001b[0m\n",
      "\u001b[1m@jit(float32[:](float32[:, :]), nogil=True)\n",
      "\u001b[1mdef l2_norm(in_matrix):\n",
      "\u001b[0m\u001b[1m^\u001b[0m\u001b[0m\n",
      "\u001b[0m\n",
      "  warnings.warn(errors.NumbaDeprecationWarning(msg,\n",
      "/home/gokcen/.miniconda3/lib/python3.8/site-packages/mnnpy/utils.py:14: NumbaWarning: \u001b[1mCode running in object mode won't allow parallel execution despite nogil=True.\u001b[0m\n",
      "  @jit(float32[:](float32[:, :]), nogil=True)\n",
      "/home/gokcen/.miniconda3/lib/python3.8/site-packages/numba/core/object_mode_passes.py:151: NumbaWarning: \u001b[1mFunction \"l2_norm\" was compiled in object mode without forceobj=True.\n",
      "\u001b[1m\n",
      "File \"../../.miniconda3/lib/python3.8/site-packages/mnnpy/utils.py\", line 15:\u001b[0m\n",
      "\u001b[1m@jit(float32[:](float32[:, :]), nogil=True)\n",
      "\u001b[1mdef l2_norm(in_matrix):\n",
      "\u001b[0m\u001b[1m^\u001b[0m\u001b[0m\n",
      "\u001b[0m\n",
      "  warnings.warn(errors.NumbaWarning(warn_msg,\n",
      "/home/gokcen/.miniconda3/lib/python3.8/site-packages/numba/core/object_mode_passes.py:161: NumbaDeprecationWarning: \u001b[1m\n",
      "Fall-back from the nopython compilation path to the object mode compilation path has been detected, this is deprecated behaviour.\n",
      "\n",
      "For more information visit https://numba.pydata.org/numba-doc/latest/reference/deprecation.html#deprecation-of-object-mode-fall-back-behaviour-when-using-jit\n",
      "\u001b[1m\n",
      "File \"../../.miniconda3/lib/python3.8/site-packages/mnnpy/utils.py\", line 15:\u001b[0m\n",
      "\u001b[1m@jit(float32[:](float32[:, :]), nogil=True)\n",
      "\u001b[1mdef l2_norm(in_matrix):\n",
      "\u001b[0m\u001b[1m^\u001b[0m\u001b[0m\n",
      "\u001b[0m\n",
      "  warnings.warn(errors.NumbaDeprecationWarning(msg,\n",
      "/home/gokcen/.miniconda3/lib/python3.8/site-packages/mnnpy/utils.py:14: NumbaWarning: \u001b[1mCode running in object mode won't allow parallel execution despite nogil=True.\u001b[0m\n",
      "  @jit(float32[:](float32[:, :]), nogil=True)\n",
      "/home/gokcen/.miniconda3/lib/python3.8/site-packages/mnnpy/utils.py:14: NumbaWarning: \u001b[1m\n",
      "Compilation is falling back to object mode WITH looplifting enabled because Function \"l2_norm\" failed type inference due to: \u001b[1m\u001b[1m\u001b[1mNo implementation of function Function(<function norm at 0x7f31c4115e50>) found for signature:\n",
      " \n",
      " >>> norm(x=array(float32, 2d, A), axis=Literal[int](1))\n",
      " \n",
      "There are 2 candidate implementations:\n",
      "\u001b[1m    - Of which 2 did not match due to:\n",
      "    Overload in function 'norm_impl': File: numba/np/linalg.py: Line 2351.\n",
      "      With argument(s): '(x=array(float32, 2d, A), axis=int64)':\u001b[0m\n",
      "\u001b[1m     Rejected as the implementation raised a specific error:\n",
      "       TypeError: norm_impl() got an unexpected keyword argument 'x'\u001b[0m\n",
      "  raised from /home/gokcen/.miniconda3/lib/python3.8/site-packages/numba/core/typing/templates.py:775\n",
      "\u001b[0m\n",
      "\u001b[0m\u001b[1mDuring: resolving callee type: Function(<function norm at 0x7f31c4115e50>)\u001b[0m\n",
      "\u001b[0m\u001b[1mDuring: typing of call at /home/gokcen/.miniconda3/lib/python3.8/site-packages/mnnpy/utils.py (16)\n",
      "\u001b[0m\n",
      "\u001b[1m\n",
      "File \"../../.miniconda3/lib/python3.8/site-packages/mnnpy/utils.py\", line 16:\u001b[0m\n",
      "\u001b[1mdef l2_norm(in_matrix):\n",
      "\u001b[1m    return np.linalg.norm(x=in_matrix, axis=1)\n",
      "\u001b[0m    \u001b[1m^\u001b[0m\u001b[0m\n",
      "\u001b[0m\n",
      "  @jit(float32[:](float32[:, :]), nogil=True)\n",
      "/home/gokcen/.miniconda3/lib/python3.8/site-packages/numba/core/object_mode_passes.py:151: NumbaWarning: \u001b[1mFunction \"l2_norm\" was compiled in object mode without forceobj=True.\n",
      "\u001b[1m\n",
      "File \"../../.miniconda3/lib/python3.8/site-packages/mnnpy/utils.py\", line 15:\u001b[0m\n",
      "\u001b[1m@jit(float32[:](float32[:, :]), nogil=True)\n",
      "\u001b[1mdef l2_norm(in_matrix):\n",
      "\u001b[0m\u001b[1m^\u001b[0m\u001b[0m\n",
      "\u001b[0m\n",
      "  warnings.warn(errors.NumbaWarning(warn_msg,\n",
      "/home/gokcen/.miniconda3/lib/python3.8/site-packages/numba/core/object_mode_passes.py:161: NumbaDeprecationWarning: \u001b[1m\n",
      "Fall-back from the nopython compilation path to the object mode compilation path has been detected, this is deprecated behaviour.\n",
      "\n",
      "For more information visit https://numba.pydata.org/numba-doc/latest/reference/deprecation.html#deprecation-of-object-mode-fall-back-behaviour-when-using-jit\n",
      "\u001b[1m\n",
      "File \"../../.miniconda3/lib/python3.8/site-packages/mnnpy/utils.py\", line 15:\u001b[0m\n",
      "\u001b[1m@jit(float32[:](float32[:, :]), nogil=True)\n",
      "\u001b[1mdef l2_norm(in_matrix):\n",
      "\u001b[0m\u001b[1m^\u001b[0m\u001b[0m\n",
      "\u001b[0m\n",
      "  warnings.warn(errors.NumbaDeprecationWarning(msg,\n",
      "/home/gokcen/.miniconda3/lib/python3.8/site-packages/mnnpy/utils.py:14: NumbaWarning: \u001b[1mCode running in object mode won't allow parallel execution despite nogil=True.\u001b[0m\n",
      "  @jit(float32[:](float32[:, :]), nogil=True)\n",
      "/home/gokcen/.miniconda3/lib/python3.8/site-packages/mnnpy/utils.py:14: NumbaWarning: \u001b[1m\n",
      "Compilation is falling back to object mode WITH looplifting enabled because Function \"l2_norm\" failed type inference due to: \u001b[1m\u001b[1m\u001b[1mNo implementation of function Function(<function norm at 0x7f31c4115e50>) found for signature:\n",
      " \n",
      " >>> norm(x=array(float32, 2d, A), axis=Literal[int](1))\n",
      " \n",
      "There are 2 candidate implementations:\n",
      "\u001b[1m    - Of which 2 did not match due to:\n",
      "    Overload in function 'norm_impl': File: numba/np/linalg.py: Line 2351.\n",
      "      With argument(s): '(x=array(float32, 2d, A), axis=int64)':\u001b[0m\n",
      "\u001b[1m     Rejected as the implementation raised a specific error:\n",
      "       TypeError: norm_impl() got an unexpected keyword argument 'x'\u001b[0m\n",
      "  raised from /home/gokcen/.miniconda3/lib/python3.8/site-packages/numba/core/typing/templates.py:775\n",
      "\u001b[0m\n",
      "\u001b[0m\u001b[1mDuring: resolving callee type: Function(<function norm at 0x7f31c4115e50>)\u001b[0m\n",
      "\u001b[0m\u001b[1mDuring: typing of call at /home/gokcen/.miniconda3/lib/python3.8/site-packages/mnnpy/utils.py (16)\n",
      "\u001b[0m\n",
      "\u001b[1m\n",
      "File \"../../.miniconda3/lib/python3.8/site-packages/mnnpy/utils.py\", line 16:\u001b[0m\n",
      "\u001b[1mdef l2_norm(in_matrix):\n",
      "\u001b[1m    return np.linalg.norm(x=in_matrix, axis=1)\n",
      "\u001b[0m    \u001b[1m^\u001b[0m\u001b[0m\n",
      "\u001b[0m\n",
      "  @jit(float32[:](float32[:, :]), nogil=True)\n",
      "/home/gokcen/.miniconda3/lib/python3.8/site-packages/numba/core/object_mode_passes.py:151: NumbaWarning: \u001b[1mFunction \"l2_norm\" was compiled in object mode without forceobj=True.\n",
      "\u001b[1m\n",
      "File \"../../.miniconda3/lib/python3.8/site-packages/mnnpy/utils.py\", line 15:\u001b[0m\n",
      "\u001b[1m@jit(float32[:](float32[:, :]), nogil=True)\n",
      "\u001b[1mdef l2_norm(in_matrix):\n",
      "\u001b[0m\u001b[1m^\u001b[0m\u001b[0m\n",
      "\u001b[0m\n",
      "  warnings.warn(errors.NumbaWarning(warn_msg,\n",
      "/home/gokcen/.miniconda3/lib/python3.8/site-packages/numba/core/object_mode_passes.py:161: NumbaDeprecationWarning: \u001b[1m\n",
      "Fall-back from the nopython compilation path to the object mode compilation path has been detected, this is deprecated behaviour.\n",
      "\n",
      "For more information visit https://numba.pydata.org/numba-doc/latest/reference/deprecation.html#deprecation-of-object-mode-fall-back-behaviour-when-using-jit\n",
      "\u001b[1m\n",
      "File \"../../.miniconda3/lib/python3.8/site-packages/mnnpy/utils.py\", line 15:\u001b[0m\n",
      "\u001b[1m@jit(float32[:](float32[:, :]), nogil=True)\n",
      "\u001b[1mdef l2_norm(in_matrix):\n",
      "\u001b[0m\u001b[1m^\u001b[0m\u001b[0m\n",
      "\u001b[0m\n",
      "  warnings.warn(errors.NumbaDeprecationWarning(msg,\n",
      "/home/gokcen/.miniconda3/lib/python3.8/site-packages/mnnpy/utils.py:14: NumbaWarning: \u001b[1mCode running in object mode won't allow parallel execution despite nogil=True.\u001b[0m\n",
      "  @jit(float32[:](float32[:, :]), nogil=True)\n",
      "/home/gokcen/.miniconda3/lib/python3.8/site-packages/mnnpy/utils.py:14: NumbaWarning: \u001b[1m\n",
      "Compilation is falling back to object mode WITH looplifting enabled because Function \"l2_norm\" failed type inference due to: \u001b[1m\u001b[1m\u001b[1mNo implementation of function Function(<function norm at 0x7f31c4115e50>) found for signature:\n",
      " \n",
      " >>> norm(x=array(float32, 2d, A), axis=Literal[int](1))\n",
      " \n",
      "There are 2 candidate implementations:\n",
      "\u001b[1m    - Of which 2 did not match due to:\n",
      "    Overload in function 'norm_impl': File: numba/np/linalg.py: Line 2351.\n",
      "      With argument(s): '(x=array(float32, 2d, A), axis=int64)':\u001b[0m\n",
      "\u001b[1m     Rejected as the implementation raised a specific error:\n",
      "       TypeError: norm_impl() got an unexpected keyword argument 'x'\u001b[0m\n",
      "  raised from /home/gokcen/.miniconda3/lib/python3.8/site-packages/numba/core/typing/templates.py:775\n",
      "\u001b[0m\n",
      "\u001b[0m\u001b[1mDuring: resolving callee type: Function(<function norm at 0x7f31c4115e50>)\u001b[0m\n",
      "\u001b[0m\u001b[1mDuring: typing of call at /home/gokcen/.miniconda3/lib/python3.8/site-packages/mnnpy/utils.py (16)\n",
      "\u001b[0m\n",
      "\u001b[1m\n",
      "File \"../../.miniconda3/lib/python3.8/site-packages/mnnpy/utils.py\", line 16:\u001b[0m\n",
      "\u001b[1mdef l2_norm(in_matrix):\n",
      "\u001b[1m    return np.linalg.norm(x=in_matrix, axis=1)\n",
      "\u001b[0m    \u001b[1m^\u001b[0m\u001b[0m\n",
      "\u001b[0m\n",
      "  @jit(float32[:](float32[:, :]), nogil=True)\n",
      "/home/gokcen/.miniconda3/lib/python3.8/site-packages/numba/core/object_mode_passes.py:151: NumbaWarning: \u001b[1mFunction \"l2_norm\" was compiled in object mode without forceobj=True.\n",
      "\u001b[1m\n",
      "File \"../../.miniconda3/lib/python3.8/site-packages/mnnpy/utils.py\", line 15:\u001b[0m\n",
      "\u001b[1m@jit(float32[:](float32[:, :]), nogil=True)\n",
      "\u001b[1mdef l2_norm(in_matrix):\n",
      "\u001b[0m\u001b[1m^\u001b[0m\u001b[0m\n",
      "\u001b[0m\n",
      "  warnings.warn(errors.NumbaWarning(warn_msg,\n",
      "/home/gokcen/.miniconda3/lib/python3.8/site-packages/numba/core/object_mode_passes.py:161: NumbaDeprecationWarning: \u001b[1m\n",
      "Fall-back from the nopython compilation path to the object mode compilation path has been detected, this is deprecated behaviour.\n",
      "\n",
      "For more information visit https://numba.pydata.org/numba-doc/latest/reference/deprecation.html#deprecation-of-object-mode-fall-back-behaviour-when-using-jit\n",
      "\u001b[1m\n",
      "File \"../../.miniconda3/lib/python3.8/site-packages/mnnpy/utils.py\", line 15:\u001b[0m\n",
      "\u001b[1m@jit(float32[:](float32[:, :]), nogil=True)\n",
      "\u001b[1mdef l2_norm(in_matrix):\n",
      "\u001b[0m\u001b[1m^\u001b[0m\u001b[0m\n",
      "\u001b[0m\n",
      "  warnings.warn(errors.NumbaDeprecationWarning(msg,\n",
      "/home/gokcen/.miniconda3/lib/python3.8/site-packages/mnnpy/utils.py:14: NumbaWarning: \u001b[1mCode running in object mode won't allow parallel execution despite nogil=True.\u001b[0m\n",
      "  @jit(float32[:](float32[:, :]), nogil=True)\n",
      "/home/gokcen/.miniconda3/lib/python3.8/site-packages/mnnpy/utils.py:14: NumbaWarning: \u001b[1m\n",
      "Compilation is falling back to object mode WITH looplifting enabled because Function \"l2_norm\" failed type inference due to: \u001b[1m\u001b[1m\u001b[1mNo implementation of function Function(<function norm at 0x7f31c4115e50>) found for signature:\n",
      " \n",
      " >>> norm(x=array(float32, 2d, A), axis=Literal[int](1))\n",
      " \n",
      "There are 2 candidate implementations:\n",
      "\u001b[1m    - Of which 2 did not match due to:\n",
      "    Overload in function 'norm_impl': File: numba/np/linalg.py: Line 2351.\n",
      "      With argument(s): '(x=array(float32, 2d, A), axis=int64)':\u001b[0m\n",
      "\u001b[1m     Rejected as the implementation raised a specific error:\n",
      "       TypeError: norm_impl() got an unexpected keyword argument 'x'\u001b[0m\n",
      "  raised from /home/gokcen/.miniconda3/lib/python3.8/site-packages/numba/core/typing/templates.py:775\n",
      "\u001b[0m\n",
      "\u001b[0m\u001b[1mDuring: resolving callee type: Function(<function norm at 0x7f31c4115e50>)\u001b[0m\n",
      "\u001b[0m\u001b[1mDuring: typing of call at /home/gokcen/.miniconda3/lib/python3.8/site-packages/mnnpy/utils.py (16)\n",
      "\u001b[0m\n",
      "\u001b[1m\n",
      "File \"../../.miniconda3/lib/python3.8/site-packages/mnnpy/utils.py\", line 16:\u001b[0m\n",
      "\u001b[1mdef l2_norm(in_matrix):\n",
      "\u001b[1m    return np.linalg.norm(x=in_matrix, axis=1)\n",
      "\u001b[0m    \u001b[1m^\u001b[0m\u001b[0m\n",
      "\u001b[0m\n",
      "  @jit(float32[:](float32[:, :]), nogil=True)\n",
      "/home/gokcen/.miniconda3/lib/python3.8/site-packages/numba/core/object_mode_passes.py:151: NumbaWarning: \u001b[1mFunction \"l2_norm\" was compiled in object mode without forceobj=True.\n",
      "\u001b[1m\n",
      "File \"../../.miniconda3/lib/python3.8/site-packages/mnnpy/utils.py\", line 15:\u001b[0m\n",
      "\u001b[1m@jit(float32[:](float32[:, :]), nogil=True)\n",
      "\u001b[1mdef l2_norm(in_matrix):\n",
      "\u001b[0m\u001b[1m^\u001b[0m\u001b[0m\n",
      "\u001b[0m\n",
      "  warnings.warn(errors.NumbaWarning(warn_msg,\n",
      "/home/gokcen/.miniconda3/lib/python3.8/site-packages/numba/core/object_mode_passes.py:161: NumbaDeprecationWarning: \u001b[1m\n",
      "Fall-back from the nopython compilation path to the object mode compilation path has been detected, this is deprecated behaviour.\n",
      "\n",
      "For more information visit https://numba.pydata.org/numba-doc/latest/reference/deprecation.html#deprecation-of-object-mode-fall-back-behaviour-when-using-jit\n",
      "\u001b[1m\n",
      "File \"../../.miniconda3/lib/python3.8/site-packages/mnnpy/utils.py\", line 15:\u001b[0m\n",
      "\u001b[1m@jit(float32[:](float32[:, :]), nogil=True)\n",
      "\u001b[1mdef l2_norm(in_matrix):\n",
      "\u001b[0m\u001b[1m^\u001b[0m\u001b[0m\n",
      "\u001b[0m\n",
      "  warnings.warn(errors.NumbaDeprecationWarning(msg,\n",
      "/home/gokcen/.miniconda3/lib/python3.8/site-packages/mnnpy/utils.py:14: NumbaWarning: \u001b[1mCode running in object mode won't allow parallel execution despite nogil=True.\u001b[0m\n",
      "  @jit(float32[:](float32[:, :]), nogil=True)\n",
      "/home/gokcen/.miniconda3/lib/python3.8/site-packages/mnnpy/utils.py:14: NumbaWarning: \u001b[1m\n",
      "Compilation is falling back to object mode WITH looplifting enabled because Function \"l2_norm\" failed type inference due to: \u001b[1m\u001b[1m\u001b[1mNo implementation of function Function(<function norm at 0x7f31c4115e50>) found for signature:\n",
      " \n",
      " >>> norm(x=array(float32, 2d, A), axis=Literal[int](1))\n",
      " \n",
      "There are 2 candidate implementations:\n",
      "\u001b[1m    - Of which 2 did not match due to:\n",
      "    Overload in function 'norm_impl': File: numba/np/linalg.py: Line 2351.\n",
      "      With argument(s): '(x=array(float32, 2d, A), axis=int64)':\u001b[0m\n",
      "\u001b[1m     Rejected as the implementation raised a specific error:\n",
      "       TypeError: norm_impl() got an unexpected keyword argument 'x'\u001b[0m\n",
      "  raised from /home/gokcen/.miniconda3/lib/python3.8/site-packages/numba/core/typing/templates.py:775\n",
      "\u001b[0m\n",
      "\u001b[0m\u001b[1mDuring: resolving callee type: Function(<function norm at 0x7f31c4115e50>)\u001b[0m\n",
      "\u001b[0m\u001b[1mDuring: typing of call at /home/gokcen/.miniconda3/lib/python3.8/site-packages/mnnpy/utils.py (16)\n",
      "\u001b[0m\n",
      "\u001b[1m\n",
      "File \"../../.miniconda3/lib/python3.8/site-packages/mnnpy/utils.py\", line 16:\u001b[0m\n",
      "\u001b[1mdef l2_norm(in_matrix):\n",
      "\u001b[1m    return np.linalg.norm(x=in_matrix, axis=1)\n",
      "\u001b[0m    \u001b[1m^\u001b[0m\u001b[0m\n",
      "\u001b[0m\n",
      "  @jit(float32[:](float32[:, :]), nogil=True)\n",
      "/home/gokcen/.miniconda3/lib/python3.8/site-packages/numba/core/object_mode_passes.py:151: NumbaWarning: \u001b[1mFunction \"l2_norm\" was compiled in object mode without forceobj=True.\n",
      "\u001b[1m\n",
      "File \"../../.miniconda3/lib/python3.8/site-packages/mnnpy/utils.py\", line 15:\u001b[0m\n",
      "\u001b[1m@jit(float32[:](float32[:, :]), nogil=True)\n",
      "\u001b[1mdef l2_norm(in_matrix):\n",
      "\u001b[0m\u001b[1m^\u001b[0m\u001b[0m\n",
      "\u001b[0m\n",
      "  warnings.warn(errors.NumbaWarning(warn_msg,\n",
      "/home/gokcen/.miniconda3/lib/python3.8/site-packages/numba/core/object_mode_passes.py:161: NumbaDeprecationWarning: \u001b[1m\n",
      "Fall-back from the nopython compilation path to the object mode compilation path has been detected, this is deprecated behaviour.\n",
      "\n",
      "For more information visit https://numba.pydata.org/numba-doc/latest/reference/deprecation.html#deprecation-of-object-mode-fall-back-behaviour-when-using-jit\n",
      "\u001b[1m\n",
      "File \"../../.miniconda3/lib/python3.8/site-packages/mnnpy/utils.py\", line 15:\u001b[0m\n",
      "\u001b[1m@jit(float32[:](float32[:, :]), nogil=True)\n",
      "\u001b[1mdef l2_norm(in_matrix):\n",
      "\u001b[0m\u001b[1m^\u001b[0m\u001b[0m\n",
      "\u001b[0m\n",
      "  warnings.warn(errors.NumbaDeprecationWarning(msg,\n",
      "/home/gokcen/.miniconda3/lib/python3.8/site-packages/mnnpy/utils.py:14: NumbaWarning: \u001b[1mCode running in object mode won't allow parallel execution despite nogil=True.\u001b[0m\n",
      "  @jit(float32[:](float32[:, :]), nogil=True)\n",
      "/home/gokcen/.miniconda3/lib/python3.8/site-packages/mnnpy/utils.py:14: NumbaWarning: \u001b[1m\n",
      "Compilation is falling back to object mode WITH looplifting enabled because Function \"l2_norm\" failed type inference due to: \u001b[1m\u001b[1m\u001b[1mNo implementation of function Function(<function norm at 0x7f31c4115e50>) found for signature:\n",
      " \n",
      " >>> norm(x=array(float32, 2d, A), axis=Literal[int](1))\n",
      " \n",
      "There are 2 candidate implementations:\n",
      "\u001b[1m    - Of which 2 did not match due to:\n",
      "    Overload in function 'norm_impl': File: numba/np/linalg.py: Line 2351.\n",
      "      With argument(s): '(x=array(float32, 2d, A), axis=int64)':\u001b[0m\n",
      "\u001b[1m     Rejected as the implementation raised a specific error:\n",
      "       TypeError: norm_impl() got an unexpected keyword argument 'x'\u001b[0m\n",
      "  raised from /home/gokcen/.miniconda3/lib/python3.8/site-packages/numba/core/typing/templates.py:775\n",
      "\u001b[0m\n",
      "\u001b[0m\u001b[1mDuring: resolving callee type: Function(<function norm at 0x7f31c4115e50>)\u001b[0m\n",
      "\u001b[0m\u001b[1mDuring: typing of call at /home/gokcen/.miniconda3/lib/python3.8/site-packages/mnnpy/utils.py (16)\n",
      "\u001b[0m\n",
      "\u001b[1m\n",
      "File \"../../.miniconda3/lib/python3.8/site-packages/mnnpy/utils.py\", line 16:\u001b[0m\n",
      "\u001b[1mdef l2_norm(in_matrix):\n",
      "\u001b[1m    return np.linalg.norm(x=in_matrix, axis=1)\n",
      "\u001b[0m    \u001b[1m^\u001b[0m\u001b[0m\n",
      "\u001b[0m\n",
      "  @jit(float32[:](float32[:, :]), nogil=True)\n",
      "/home/gokcen/.miniconda3/lib/python3.8/site-packages/numba/core/object_mode_passes.py:151: NumbaWarning: \u001b[1mFunction \"l2_norm\" was compiled in object mode without forceobj=True.\n",
      "\u001b[1m\n",
      "File \"../../.miniconda3/lib/python3.8/site-packages/mnnpy/utils.py\", line 15:\u001b[0m\n",
      "\u001b[1m@jit(float32[:](float32[:, :]), nogil=True)\n",
      "\u001b[1mdef l2_norm(in_matrix):\n",
      "\u001b[0m\u001b[1m^\u001b[0m\u001b[0m\n",
      "\u001b[0m\n",
      "  warnings.warn(errors.NumbaWarning(warn_msg,\n",
      "/home/gokcen/.miniconda3/lib/python3.8/site-packages/numba/core/object_mode_passes.py:161: NumbaDeprecationWarning: \u001b[1m\n",
      "Fall-back from the nopython compilation path to the object mode compilation path has been detected, this is deprecated behaviour.\n",
      "\n",
      "For more information visit https://numba.pydata.org/numba-doc/latest/reference/deprecation.html#deprecation-of-object-mode-fall-back-behaviour-when-using-jit\n",
      "\u001b[1m\n",
      "File \"../../.miniconda3/lib/python3.8/site-packages/mnnpy/utils.py\", line 15:\u001b[0m\n",
      "\u001b[1m@jit(float32[:](float32[:, :]), nogil=True)\n",
      "\u001b[1mdef l2_norm(in_matrix):\n",
      "\u001b[0m\u001b[1m^\u001b[0m\u001b[0m\n",
      "\u001b[0m\n",
      "  warnings.warn(errors.NumbaDeprecationWarning(msg,\n",
      "/home/gokcen/.miniconda3/lib/python3.8/site-packages/mnnpy/utils.py:14: NumbaWarning: \u001b[1mCode running in object mode won't allow parallel execution despite nogil=True.\u001b[0m\n",
      "  @jit(float32[:](float32[:, :]), nogil=True)\n",
      "/home/gokcen/.miniconda3/lib/python3.8/site-packages/mnnpy/utils.py:14: NumbaWarning: \u001b[1m\n",
      "Compilation is falling back to object mode WITH looplifting enabled because Function \"l2_norm\" failed type inference due to: \u001b[1m\u001b[1m\u001b[1mNo implementation of function Function(<function norm at 0x7f31c4115e50>) found for signature:\n",
      " \n",
      " >>> norm(x=array(float32, 2d, A), axis=Literal[int](1))\n",
      " \n",
      "There are 2 candidate implementations:\n",
      "\u001b[1m    - Of which 2 did not match due to:\n",
      "    Overload in function 'norm_impl': File: numba/np/linalg.py: Line 2351.\n",
      "      With argument(s): '(x=array(float32, 2d, A), axis=int64)':\u001b[0m\n",
      "\u001b[1m     Rejected as the implementation raised a specific error:\n",
      "       TypeError: norm_impl() got an unexpected keyword argument 'x'\u001b[0m\n",
      "  raised from /home/gokcen/.miniconda3/lib/python3.8/site-packages/numba/core/typing/templates.py:775\n",
      "\u001b[0m\n",
      "\u001b[0m\u001b[1mDuring: resolving callee type: Function(<function norm at 0x7f31c4115e50>)\u001b[0m\n",
      "\u001b[0m\u001b[1mDuring: typing of call at /home/gokcen/.miniconda3/lib/python3.8/site-packages/mnnpy/utils.py (16)\n",
      "\u001b[0m\n",
      "\u001b[1m\n",
      "File \"../../.miniconda3/lib/python3.8/site-packages/mnnpy/utils.py\", line 16:\u001b[0m\n",
      "\u001b[1mdef l2_norm(in_matrix):\n",
      "\u001b[1m    return np.linalg.norm(x=in_matrix, axis=1)\n",
      "\u001b[0m    \u001b[1m^\u001b[0m\u001b[0m\n",
      "\u001b[0m\n",
      "  @jit(float32[:](float32[:, :]), nogil=True)\n",
      "/home/gokcen/.miniconda3/lib/python3.8/site-packages/numba/core/object_mode_passes.py:151: NumbaWarning: \u001b[1mFunction \"l2_norm\" was compiled in object mode without forceobj=True.\n",
      "\u001b[1m\n",
      "File \"../../.miniconda3/lib/python3.8/site-packages/mnnpy/utils.py\", line 15:\u001b[0m\n",
      "\u001b[1m@jit(float32[:](float32[:, :]), nogil=True)\n",
      "\u001b[1mdef l2_norm(in_matrix):\n",
      "\u001b[0m\u001b[1m^\u001b[0m\u001b[0m\n",
      "\u001b[0m\n",
      "  warnings.warn(errors.NumbaWarning(warn_msg,\n",
      "/home/gokcen/.miniconda3/lib/python3.8/site-packages/numba/core/object_mode_passes.py:161: NumbaDeprecationWarning: \u001b[1m\n",
      "Fall-back from the nopython compilation path to the object mode compilation path has been detected, this is deprecated behaviour.\n",
      "\n",
      "For more information visit https://numba.pydata.org/numba-doc/latest/reference/deprecation.html#deprecation-of-object-mode-fall-back-behaviour-when-using-jit\n",
      "\u001b[1m\n",
      "File \"../../.miniconda3/lib/python3.8/site-packages/mnnpy/utils.py\", line 15:\u001b[0m\n",
      "\u001b[1m@jit(float32[:](float32[:, :]), nogil=True)\n",
      "\u001b[1mdef l2_norm(in_matrix):\n",
      "\u001b[0m\u001b[1m^\u001b[0m\u001b[0m\n",
      "\u001b[0m\n",
      "  warnings.warn(errors.NumbaDeprecationWarning(msg,\n",
      "/home/gokcen/.miniconda3/lib/python3.8/site-packages/mnnpy/utils.py:14: NumbaWarning: \u001b[1mCode running in object mode won't allow parallel execution despite nogil=True.\u001b[0m\n",
      "  @jit(float32[:](float32[:, :]), nogil=True)\n",
      "/home/gokcen/.miniconda3/lib/python3.8/site-packages/mnnpy/utils.py:14: NumbaWarning: \u001b[1m\n",
      "Compilation is falling back to object mode WITH looplifting enabled because Function \"l2_norm\" failed type inference due to: \u001b[1m\u001b[1m\u001b[1mNo implementation of function Function(<function norm at 0x7f31c4115e50>) found for signature:\n",
      " \n",
      " >>> norm(x=array(float32, 2d, A), axis=Literal[int](1))\n",
      " \n",
      "There are 2 candidate implementations:\n",
      "\u001b[1m    - Of which 2 did not match due to:\n",
      "    Overload in function 'norm_impl': File: numba/np/linalg.py: Line 2351.\n",
      "      With argument(s): '(x=array(float32, 2d, A), axis=int64)':\u001b[0m\n",
      "\u001b[1m     Rejected as the implementation raised a specific error:\n",
      "       TypeError: norm_impl() got an unexpected keyword argument 'x'\u001b[0m\n",
      "  raised from /home/gokcen/.miniconda3/lib/python3.8/site-packages/numba/core/typing/templates.py:775\n",
      "\u001b[0m\n",
      "\u001b[0m\u001b[1mDuring: resolving callee type: Function(<function norm at 0x7f31c4115e50>)\u001b[0m\n",
      "\u001b[0m\u001b[1mDuring: typing of call at /home/gokcen/.miniconda3/lib/python3.8/site-packages/mnnpy/utils.py (16)\n",
      "\u001b[0m\n",
      "\u001b[1m\n",
      "File \"../../.miniconda3/lib/python3.8/site-packages/mnnpy/utils.py\", line 16:\u001b[0m\n",
      "\u001b[1mdef l2_norm(in_matrix):\n",
      "\u001b[1m    return np.linalg.norm(x=in_matrix, axis=1)\n",
      "\u001b[0m    \u001b[1m^\u001b[0m\u001b[0m\n",
      "\u001b[0m\n",
      "  @jit(float32[:](float32[:, :]), nogil=True)\n",
      "/home/gokcen/.miniconda3/lib/python3.8/site-packages/numba/core/object_mode_passes.py:151: NumbaWarning: \u001b[1mFunction \"l2_norm\" was compiled in object mode without forceobj=True.\n",
      "\u001b[1m\n",
      "File \"../../.miniconda3/lib/python3.8/site-packages/mnnpy/utils.py\", line 15:\u001b[0m\n",
      "\u001b[1m@jit(float32[:](float32[:, :]), nogil=True)\n",
      "\u001b[1mdef l2_norm(in_matrix):\n",
      "\u001b[0m\u001b[1m^\u001b[0m\u001b[0m\n",
      "\u001b[0m\n",
      "  warnings.warn(errors.NumbaWarning(warn_msg,\n",
      "/home/gokcen/.miniconda3/lib/python3.8/site-packages/numba/core/object_mode_passes.py:161: NumbaDeprecationWarning: \u001b[1m\n",
      "Fall-back from the nopython compilation path to the object mode compilation path has been detected, this is deprecated behaviour.\n",
      "\n",
      "For more information visit https://numba.pydata.org/numba-doc/latest/reference/deprecation.html#deprecation-of-object-mode-fall-back-behaviour-when-using-jit\n",
      "\u001b[1m\n",
      "File \"../../.miniconda3/lib/python3.8/site-packages/mnnpy/utils.py\", line 15:\u001b[0m\n",
      "\u001b[1m@jit(float32[:](float32[:, :]), nogil=True)\n",
      "\u001b[1mdef l2_norm(in_matrix):\n",
      "\u001b[0m\u001b[1m^\u001b[0m\u001b[0m\n",
      "\u001b[0m\n",
      "  warnings.warn(errors.NumbaDeprecationWarning(msg,\n",
      "/home/gokcen/.miniconda3/lib/python3.8/site-packages/mnnpy/utils.py:14: NumbaWarning: \u001b[1mCode running in object mode won't allow parallel execution despite nogil=True.\u001b[0m\n",
      "  @jit(float32[:](float32[:, :]), nogil=True)\n",
      "/home/gokcen/.miniconda3/lib/python3.8/site-packages/mnnpy/utils.py:14: NumbaWarning: \u001b[1m\n",
      "Compilation is falling back to object mode WITH looplifting enabled because Function \"l2_norm\" failed type inference due to: \u001b[1m\u001b[1m\u001b[1mNo implementation of function Function(<function norm at 0x7f31c4115e50>) found for signature:\n",
      " \n",
      " >>> norm(x=array(float32, 2d, A), axis=Literal[int](1))\n",
      " \n",
      "There are 2 candidate implementations:\n",
      "\u001b[1m    - Of which 2 did not match due to:\n",
      "    Overload in function 'norm_impl': File: numba/np/linalg.py: Line 2351.\n",
      "      With argument(s): '(x=array(float32, 2d, A), axis=int64)':\u001b[0m\n",
      "\u001b[1m     Rejected as the implementation raised a specific error:\n",
      "       TypeError: norm_impl() got an unexpected keyword argument 'x'\u001b[0m\n",
      "  raised from /home/gokcen/.miniconda3/lib/python3.8/site-packages/numba/core/typing/templates.py:775\n",
      "\u001b[0m\n",
      "\u001b[0m\u001b[1mDuring: resolving callee type: Function(<function norm at 0x7f31c4115e50>)\u001b[0m\n",
      "\u001b[0m\u001b[1mDuring: typing of call at /home/gokcen/.miniconda3/lib/python3.8/site-packages/mnnpy/utils.py (16)\n",
      "\u001b[0m\n",
      "\u001b[1m\n",
      "File \"../../.miniconda3/lib/python3.8/site-packages/mnnpy/utils.py\", line 16:\u001b[0m\n",
      "\u001b[1mdef l2_norm(in_matrix):\n",
      "\u001b[1m    return np.linalg.norm(x=in_matrix, axis=1)\n",
      "\u001b[0m    \u001b[1m^\u001b[0m\u001b[0m\n",
      "\u001b[0m\n",
      "  @jit(float32[:](float32[:, :]), nogil=True)\n",
      "/home/gokcen/.miniconda3/lib/python3.8/site-packages/mnnpy/utils.py:14: NumbaWarning: \u001b[1m\n",
      "Compilation is falling back to object mode WITH looplifting enabled because Function \"l2_norm\" failed type inference due to: \u001b[1m\u001b[1m\u001b[1mNo implementation of function Function(<function norm at 0x7f31c4115e50>) found for signature:\n",
      " \n",
      " >>> norm(x=array(float32, 2d, A), axis=Literal[int](1))\n",
      " \n",
      "There are 2 candidate implementations:\n",
      "\u001b[1m    - Of which 2 did not match due to:\n",
      "    Overload in function 'norm_impl': File: numba/np/linalg.py: Line 2351.\n",
      "      With argument(s): '(x=array(float32, 2d, A), axis=int64)':\u001b[0m\n",
      "\u001b[1m     Rejected as the implementation raised a specific error:\n",
      "       TypeError: norm_impl() got an unexpected keyword argument 'x'\u001b[0m\n",
      "  raised from /home/gokcen/.miniconda3/lib/python3.8/site-packages/numba/core/typing/templates.py:775\n",
      "\u001b[0m\n",
      "\u001b[0m\u001b[1mDuring: resolving callee type: Function(<function norm at 0x7f31c4115e50>)\u001b[0m\n",
      "\u001b[0m\u001b[1mDuring: typing of call at /home/gokcen/.miniconda3/lib/python3.8/site-packages/mnnpy/utils.py (16)\n",
      "\u001b[0m\n",
      "\u001b[1m\n",
      "File \"../../.miniconda3/lib/python3.8/site-packages/mnnpy/utils.py\", line 16:\u001b[0m\n",
      "\u001b[1mdef l2_norm(in_matrix):\n",
      "\u001b[1m    return np.linalg.norm(x=in_matrix, axis=1)\n",
      "\u001b[0m    \u001b[1m^\u001b[0m\u001b[0m\n",
      "\u001b[0m\n",
      "  @jit(float32[:](float32[:, :]), nogil=True)\n",
      "/home/gokcen/.miniconda3/lib/python3.8/site-packages/mnnpy/utils.py:14: NumbaWarning: \u001b[1m\n",
      "Compilation is falling back to object mode WITH looplifting enabled because Function \"l2_norm\" failed type inference due to: \u001b[1m\u001b[1m\u001b[1mNo implementation of function Function(<function norm at 0x7f31c4115e50>) found for signature:\n",
      " \n",
      " >>> norm(x=array(float32, 2d, A), axis=Literal[int](1))\n",
      " \n",
      "There are 2 candidate implementations:\n",
      "\u001b[1m    - Of which 2 did not match due to:\n",
      "    Overload in function 'norm_impl': File: numba/np/linalg.py: Line 2351.\n",
      "      With argument(s): '(x=array(float32, 2d, A), axis=int64)':\u001b[0m\n",
      "\u001b[1m     Rejected as the implementation raised a specific error:\n",
      "       TypeError: norm_impl() got an unexpected keyword argument 'x'\u001b[0m\n",
      "  raised from /home/gokcen/.miniconda3/lib/python3.8/site-packages/numba/core/typing/templates.py:775\n",
      "\u001b[0m\n",
      "\u001b[0m\u001b[1mDuring: resolving callee type: Function(<function norm at 0x7f31c4115e50>)\u001b[0m\n",
      "\u001b[0m\u001b[1mDuring: typing of call at /home/gokcen/.miniconda3/lib/python3.8/site-packages/mnnpy/utils.py (16)\n",
      "\u001b[0m\n",
      "\u001b[1m\n",
      "File \"../../.miniconda3/lib/python3.8/site-packages/mnnpy/utils.py\", line 16:\u001b[0m\n",
      "\u001b[1mdef l2_norm(in_matrix):\n",
      "\u001b[1m    return np.linalg.norm(x=in_matrix, axis=1)\n",
      "\u001b[0m    \u001b[1m^\u001b[0m\u001b[0m\n",
      "\u001b[0m\n",
      "  @jit(float32[:](float32[:, :]), nogil=True)\n",
      "/home/gokcen/.miniconda3/lib/python3.8/site-packages/numba/core/object_mode_passes.py:151: NumbaWarning: \u001b[1mFunction \"l2_norm\" was compiled in object mode without forceobj=True.\n",
      "\u001b[1m\n",
      "File \"../../.miniconda3/lib/python3.8/site-packages/mnnpy/utils.py\", line 15:\u001b[0m\n",
      "\u001b[1m@jit(float32[:](float32[:, :]), nogil=True)\n",
      "\u001b[1mdef l2_norm(in_matrix):\n",
      "\u001b[0m\u001b[1m^\u001b[0m\u001b[0m\n",
      "\u001b[0m\n",
      "  warnings.warn(errors.NumbaWarning(warn_msg,\n",
      "/home/gokcen/.miniconda3/lib/python3.8/site-packages/numba/core/object_mode_passes.py:161: NumbaDeprecationWarning: \u001b[1m\n",
      "Fall-back from the nopython compilation path to the object mode compilation path has been detected, this is deprecated behaviour.\n",
      "\n",
      "For more information visit https://numba.pydata.org/numba-doc/latest/reference/deprecation.html#deprecation-of-object-mode-fall-back-behaviour-when-using-jit\n",
      "\u001b[1m\n",
      "File \"../../.miniconda3/lib/python3.8/site-packages/mnnpy/utils.py\", line 15:\u001b[0m\n",
      "\u001b[1m@jit(float32[:](float32[:, :]), nogil=True)\n",
      "\u001b[1mdef l2_norm(in_matrix):\n",
      "\u001b[0m\u001b[1m^\u001b[0m\u001b[0m\n",
      "\u001b[0m\n",
      "  warnings.warn(errors.NumbaDeprecationWarning(msg,\n",
      "/home/gokcen/.miniconda3/lib/python3.8/site-packages/mnnpy/utils.py:14: NumbaWarning: \u001b[1mCode running in object mode won't allow parallel execution despite nogil=True.\u001b[0m\n",
      "  @jit(float32[:](float32[:, :]), nogil=True)\n",
      "/home/gokcen/.miniconda3/lib/python3.8/site-packages/mnnpy/utils.py:14: NumbaWarning: \u001b[1m\n",
      "Compilation is falling back to object mode WITH looplifting enabled because Function \"l2_norm\" failed type inference due to: \u001b[1m\u001b[1m\u001b[1mNo implementation of function Function(<function norm at 0x7f31c4115e50>) found for signature:\n",
      " \n",
      " >>> norm(x=array(float32, 2d, A), axis=Literal[int](1))\n",
      " \n",
      "There are 2 candidate implementations:\n",
      "\u001b[1m    - Of which 2 did not match due to:\n",
      "    Overload in function 'norm_impl': File: numba/np/linalg.py: Line 2351.\n",
      "      With argument(s): '(x=array(float32, 2d, A), axis=int64)':\u001b[0m\n",
      "\u001b[1m     Rejected as the implementation raised a specific error:\n",
      "       TypeError: norm_impl() got an unexpected keyword argument 'x'\u001b[0m\n",
      "  raised from /home/gokcen/.miniconda3/lib/python3.8/site-packages/numba/core/typing/templates.py:775\n",
      "\u001b[0m\n",
      "\u001b[0m\u001b[1mDuring: resolving callee type: Function(<function norm at 0x7f31c4115e50>)\u001b[0m\n",
      "\u001b[0m\u001b[1mDuring: typing of call at /home/gokcen/.miniconda3/lib/python3.8/site-packages/mnnpy/utils.py (16)\n",
      "\u001b[0m\n",
      "\u001b[1m\n",
      "File \"../../.miniconda3/lib/python3.8/site-packages/mnnpy/utils.py\", line 16:\u001b[0m\n",
      "\u001b[1mdef l2_norm(in_matrix):\n",
      "\u001b[1m    return np.linalg.norm(x=in_matrix, axis=1)\n",
      "\u001b[0m    \u001b[1m^\u001b[0m\u001b[0m\n",
      "\u001b[0m\n",
      "  @jit(float32[:](float32[:, :]), nogil=True)\n",
      "/home/gokcen/.miniconda3/lib/python3.8/site-packages/numba/core/object_mode_passes.py:151: NumbaWarning: \u001b[1mFunction \"l2_norm\" was compiled in object mode without forceobj=True.\n",
      "\u001b[1m\n",
      "File \"../../.miniconda3/lib/python3.8/site-packages/mnnpy/utils.py\", line 15:\u001b[0m\n",
      "\u001b[1m@jit(float32[:](float32[:, :]), nogil=True)\n",
      "\u001b[1mdef l2_norm(in_matrix):\n",
      "\u001b[0m\u001b[1m^\u001b[0m\u001b[0m\n",
      "\u001b[0m\n",
      "  warnings.warn(errors.NumbaWarning(warn_msg,\n",
      "/home/gokcen/.miniconda3/lib/python3.8/site-packages/numba/core/object_mode_passes.py:151: NumbaWarning: \u001b[1mFunction \"l2_norm\" was compiled in object mode without forceobj=True.\n",
      "\u001b[1m\n",
      "File \"../../.miniconda3/lib/python3.8/site-packages/mnnpy/utils.py\", line 15:\u001b[0m\n",
      "\u001b[1m@jit(float32[:](float32[:, :]), nogil=True)\n",
      "\u001b[1mdef l2_norm(in_matrix):\n",
      "\u001b[0m\u001b[1m^\u001b[0m\u001b[0m\n",
      "\u001b[0m\n",
      "  warnings.warn(errors.NumbaWarning(warn_msg,\n",
      "/home/gokcen/.miniconda3/lib/python3.8/site-packages/numba/core/object_mode_passes.py:161: NumbaDeprecationWarning: \u001b[1m\n",
      "Fall-back from the nopython compilation path to the object mode compilation path has been detected, this is deprecated behaviour.\n",
      "\n",
      "For more information visit https://numba.pydata.org/numba-doc/latest/reference/deprecation.html#deprecation-of-object-mode-fall-back-behaviour-when-using-jit\n",
      "\u001b[1m\n",
      "File \"../../.miniconda3/lib/python3.8/site-packages/mnnpy/utils.py\", line 15:\u001b[0m\n",
      "\u001b[1m@jit(float32[:](float32[:, :]), nogil=True)\n",
      "\u001b[1mdef l2_norm(in_matrix):\n",
      "\u001b[0m\u001b[1m^\u001b[0m\u001b[0m\n",
      "\u001b[0m\n",
      "  warnings.warn(errors.NumbaDeprecationWarning(msg,\n",
      "/home/gokcen/.miniconda3/lib/python3.8/site-packages/numba/core/object_mode_passes.py:161: NumbaDeprecationWarning: \u001b[1m\n",
      "Fall-back from the nopython compilation path to the object mode compilation path has been detected, this is deprecated behaviour.\n",
      "\n",
      "For more information visit https://numba.pydata.org/numba-doc/latest/reference/deprecation.html#deprecation-of-object-mode-fall-back-behaviour-when-using-jit\n",
      "\u001b[1m\n",
      "File \"../../.miniconda3/lib/python3.8/site-packages/mnnpy/utils.py\", line 15:\u001b[0m\n",
      "\u001b[1m@jit(float32[:](float32[:, :]), nogil=True)\n",
      "\u001b[1mdef l2_norm(in_matrix):\n",
      "\u001b[0m\u001b[1m^\u001b[0m\u001b[0m\n",
      "\u001b[0m\n",
      "  warnings.warn(errors.NumbaDeprecationWarning(msg,\n",
      "/home/gokcen/.miniconda3/lib/python3.8/site-packages/mnnpy/utils.py:14: NumbaWarning: \u001b[1mCode running in object mode won't allow parallel execution despite nogil=True.\u001b[0m\n",
      "  @jit(float32[:](float32[:, :]), nogil=True)\n",
      "/home/gokcen/.miniconda3/lib/python3.8/site-packages/mnnpy/utils.py:14: NumbaWarning: \u001b[1mCode running in object mode won't allow parallel execution despite nogil=True.\u001b[0m\n",
      "  @jit(float32[:](float32[:, :]), nogil=True)\n",
      "/home/gokcen/.miniconda3/lib/python3.8/site-packages/mnnpy/utils.py:14: NumbaWarning: \u001b[1m\n",
      "Compilation is falling back to object mode WITH looplifting enabled because Function \"l2_norm\" failed type inference due to: \u001b[1m\u001b[1m\u001b[1mNo implementation of function Function(<function norm at 0x7f31c4115e50>) found for signature:\n",
      " \n",
      " >>> norm(x=array(float32, 2d, A), axis=Literal[int](1))\n",
      " \n",
      "There are 2 candidate implementations:\n",
      "\u001b[1m    - Of which 2 did not match due to:\n",
      "    Overload in function 'norm_impl': File: numba/np/linalg.py: Line 2351.\n",
      "      With argument(s): '(x=array(float32, 2d, A), axis=int64)':\u001b[0m\n",
      "\u001b[1m     Rejected as the implementation raised a specific error:\n",
      "       TypeError: norm_impl() got an unexpected keyword argument 'x'\u001b[0m\n",
      "  raised from /home/gokcen/.miniconda3/lib/python3.8/site-packages/numba/core/typing/templates.py:775\n",
      "\u001b[0m\n",
      "\u001b[0m\u001b[1mDuring: resolving callee type: Function(<function norm at 0x7f31c4115e50>)\u001b[0m\n",
      "\u001b[0m\u001b[1mDuring: typing of call at /home/gokcen/.miniconda3/lib/python3.8/site-packages/mnnpy/utils.py (16)\n",
      "\u001b[0m\n",
      "\u001b[1m\n",
      "File \"../../.miniconda3/lib/python3.8/site-packages/mnnpy/utils.py\", line 16:\u001b[0m\n",
      "\u001b[1mdef l2_norm(in_matrix):\n",
      "\u001b[1m    return np.linalg.norm(x=in_matrix, axis=1)\n",
      "\u001b[0m    \u001b[1m^\u001b[0m\u001b[0m\n",
      "\u001b[0m\n",
      "  @jit(float32[:](float32[:, :]), nogil=True)\n",
      "/home/gokcen/.miniconda3/lib/python3.8/site-packages/mnnpy/utils.py:14: NumbaWarning: \u001b[1m\n",
      "Compilation is falling back to object mode WITH looplifting enabled because Function \"l2_norm\" failed type inference due to: \u001b[1m\u001b[1m\u001b[1mNo implementation of function Function(<function norm at 0x7f31c4115e50>) found for signature:\n",
      " \n",
      " >>> norm(x=array(float32, 2d, A), axis=Literal[int](1))\n",
      " \n",
      "There are 2 candidate implementations:\n",
      "\u001b[1m    - Of which 2 did not match due to:\n",
      "    Overload in function 'norm_impl': File: numba/np/linalg.py: Line 2351.\n",
      "      With argument(s): '(x=array(float32, 2d, A), axis=int64)':\u001b[0m\n",
      "\u001b[1m     Rejected as the implementation raised a specific error:\n",
      "       TypeError: norm_impl() got an unexpected keyword argument 'x'\u001b[0m\n",
      "  raised from /home/gokcen/.miniconda3/lib/python3.8/site-packages/numba/core/typing/templates.py:775\n",
      "\u001b[0m\n",
      "\u001b[0m\u001b[1mDuring: resolving callee type: Function(<function norm at 0x7f31c4115e50>)\u001b[0m\n",
      "\u001b[0m\u001b[1mDuring: typing of call at /home/gokcen/.miniconda3/lib/python3.8/site-packages/mnnpy/utils.py (16)\n",
      "\u001b[0m\n",
      "\u001b[1m\n",
      "File \"../../.miniconda3/lib/python3.8/site-packages/mnnpy/utils.py\", line 16:\u001b[0m\n",
      "\u001b[1mdef l2_norm(in_matrix):\n",
      "\u001b[1m    return np.linalg.norm(x=in_matrix, axis=1)\n",
      "\u001b[0m    \u001b[1m^\u001b[0m\u001b[0m\n",
      "\u001b[0m\n",
      "  @jit(float32[:](float32[:, :]), nogil=True)\n",
      "/home/gokcen/.miniconda3/lib/python3.8/site-packages/mnnpy/utils.py:14: NumbaWarning: \u001b[1m\n",
      "Compilation is falling back to object mode WITH looplifting enabled because Function \"l2_norm\" failed type inference due to: \u001b[1m\u001b[1m\u001b[1mNo implementation of function Function(<function norm at 0x7f31c4115e50>) found for signature:\n",
      " \n",
      " >>> norm(x=array(float32, 2d, A), axis=Literal[int](1))\n",
      " \n",
      "There are 2 candidate implementations:\n",
      "\u001b[1m    - Of which 2 did not match due to:\n",
      "    Overload in function 'norm_impl': File: numba/np/linalg.py: Line 2351.\n",
      "      With argument(s): '(x=array(float32, 2d, A), axis=int64)':\u001b[0m\n",
      "\u001b[1m     Rejected as the implementation raised a specific error:\n",
      "       TypeError: norm_impl() got an unexpected keyword argument 'x'\u001b[0m\n",
      "  raised from /home/gokcen/.miniconda3/lib/python3.8/site-packages/numba/core/typing/templates.py:775\n",
      "\u001b[0m\n",
      "\u001b[0m\u001b[1mDuring: resolving callee type: Function(<function norm at 0x7f31c4115e50>)\u001b[0m\n",
      "\u001b[0m\u001b[1mDuring: typing of call at /home/gokcen/.miniconda3/lib/python3.8/site-packages/mnnpy/utils.py (16)\n",
      "\u001b[0m\n",
      "\u001b[1m\n",
      "File \"../../.miniconda3/lib/python3.8/site-packages/mnnpy/utils.py\", line 16:\u001b[0m\n",
      "\u001b[1mdef l2_norm(in_matrix):\n",
      "\u001b[1m    return np.linalg.norm(x=in_matrix, axis=1)\n",
      "\u001b[0m    \u001b[1m^\u001b[0m\u001b[0m\n",
      "\u001b[0m\n",
      "  @jit(float32[:](float32[:, :]), nogil=True)\n",
      "/home/gokcen/.miniconda3/lib/python3.8/site-packages/numba/core/object_mode_passes.py:151: NumbaWarning: \u001b[1mFunction \"l2_norm\" was compiled in object mode without forceobj=True.\n",
      "\u001b[1m\n",
      "File \"../../.miniconda3/lib/python3.8/site-packages/mnnpy/utils.py\", line 15:\u001b[0m\n",
      "\u001b[1m@jit(float32[:](float32[:, :]), nogil=True)\n",
      "\u001b[1mdef l2_norm(in_matrix):\n",
      "\u001b[0m\u001b[1m^\u001b[0m\u001b[0m\n",
      "\u001b[0m\n",
      "  warnings.warn(errors.NumbaWarning(warn_msg,\n",
      "/home/gokcen/.miniconda3/lib/python3.8/site-packages/numba/core/object_mode_passes.py:161: NumbaDeprecationWarning: \u001b[1m\n",
      "Fall-back from the nopython compilation path to the object mode compilation path has been detected, this is deprecated behaviour.\n",
      "\n",
      "For more information visit https://numba.pydata.org/numba-doc/latest/reference/deprecation.html#deprecation-of-object-mode-fall-back-behaviour-when-using-jit\n",
      "\u001b[1m\n",
      "File \"../../.miniconda3/lib/python3.8/site-packages/mnnpy/utils.py\", line 15:\u001b[0m\n",
      "\u001b[1m@jit(float32[:](float32[:, :]), nogil=True)\n",
      "\u001b[1mdef l2_norm(in_matrix):\n",
      "\u001b[0m\u001b[1m^\u001b[0m\u001b[0m\n",
      "\u001b[0m\n",
      "  warnings.warn(errors.NumbaDeprecationWarning(msg,\n",
      "/home/gokcen/.miniconda3/lib/python3.8/site-packages/mnnpy/utils.py:14: NumbaWarning: \u001b[1mCode running in object mode won't allow parallel execution despite nogil=True.\u001b[0m\n",
      "  @jit(float32[:](float32[:, :]), nogil=True)\n",
      "/home/gokcen/.miniconda3/lib/python3.8/site-packages/mnnpy/utils.py:14: NumbaWarning: \u001b[1m\n",
      "Compilation is falling back to object mode WITH looplifting enabled because Function \"l2_norm\" failed type inference due to: \u001b[1m\u001b[1m\u001b[1mNo implementation of function Function(<function norm at 0x7f31c4115e50>) found for signature:\n",
      " \n",
      " >>> norm(x=array(float32, 2d, A), axis=Literal[int](1))\n",
      " \n",
      "There are 2 candidate implementations:\n",
      "\u001b[1m    - Of which 2 did not match due to:\n",
      "    Overload in function 'norm_impl': File: numba/np/linalg.py: Line 2351.\n",
      "      With argument(s): '(x=array(float32, 2d, A), axis=int64)':\u001b[0m\n",
      "\u001b[1m     Rejected as the implementation raised a specific error:\n",
      "       TypeError: norm_impl() got an unexpected keyword argument 'x'\u001b[0m\n",
      "  raised from /home/gokcen/.miniconda3/lib/python3.8/site-packages/numba/core/typing/templates.py:775\n",
      "\u001b[0m\n",
      "\u001b[0m\u001b[1mDuring: resolving callee type: Function(<function norm at 0x7f31c4115e50>)\u001b[0m\n",
      "\u001b[0m\u001b[1mDuring: typing of call at /home/gokcen/.miniconda3/lib/python3.8/site-packages/mnnpy/utils.py (16)\n",
      "\u001b[0m\n",
      "\u001b[1m\n",
      "File \"../../.miniconda3/lib/python3.8/site-packages/mnnpy/utils.py\", line 16:\u001b[0m\n",
      "\u001b[1mdef l2_norm(in_matrix):\n",
      "\u001b[1m    return np.linalg.norm(x=in_matrix, axis=1)\n",
      "\u001b[0m    \u001b[1m^\u001b[0m\u001b[0m\n",
      "\u001b[0m\n",
      "  @jit(float32[:](float32[:, :]), nogil=True)\n",
      "/home/gokcen/.miniconda3/lib/python3.8/site-packages/mnnpy/utils.py:14: NumbaWarning: \u001b[1m\n",
      "Compilation is falling back to object mode WITH looplifting enabled because Function \"l2_norm\" failed type inference due to: \u001b[1m\u001b[1m\u001b[1mNo implementation of function Function(<function norm at 0x7f31c4115e50>) found for signature:\n",
      " \n",
      " >>> norm(x=array(float32, 2d, A), axis=Literal[int](1))\n",
      " \n",
      "There are 2 candidate implementations:\n",
      "\u001b[1m    - Of which 2 did not match due to:\n",
      "    Overload in function 'norm_impl': File: numba/np/linalg.py: Line 2351.\n",
      "      With argument(s): '(x=array(float32, 2d, A), axis=int64)':\u001b[0m\n",
      "\u001b[1m     Rejected as the implementation raised a specific error:\n",
      "       TypeError: norm_impl() got an unexpected keyword argument 'x'\u001b[0m\n",
      "  raised from /home/gokcen/.miniconda3/lib/python3.8/site-packages/numba/core/typing/templates.py:775\n",
      "\u001b[0m\n",
      "\u001b[0m\u001b[1mDuring: resolving callee type: Function(<function norm at 0x7f31c4115e50>)\u001b[0m\n",
      "\u001b[0m\u001b[1mDuring: typing of call at /home/gokcen/.miniconda3/lib/python3.8/site-packages/mnnpy/utils.py (16)\n",
      "\u001b[0m\n",
      "\u001b[1m\n",
      "File \"../../.miniconda3/lib/python3.8/site-packages/mnnpy/utils.py\", line 16:\u001b[0m\n",
      "\u001b[1mdef l2_norm(in_matrix):\n",
      "\u001b[1m    return np.linalg.norm(x=in_matrix, axis=1)\n",
      "\u001b[0m    \u001b[1m^\u001b[0m\u001b[0m\n",
      "\u001b[0m\n",
      "  @jit(float32[:](float32[:, :]), nogil=True)\n",
      "/home/gokcen/.miniconda3/lib/python3.8/site-packages/numba/core/object_mode_passes.py:151: NumbaWarning: \u001b[1mFunction \"l2_norm\" was compiled in object mode without forceobj=True.\n",
      "\u001b[1m\n",
      "File \"../../.miniconda3/lib/python3.8/site-packages/mnnpy/utils.py\", line 15:\u001b[0m\n",
      "\u001b[1m@jit(float32[:](float32[:, :]), nogil=True)\n",
      "\u001b[1mdef l2_norm(in_matrix):\n",
      "\u001b[0m\u001b[1m^\u001b[0m\u001b[0m\n",
      "\u001b[0m\n",
      "  warnings.warn(errors.NumbaWarning(warn_msg,\n",
      "/home/gokcen/.miniconda3/lib/python3.8/site-packages/numba/core/object_mode_passes.py:161: NumbaDeprecationWarning: \u001b[1m\n",
      "Fall-back from the nopython compilation path to the object mode compilation path has been detected, this is deprecated behaviour.\n",
      "\n",
      "For more information visit https://numba.pydata.org/numba-doc/latest/reference/deprecation.html#deprecation-of-object-mode-fall-back-behaviour-when-using-jit\n",
      "\u001b[1m\n",
      "File \"../../.miniconda3/lib/python3.8/site-packages/mnnpy/utils.py\", line 15:\u001b[0m\n",
      "\u001b[1m@jit(float32[:](float32[:, :]), nogil=True)\n",
      "\u001b[1mdef l2_norm(in_matrix):\n",
      "\u001b[0m\u001b[1m^\u001b[0m\u001b[0m\n",
      "\u001b[0m\n",
      "  warnings.warn(errors.NumbaDeprecationWarning(msg,\n",
      "/home/gokcen/.miniconda3/lib/python3.8/site-packages/mnnpy/utils.py:14: NumbaWarning: \u001b[1mCode running in object mode won't allow parallel execution despite nogil=True.\u001b[0m\n",
      "  @jit(float32[:](float32[:, :]), nogil=True)\n",
      "/home/gokcen/.miniconda3/lib/python3.8/site-packages/numba/core/object_mode_passes.py:151: NumbaWarning: \u001b[1mFunction \"l2_norm\" was compiled in object mode without forceobj=True.\n",
      "\u001b[1m\n",
      "File \"../../.miniconda3/lib/python3.8/site-packages/mnnpy/utils.py\", line 15:\u001b[0m\n",
      "\u001b[1m@jit(float32[:](float32[:, :]), nogil=True)\n",
      "\u001b[1mdef l2_norm(in_matrix):\n",
      "\u001b[0m\u001b[1m^\u001b[0m\u001b[0m\n",
      "\u001b[0m\n",
      "  warnings.warn(errors.NumbaWarning(warn_msg,\n",
      "/home/gokcen/.miniconda3/lib/python3.8/site-packages/numba/core/object_mode_passes.py:161: NumbaDeprecationWarning: \u001b[1m\n",
      "Fall-back from the nopython compilation path to the object mode compilation path has been detected, this is deprecated behaviour.\n",
      "\n",
      "For more information visit https://numba.pydata.org/numba-doc/latest/reference/deprecation.html#deprecation-of-object-mode-fall-back-behaviour-when-using-jit\n",
      "\u001b[1m\n",
      "File \"../../.miniconda3/lib/python3.8/site-packages/mnnpy/utils.py\", line 15:\u001b[0m\n",
      "\u001b[1m@jit(float32[:](float32[:, :]), nogil=True)\n",
      "\u001b[1mdef l2_norm(in_matrix):\n",
      "\u001b[0m\u001b[1m^\u001b[0m\u001b[0m\n",
      "\u001b[0m\n",
      "  warnings.warn(errors.NumbaDeprecationWarning(msg,\n",
      "/home/gokcen/.miniconda3/lib/python3.8/site-packages/mnnpy/utils.py:14: NumbaWarning: \u001b[1mCode running in object mode won't allow parallel execution despite nogil=True.\u001b[0m\n",
      "  @jit(float32[:](float32[:, :]), nogil=True)\n",
      "/home/gokcen/.miniconda3/lib/python3.8/site-packages/numba/core/object_mode_passes.py:151: NumbaWarning: \u001b[1mFunction \"l2_norm\" was compiled in object mode without forceobj=True.\n",
      "\u001b[1m\n",
      "File \"../../.miniconda3/lib/python3.8/site-packages/mnnpy/utils.py\", line 15:\u001b[0m\n",
      "\u001b[1m@jit(float32[:](float32[:, :]), nogil=True)\n",
      "\u001b[1mdef l2_norm(in_matrix):\n",
      "\u001b[0m\u001b[1m^\u001b[0m\u001b[0m\n",
      "\u001b[0m\n",
      "  warnings.warn(errors.NumbaWarning(warn_msg,\n",
      "/home/gokcen/.miniconda3/lib/python3.8/site-packages/numba/core/object_mode_passes.py:161: NumbaDeprecationWarning: \u001b[1m\n",
      "Fall-back from the nopython compilation path to the object mode compilation path has been detected, this is deprecated behaviour.\n",
      "\n",
      "For more information visit https://numba.pydata.org/numba-doc/latest/reference/deprecation.html#deprecation-of-object-mode-fall-back-behaviour-when-using-jit\n",
      "\u001b[1m\n",
      "File \"../../.miniconda3/lib/python3.8/site-packages/mnnpy/utils.py\", line 15:\u001b[0m\n",
      "\u001b[1m@jit(float32[:](float32[:, :]), nogil=True)\n",
      "\u001b[1mdef l2_norm(in_matrix):\n",
      "\u001b[0m\u001b[1m^\u001b[0m\u001b[0m\n",
      "\u001b[0m\n",
      "  warnings.warn(errors.NumbaDeprecationWarning(msg,\n",
      "/home/gokcen/.miniconda3/lib/python3.8/site-packages/mnnpy/utils.py:14: NumbaWarning: \u001b[1mCode running in object mode won't allow parallel execution despite nogil=True.\u001b[0m\n",
      "  @jit(float32[:](float32[:, :]), nogil=True)\n",
      "/home/gokcen/.miniconda3/lib/python3.8/site-packages/numba/core/object_mode_passes.py:151: NumbaWarning: \u001b[1mFunction \"l2_norm\" was compiled in object mode without forceobj=True.\n",
      "\u001b[1m\n",
      "File \"../../.miniconda3/lib/python3.8/site-packages/mnnpy/utils.py\", line 15:\u001b[0m\n",
      "\u001b[1m@jit(float32[:](float32[:, :]), nogil=True)\n",
      "\u001b[1mdef l2_norm(in_matrix):\n",
      "\u001b[0m\u001b[1m^\u001b[0m\u001b[0m\n",
      "\u001b[0m\n",
      "  warnings.warn(errors.NumbaWarning(warn_msg,\n",
      "/home/gokcen/.miniconda3/lib/python3.8/site-packages/numba/core/object_mode_passes.py:161: NumbaDeprecationWarning: \u001b[1m\n",
      "Fall-back from the nopython compilation path to the object mode compilation path has been detected, this is deprecated behaviour.\n",
      "\n",
      "For more information visit https://numba.pydata.org/numba-doc/latest/reference/deprecation.html#deprecation-of-object-mode-fall-back-behaviour-when-using-jit\n",
      "\u001b[1m\n",
      "File \"../../.miniconda3/lib/python3.8/site-packages/mnnpy/utils.py\", line 15:\u001b[0m\n",
      "\u001b[1m@jit(float32[:](float32[:, :]), nogil=True)\n",
      "\u001b[1mdef l2_norm(in_matrix):\n",
      "\u001b[0m\u001b[1m^\u001b[0m\u001b[0m\n",
      "\u001b[0m\n",
      "  warnings.warn(errors.NumbaDeprecationWarning(msg,\n",
      "/home/gokcen/.miniconda3/lib/python3.8/site-packages/mnnpy/utils.py:14: NumbaWarning: \u001b[1mCode running in object mode won't allow parallel execution despite nogil=True.\u001b[0m\n",
      "  @jit(float32[:](float32[:, :]), nogil=True)\n",
      "/home/gokcen/.miniconda3/lib/python3.8/site-packages/numba/core/object_mode_passes.py:151: NumbaWarning: \u001b[1mFunction \"l2_norm\" was compiled in object mode without forceobj=True.\n",
      "\u001b[1m\n",
      "File \"../../.miniconda3/lib/python3.8/site-packages/mnnpy/utils.py\", line 15:\u001b[0m\n",
      "\u001b[1m@jit(float32[:](float32[:, :]), nogil=True)\n",
      "\u001b[1mdef l2_norm(in_matrix):\n",
      "\u001b[0m\u001b[1m^\u001b[0m\u001b[0m\n",
      "\u001b[0m\n",
      "  warnings.warn(errors.NumbaWarning(warn_msg,\n",
      "/home/gokcen/.miniconda3/lib/python3.8/site-packages/numba/core/object_mode_passes.py:161: NumbaDeprecationWarning: \u001b[1m\n",
      "Fall-back from the nopython compilation path to the object mode compilation path has been detected, this is deprecated behaviour.\n",
      "\n",
      "For more information visit https://numba.pydata.org/numba-doc/latest/reference/deprecation.html#deprecation-of-object-mode-fall-back-behaviour-when-using-jit\n",
      "\u001b[1m\n",
      "File \"../../.miniconda3/lib/python3.8/site-packages/mnnpy/utils.py\", line 15:\u001b[0m\n",
      "\u001b[1m@jit(float32[:](float32[:, :]), nogil=True)\n",
      "\u001b[1mdef l2_norm(in_matrix):\n",
      "\u001b[0m\u001b[1m^\u001b[0m\u001b[0m\n",
      "\u001b[0m\n",
      "  warnings.warn(errors.NumbaDeprecationWarning(msg,\n",
      "/home/gokcen/.miniconda3/lib/python3.8/site-packages/mnnpy/utils.py:14: NumbaWarning: \u001b[1mCode running in object mode won't allow parallel execution despite nogil=True.\u001b[0m\n",
      "  @jit(float32[:](float32[:, :]), nogil=True)\n",
      "/home/gokcen/.miniconda3/lib/python3.8/site-packages/mnnpy/utils.py:14: NumbaWarning: \u001b[1m\n",
      "Compilation is falling back to object mode WITH looplifting enabled because Function \"l2_norm\" failed type inference due to: \u001b[1m\u001b[1m\u001b[1mNo implementation of function Function(<function norm at 0x7f31c4115e50>) found for signature:\n",
      " \n",
      " >>> norm(x=array(float32, 2d, A), axis=Literal[int](1))\n",
      " \n",
      "There are 2 candidate implementations:\n",
      "\u001b[1m    - Of which 2 did not match due to:\n",
      "    Overload in function 'norm_impl': File: numba/np/linalg.py: Line 2351.\n",
      "      With argument(s): '(x=array(float32, 2d, A), axis=int64)':\u001b[0m\n",
      "\u001b[1m     Rejected as the implementation raised a specific error:\n",
      "       TypeError: norm_impl() got an unexpected keyword argument 'x'\u001b[0m\n",
      "  raised from /home/gokcen/.miniconda3/lib/python3.8/site-packages/numba/core/typing/templates.py:775\n",
      "\u001b[0m\n",
      "\u001b[0m\u001b[1mDuring: resolving callee type: Function(<function norm at 0x7f31c4115e50>)\u001b[0m\n",
      "\u001b[0m\u001b[1mDuring: typing of call at /home/gokcen/.miniconda3/lib/python3.8/site-packages/mnnpy/utils.py (16)\n",
      "\u001b[0m\n",
      "\u001b[1m\n",
      "File \"../../.miniconda3/lib/python3.8/site-packages/mnnpy/utils.py\", line 16:\u001b[0m\n",
      "\u001b[1mdef l2_norm(in_matrix):\n",
      "\u001b[1m    return np.linalg.norm(x=in_matrix, axis=1)\n",
      "\u001b[0m    \u001b[1m^\u001b[0m\u001b[0m\n",
      "\u001b[0m\n",
      "  @jit(float32[:](float32[:, :]), nogil=True)\n",
      "/home/gokcen/.miniconda3/lib/python3.8/site-packages/mnnpy/utils.py:14: NumbaWarning: \u001b[1m\n",
      "Compilation is falling back to object mode WITH looplifting enabled because Function \"l2_norm\" failed type inference due to: \u001b[1m\u001b[1m\u001b[1mNo implementation of function Function(<function norm at 0x7f31c4115e50>) found for signature:\n",
      " \n",
      " >>> norm(x=array(float32, 2d, A), axis=Literal[int](1))\n",
      " \n",
      "There are 2 candidate implementations:\n",
      "\u001b[1m    - Of which 2 did not match due to:\n",
      "    Overload in function 'norm_impl': File: numba/np/linalg.py: Line 2351.\n",
      "      With argument(s): '(x=array(float32, 2d, A), axis=int64)':\u001b[0m\n",
      "\u001b[1m     Rejected as the implementation raised a specific error:\n",
      "       TypeError: norm_impl() got an unexpected keyword argument 'x'\u001b[0m\n",
      "  raised from /home/gokcen/.miniconda3/lib/python3.8/site-packages/numba/core/typing/templates.py:775\n",
      "\u001b[0m\n",
      "\u001b[0m\u001b[1mDuring: resolving callee type: Function(<function norm at 0x7f31c4115e50>)\u001b[0m\n",
      "\u001b[0m\u001b[1mDuring: typing of call at /home/gokcen/.miniconda3/lib/python3.8/site-packages/mnnpy/utils.py (16)\n",
      "\u001b[0m\n",
      "\u001b[1m\n",
      "File \"../../.miniconda3/lib/python3.8/site-packages/mnnpy/utils.py\", line 16:\u001b[0m\n",
      "\u001b[1mdef l2_norm(in_matrix):\n",
      "\u001b[1m    return np.linalg.norm(x=in_matrix, axis=1)\n",
      "\u001b[0m    \u001b[1m^\u001b[0m\u001b[0m\n",
      "\u001b[0m\n",
      "  @jit(float32[:](float32[:, :]), nogil=True)\n",
      "/home/gokcen/.miniconda3/lib/python3.8/site-packages/numba/core/object_mode_passes.py:151: NumbaWarning: \u001b[1mFunction \"l2_norm\" was compiled in object mode without forceobj=True.\n",
      "\u001b[1m\n",
      "File \"../../.miniconda3/lib/python3.8/site-packages/mnnpy/utils.py\", line 15:\u001b[0m\n",
      "\u001b[1m@jit(float32[:](float32[:, :]), nogil=True)\n",
      "\u001b[1mdef l2_norm(in_matrix):\n",
      "\u001b[0m\u001b[1m^\u001b[0m\u001b[0m\n",
      "\u001b[0m\n",
      "  warnings.warn(errors.NumbaWarning(warn_msg,\n",
      "/home/gokcen/.miniconda3/lib/python3.8/site-packages/numba/core/object_mode_passes.py:161: NumbaDeprecationWarning: \u001b[1m\n",
      "Fall-back from the nopython compilation path to the object mode compilation path has been detected, this is deprecated behaviour.\n",
      "\n",
      "For more information visit https://numba.pydata.org/numba-doc/latest/reference/deprecation.html#deprecation-of-object-mode-fall-back-behaviour-when-using-jit\n",
      "\u001b[1m\n",
      "File \"../../.miniconda3/lib/python3.8/site-packages/mnnpy/utils.py\", line 15:\u001b[0m\n",
      "\u001b[1m@jit(float32[:](float32[:, :]), nogil=True)\n",
      "\u001b[1mdef l2_norm(in_matrix):\n",
      "\u001b[0m\u001b[1m^\u001b[0m\u001b[0m\n",
      "\u001b[0m\n",
      "  warnings.warn(errors.NumbaDeprecationWarning(msg,\n",
      "/home/gokcen/.miniconda3/lib/python3.8/site-packages/mnnpy/utils.py:14: NumbaWarning: \u001b[1mCode running in object mode won't allow parallel execution despite nogil=True.\u001b[0m\n",
      "  @jit(float32[:](float32[:, :]), nogil=True)\n",
      "/home/gokcen/.miniconda3/lib/python3.8/site-packages/numba/core/object_mode_passes.py:151: NumbaWarning: \u001b[1mFunction \"l2_norm\" was compiled in object mode without forceobj=True.\n",
      "\u001b[1m\n",
      "File \"../../.miniconda3/lib/python3.8/site-packages/mnnpy/utils.py\", line 15:\u001b[0m\n",
      "\u001b[1m@jit(float32[:](float32[:, :]), nogil=True)\n",
      "\u001b[1mdef l2_norm(in_matrix):\n",
      "\u001b[0m\u001b[1m^\u001b[0m\u001b[0m\n",
      "\u001b[0m\n",
      "  warnings.warn(errors.NumbaWarning(warn_msg,\n",
      "/home/gokcen/.miniconda3/lib/python3.8/site-packages/numba/core/object_mode_passes.py:161: NumbaDeprecationWarning: \u001b[1m\n",
      "Fall-back from the nopython compilation path to the object mode compilation path has been detected, this is deprecated behaviour.\n",
      "\n",
      "For more information visit https://numba.pydata.org/numba-doc/latest/reference/deprecation.html#deprecation-of-object-mode-fall-back-behaviour-when-using-jit\n",
      "\u001b[1m\n",
      "File \"../../.miniconda3/lib/python3.8/site-packages/mnnpy/utils.py\", line 15:\u001b[0m\n",
      "\u001b[1m@jit(float32[:](float32[:, :]), nogil=True)\n",
      "\u001b[1mdef l2_norm(in_matrix):\n",
      "\u001b[0m\u001b[1m^\u001b[0m\u001b[0m\n",
      "\u001b[0m\n",
      "  warnings.warn(errors.NumbaDeprecationWarning(msg,\n",
      "/home/gokcen/.miniconda3/lib/python3.8/site-packages/mnnpy/utils.py:14: NumbaWarning: \u001b[1mCode running in object mode won't allow parallel execution despite nogil=True.\u001b[0m\n",
      "  @jit(float32[:](float32[:, :]), nogil=True)\n",
      "/home/gokcen/.miniconda3/lib/python3.8/site-packages/mnnpy/utils.py:14: NumbaWarning: \u001b[1m\n",
      "Compilation is falling back to object mode WITH looplifting enabled because Function \"l2_norm\" failed type inference due to: \u001b[1m\u001b[1m\u001b[1mNo implementation of function Function(<function norm at 0x7f31c4115e50>) found for signature:\n",
      " \n",
      " >>> norm(x=array(float32, 2d, A), axis=Literal[int](1))\n",
      " \n",
      "There are 2 candidate implementations:\n",
      "\u001b[1m    - Of which 2 did not match due to:\n",
      "    Overload in function 'norm_impl': File: numba/np/linalg.py: Line 2351.\n",
      "      With argument(s): '(x=array(float32, 2d, A), axis=int64)':\u001b[0m\n",
      "\u001b[1m     Rejected as the implementation raised a specific error:\n",
      "       TypeError: norm_impl() got an unexpected keyword argument 'x'\u001b[0m\n",
      "  raised from /home/gokcen/.miniconda3/lib/python3.8/site-packages/numba/core/typing/templates.py:775\n",
      "\u001b[0m\n",
      "\u001b[0m\u001b[1mDuring: resolving callee type: Function(<function norm at 0x7f31c4115e50>)\u001b[0m\n",
      "\u001b[0m\u001b[1mDuring: typing of call at /home/gokcen/.miniconda3/lib/python3.8/site-packages/mnnpy/utils.py (16)\n",
      "\u001b[0m\n",
      "\u001b[1m\n",
      "File \"../../.miniconda3/lib/python3.8/site-packages/mnnpy/utils.py\", line 16:\u001b[0m\n",
      "\u001b[1mdef l2_norm(in_matrix):\n",
      "\u001b[1m    return np.linalg.norm(x=in_matrix, axis=1)\n",
      "\u001b[0m    \u001b[1m^\u001b[0m\u001b[0m\n",
      "\u001b[0m\n",
      "  @jit(float32[:](float32[:, :]), nogil=True)\n",
      "/home/gokcen/.miniconda3/lib/python3.8/site-packages/numba/core/object_mode_passes.py:151: NumbaWarning: \u001b[1mFunction \"l2_norm\" was compiled in object mode without forceobj=True.\n",
      "\u001b[1m\n",
      "File \"../../.miniconda3/lib/python3.8/site-packages/mnnpy/utils.py\", line 15:\u001b[0m\n",
      "\u001b[1m@jit(float32[:](float32[:, :]), nogil=True)\n",
      "\u001b[1mdef l2_norm(in_matrix):\n",
      "\u001b[0m\u001b[1m^\u001b[0m\u001b[0m\n",
      "\u001b[0m\n",
      "  warnings.warn(errors.NumbaWarning(warn_msg,\n",
      "/home/gokcen/.miniconda3/lib/python3.8/site-packages/numba/core/object_mode_passes.py:161: NumbaDeprecationWarning: \u001b[1m\n",
      "Fall-back from the nopython compilation path to the object mode compilation path has been detected, this is deprecated behaviour.\n",
      "\n",
      "For more information visit https://numba.pydata.org/numba-doc/latest/reference/deprecation.html#deprecation-of-object-mode-fall-back-behaviour-when-using-jit\n",
      "\u001b[1m\n",
      "File \"../../.miniconda3/lib/python3.8/site-packages/mnnpy/utils.py\", line 15:\u001b[0m\n",
      "\u001b[1m@jit(float32[:](float32[:, :]), nogil=True)\n",
      "\u001b[1mdef l2_norm(in_matrix):\n",
      "\u001b[0m\u001b[1m^\u001b[0m\u001b[0m\n",
      "\u001b[0m\n",
      "  warnings.warn(errors.NumbaDeprecationWarning(msg,\n",
      "/home/gokcen/.miniconda3/lib/python3.8/site-packages/mnnpy/utils.py:14: NumbaWarning: \u001b[1mCode running in object mode won't allow parallel execution despite nogil=True.\u001b[0m\n",
      "  @jit(float32[:](float32[:, :]), nogil=True)\n",
      "/home/gokcen/.miniconda3/lib/python3.8/site-packages/mnnpy/utils.py:14: NumbaWarning: \u001b[1m\n",
      "Compilation is falling back to object mode WITH looplifting enabled because Function \"l2_norm\" failed type inference due to: \u001b[1m\u001b[1m\u001b[1mNo implementation of function Function(<function norm at 0x7f31c4115e50>) found for signature:\n",
      " \n",
      " >>> norm(x=array(float32, 2d, A), axis=Literal[int](1))\n",
      " \n",
      "There are 2 candidate implementations:\n",
      "\u001b[1m    - Of which 2 did not match due to:\n",
      "    Overload in function 'norm_impl': File: numba/np/linalg.py: Line 2351.\n",
      "      With argument(s): '(x=array(float32, 2d, A), axis=int64)':\u001b[0m\n",
      "\u001b[1m     Rejected as the implementation raised a specific error:\n",
      "       TypeError: norm_impl() got an unexpected keyword argument 'x'\u001b[0m\n",
      "  raised from /home/gokcen/.miniconda3/lib/python3.8/site-packages/numba/core/typing/templates.py:775\n",
      "\u001b[0m\n",
      "\u001b[0m\u001b[1mDuring: resolving callee type: Function(<function norm at 0x7f31c4115e50>)\u001b[0m\n",
      "\u001b[0m\u001b[1mDuring: typing of call at /home/gokcen/.miniconda3/lib/python3.8/site-packages/mnnpy/utils.py (16)\n",
      "\u001b[0m\n",
      "\u001b[1m\n",
      "File \"../../.miniconda3/lib/python3.8/site-packages/mnnpy/utils.py\", line 16:\u001b[0m\n",
      "\u001b[1mdef l2_norm(in_matrix):\n",
      "\u001b[1m    return np.linalg.norm(x=in_matrix, axis=1)\n",
      "\u001b[0m    \u001b[1m^\u001b[0m\u001b[0m\n",
      "\u001b[0m\n",
      "  @jit(float32[:](float32[:, :]), nogil=True)\n",
      "/home/gokcen/.miniconda3/lib/python3.8/site-packages/numba/core/object_mode_passes.py:151: NumbaWarning: \u001b[1mFunction \"l2_norm\" was compiled in object mode without forceobj=True.\n",
      "\u001b[1m\n",
      "File \"../../.miniconda3/lib/python3.8/site-packages/mnnpy/utils.py\", line 15:\u001b[0m\n",
      "\u001b[1m@jit(float32[:](float32[:, :]), nogil=True)\n",
      "\u001b[1mdef l2_norm(in_matrix):\n",
      "\u001b[0m\u001b[1m^\u001b[0m\u001b[0m\n",
      "\u001b[0m\n",
      "  warnings.warn(errors.NumbaWarning(warn_msg,\n",
      "/home/gokcen/.miniconda3/lib/python3.8/site-packages/numba/core/object_mode_passes.py:161: NumbaDeprecationWarning: \u001b[1m\n",
      "Fall-back from the nopython compilation path to the object mode compilation path has been detected, this is deprecated behaviour.\n",
      "\n",
      "For more information visit https://numba.pydata.org/numba-doc/latest/reference/deprecation.html#deprecation-of-object-mode-fall-back-behaviour-when-using-jit\n",
      "\u001b[1m\n",
      "File \"../../.miniconda3/lib/python3.8/site-packages/mnnpy/utils.py\", line 15:\u001b[0m\n",
      "\u001b[1m@jit(float32[:](float32[:, :]), nogil=True)\n",
      "\u001b[1mdef l2_norm(in_matrix):\n",
      "\u001b[0m\u001b[1m^\u001b[0m\u001b[0m\n",
      "\u001b[0m\n",
      "  warnings.warn(errors.NumbaDeprecationWarning(msg,\n",
      "/home/gokcen/.miniconda3/lib/python3.8/site-packages/mnnpy/utils.py:14: NumbaWarning: \u001b[1mCode running in object mode won't allow parallel execution despite nogil=True.\u001b[0m\n",
      "  @jit(float32[:](float32[:, :]), nogil=True)\n",
      "/home/gokcen/.miniconda3/lib/python3.8/site-packages/mnnpy/utils.py:14: NumbaWarning: \u001b[1m\n",
      "Compilation is falling back to object mode WITH looplifting enabled because Function \"l2_norm\" failed type inference due to: \u001b[1m\u001b[1m\u001b[1mNo implementation of function Function(<function norm at 0x7f31c4115e50>) found for signature:\n",
      " \n",
      " >>> norm(x=array(float32, 2d, A), axis=Literal[int](1))\n",
      " \n",
      "There are 2 candidate implementations:\n",
      "\u001b[1m    - Of which 2 did not match due to:\n",
      "    Overload in function 'norm_impl': File: numba/np/linalg.py: Line 2351.\n",
      "      With argument(s): '(x=array(float32, 2d, A), axis=int64)':\u001b[0m\n",
      "\u001b[1m     Rejected as the implementation raised a specific error:\n",
      "       TypeError: norm_impl() got an unexpected keyword argument 'x'\u001b[0m\n",
      "  raised from /home/gokcen/.miniconda3/lib/python3.8/site-packages/numba/core/typing/templates.py:775\n",
      "\u001b[0m\n",
      "\u001b[0m\u001b[1mDuring: resolving callee type: Function(<function norm at 0x7f31c4115e50>)\u001b[0m\n",
      "\u001b[0m\u001b[1mDuring: typing of call at /home/gokcen/.miniconda3/lib/python3.8/site-packages/mnnpy/utils.py (16)\n",
      "\u001b[0m\n",
      "\u001b[1m\n",
      "File \"../../.miniconda3/lib/python3.8/site-packages/mnnpy/utils.py\", line 16:\u001b[0m\n",
      "\u001b[1mdef l2_norm(in_matrix):\n",
      "\u001b[1m    return np.linalg.norm(x=in_matrix, axis=1)\n",
      "\u001b[0m    \u001b[1m^\u001b[0m\u001b[0m\n",
      "\u001b[0m\n",
      "  @jit(float32[:](float32[:, :]), nogil=True)\n",
      "/home/gokcen/.miniconda3/lib/python3.8/site-packages/mnnpy/utils.py:14: NumbaWarning: \u001b[1m\n",
      "Compilation is falling back to object mode WITH looplifting enabled because Function \"l2_norm\" failed type inference due to: \u001b[1m\u001b[1m\u001b[1mNo implementation of function Function(<function norm at 0x7f31c4115e50>) found for signature:\n",
      " \n",
      " >>> norm(x=array(float32, 2d, A), axis=Literal[int](1))\n",
      " \n",
      "There are 2 candidate implementations:\n",
      "\u001b[1m    - Of which 2 did not match due to:\n",
      "    Overload in function 'norm_impl': File: numba/np/linalg.py: Line 2351.\n",
      "      With argument(s): '(x=array(float32, 2d, A), axis=int64)':\u001b[0m\n",
      "\u001b[1m     Rejected as the implementation raised a specific error:\n",
      "       TypeError: norm_impl() got an unexpected keyword argument 'x'\u001b[0m\n",
      "  raised from /home/gokcen/.miniconda3/lib/python3.8/site-packages/numba/core/typing/templates.py:775\n",
      "\u001b[0m\n",
      "\u001b[0m\u001b[1mDuring: resolving callee type: Function(<function norm at 0x7f31c4115e50>)\u001b[0m\n",
      "\u001b[0m\u001b[1mDuring: typing of call at /home/gokcen/.miniconda3/lib/python3.8/site-packages/mnnpy/utils.py (16)\n",
      "\u001b[0m\n",
      "\u001b[1m\n",
      "File \"../../.miniconda3/lib/python3.8/site-packages/mnnpy/utils.py\", line 16:\u001b[0m\n",
      "\u001b[1mdef l2_norm(in_matrix):\n",
      "\u001b[1m    return np.linalg.norm(x=in_matrix, axis=1)\n",
      "\u001b[0m    \u001b[1m^\u001b[0m\u001b[0m\n",
      "\u001b[0m\n",
      "  @jit(float32[:](float32[:, :]), nogil=True)\n",
      "/home/gokcen/.miniconda3/lib/python3.8/site-packages/numba/core/object_mode_passes.py:151: NumbaWarning: \u001b[1mFunction \"l2_norm\" was compiled in object mode without forceobj=True.\n",
      "\u001b[1m\n",
      "File \"../../.miniconda3/lib/python3.8/site-packages/mnnpy/utils.py\", line 15:\u001b[0m\n",
      "\u001b[1m@jit(float32[:](float32[:, :]), nogil=True)\n",
      "\u001b[1mdef l2_norm(in_matrix):\n",
      "\u001b[0m\u001b[1m^\u001b[0m\u001b[0m\n",
      "\u001b[0m\n",
      "  warnings.warn(errors.NumbaWarning(warn_msg,\n",
      "/home/gokcen/.miniconda3/lib/python3.8/site-packages/numba/core/object_mode_passes.py:161: NumbaDeprecationWarning: \u001b[1m\n",
      "Fall-back from the nopython compilation path to the object mode compilation path has been detected, this is deprecated behaviour.\n",
      "\n",
      "For more information visit https://numba.pydata.org/numba-doc/latest/reference/deprecation.html#deprecation-of-object-mode-fall-back-behaviour-when-using-jit\n",
      "\u001b[1m\n",
      "File \"../../.miniconda3/lib/python3.8/site-packages/mnnpy/utils.py\", line 15:\u001b[0m\n",
      "\u001b[1m@jit(float32[:](float32[:, :]), nogil=True)\n",
      "\u001b[1mdef l2_norm(in_matrix):\n",
      "\u001b[0m\u001b[1m^\u001b[0m\u001b[0m\n",
      "\u001b[0m\n",
      "  warnings.warn(errors.NumbaDeprecationWarning(msg,\n",
      "/home/gokcen/.miniconda3/lib/python3.8/site-packages/mnnpy/utils.py:14: NumbaWarning: \u001b[1mCode running in object mode won't allow parallel execution despite nogil=True.\u001b[0m\n",
      "  @jit(float32[:](float32[:, :]), nogil=True)\n",
      "/home/gokcen/.miniconda3/lib/python3.8/site-packages/mnnpy/utils.py:14: NumbaWarning: \u001b[1m\n",
      "Compilation is falling back to object mode WITH looplifting enabled because Function \"l2_norm\" failed type inference due to: \u001b[1m\u001b[1m\u001b[1mNo implementation of function Function(<function norm at 0x7f31c4115e50>) found for signature:\n",
      " \n",
      " >>> norm(x=array(float32, 2d, A), axis=Literal[int](1))\n",
      " \n",
      "There are 2 candidate implementations:\n",
      "\u001b[1m    - Of which 2 did not match due to:\n",
      "    Overload in function 'norm_impl': File: numba/np/linalg.py: Line 2351.\n",
      "      With argument(s): '(x=array(float32, 2d, A), axis=int64)':\u001b[0m\n",
      "\u001b[1m     Rejected as the implementation raised a specific error:\n",
      "       TypeError: norm_impl() got an unexpected keyword argument 'x'\u001b[0m\n",
      "  raised from /home/gokcen/.miniconda3/lib/python3.8/site-packages/numba/core/typing/templates.py:775\n",
      "\u001b[0m\n",
      "\u001b[0m\u001b[1mDuring: resolving callee type: Function(<function norm at 0x7f31c4115e50>)\u001b[0m\n",
      "\u001b[0m\u001b[1mDuring: typing of call at /home/gokcen/.miniconda3/lib/python3.8/site-packages/mnnpy/utils.py (16)\n",
      "\u001b[0m\n",
      "\u001b[1m\n",
      "File \"../../.miniconda3/lib/python3.8/site-packages/mnnpy/utils.py\", line 16:\u001b[0m\n",
      "\u001b[1mdef l2_norm(in_matrix):\n",
      "\u001b[1m    return np.linalg.norm(x=in_matrix, axis=1)\n",
      "\u001b[0m    \u001b[1m^\u001b[0m\u001b[0m\n",
      "\u001b[0m\n",
      "  @jit(float32[:](float32[:, :]), nogil=True)\n",
      "/home/gokcen/.miniconda3/lib/python3.8/site-packages/numba/core/object_mode_passes.py:151: NumbaWarning: \u001b[1mFunction \"l2_norm\" was compiled in object mode without forceobj=True.\n",
      "\u001b[1m\n",
      "File \"../../.miniconda3/lib/python3.8/site-packages/mnnpy/utils.py\", line 15:\u001b[0m\n",
      "\u001b[1m@jit(float32[:](float32[:, :]), nogil=True)\n",
      "\u001b[1mdef l2_norm(in_matrix):\n",
      "\u001b[0m\u001b[1m^\u001b[0m\u001b[0m\n",
      "\u001b[0m\n",
      "  warnings.warn(errors.NumbaWarning(warn_msg,\n",
      "/home/gokcen/.miniconda3/lib/python3.8/site-packages/numba/core/object_mode_passes.py:161: NumbaDeprecationWarning: \u001b[1m\n",
      "Fall-back from the nopython compilation path to the object mode compilation path has been detected, this is deprecated behaviour.\n",
      "\n",
      "For more information visit https://numba.pydata.org/numba-doc/latest/reference/deprecation.html#deprecation-of-object-mode-fall-back-behaviour-when-using-jit\n",
      "\u001b[1m\n",
      "File \"../../.miniconda3/lib/python3.8/site-packages/mnnpy/utils.py\", line 15:\u001b[0m\n",
      "\u001b[1m@jit(float32[:](float32[:, :]), nogil=True)\n",
      "\u001b[1mdef l2_norm(in_matrix):\n",
      "\u001b[0m\u001b[1m^\u001b[0m\u001b[0m\n",
      "\u001b[0m\n",
      "  warnings.warn(errors.NumbaDeprecationWarning(msg,\n",
      "/home/gokcen/.miniconda3/lib/python3.8/site-packages/mnnpy/utils.py:14: NumbaWarning: \u001b[1mCode running in object mode won't allow parallel execution despite nogil=True.\u001b[0m\n",
      "  @jit(float32[:](float32[:, :]), nogil=True)\n",
      "/home/gokcen/.miniconda3/lib/python3.8/site-packages/numba/core/object_mode_passes.py:151: NumbaWarning: \u001b[1mFunction \"l2_norm\" was compiled in object mode without forceobj=True.\n",
      "\u001b[1m\n",
      "File \"../../.miniconda3/lib/python3.8/site-packages/mnnpy/utils.py\", line 15:\u001b[0m\n",
      "\u001b[1m@jit(float32[:](float32[:, :]), nogil=True)\n",
      "\u001b[1mdef l2_norm(in_matrix):\n",
      "\u001b[0m\u001b[1m^\u001b[0m\u001b[0m\n",
      "\u001b[0m\n",
      "  warnings.warn(errors.NumbaWarning(warn_msg,\n",
      "/home/gokcen/.miniconda3/lib/python3.8/site-packages/numba/core/object_mode_passes.py:161: NumbaDeprecationWarning: \u001b[1m\n",
      "Fall-back from the nopython compilation path to the object mode compilation path has been detected, this is deprecated behaviour.\n",
      "\n",
      "For more information visit https://numba.pydata.org/numba-doc/latest/reference/deprecation.html#deprecation-of-object-mode-fall-back-behaviour-when-using-jit\n",
      "\u001b[1m\n",
      "File \"../../.miniconda3/lib/python3.8/site-packages/mnnpy/utils.py\", line 15:\u001b[0m\n",
      "\u001b[1m@jit(float32[:](float32[:, :]), nogil=True)\n",
      "\u001b[1mdef l2_norm(in_matrix):\n",
      "\u001b[0m\u001b[1m^\u001b[0m\u001b[0m\n",
      "\u001b[0m\n",
      "  warnings.warn(errors.NumbaDeprecationWarning(msg,\n",
      "/home/gokcen/.miniconda3/lib/python3.8/site-packages/mnnpy/utils.py:14: NumbaWarning: \u001b[1mCode running in object mode won't allow parallel execution despite nogil=True.\u001b[0m\n",
      "  @jit(float32[:](float32[:, :]), nogil=True)\n",
      "/home/gokcen/.miniconda3/lib/python3.8/site-packages/mnnpy/utils.py:14: NumbaWarning: \u001b[1m\n",
      "Compilation is falling back to object mode WITH looplifting enabled because Function \"l2_norm\" failed type inference due to: \u001b[1m\u001b[1m\u001b[1mNo implementation of function Function(<function norm at 0x7f31c4115e50>) found for signature:\n",
      " \n",
      " >>> norm(x=array(float32, 2d, A), axis=Literal[int](1))\n",
      " \n",
      "There are 2 candidate implementations:\n",
      "\u001b[1m    - Of which 2 did not match due to:\n",
      "    Overload in function 'norm_impl': File: numba/np/linalg.py: Line 2351.\n",
      "      With argument(s): '(x=array(float32, 2d, A), axis=int64)':\u001b[0m\n",
      "\u001b[1m     Rejected as the implementation raised a specific error:\n",
      "       TypeError: norm_impl() got an unexpected keyword argument 'x'\u001b[0m\n",
      "  raised from /home/gokcen/.miniconda3/lib/python3.8/site-packages/numba/core/typing/templates.py:775\n",
      "\u001b[0m\n",
      "\u001b[0m\u001b[1mDuring: resolving callee type: Function(<function norm at 0x7f31c4115e50>)\u001b[0m\n",
      "\u001b[0m\u001b[1mDuring: typing of call at /home/gokcen/.miniconda3/lib/python3.8/site-packages/mnnpy/utils.py (16)\n",
      "\u001b[0m\n",
      "\u001b[1m\n",
      "File \"../../.miniconda3/lib/python3.8/site-packages/mnnpy/utils.py\", line 16:\u001b[0m\n",
      "\u001b[1mdef l2_norm(in_matrix):\n",
      "\u001b[1m    return np.linalg.norm(x=in_matrix, axis=1)\n",
      "\u001b[0m    \u001b[1m^\u001b[0m\u001b[0m\n",
      "\u001b[0m\n",
      "  @jit(float32[:](float32[:, :]), nogil=True)\n",
      "/home/gokcen/.miniconda3/lib/python3.8/site-packages/numba/core/object_mode_passes.py:151: NumbaWarning: \u001b[1mFunction \"l2_norm\" was compiled in object mode without forceobj=True.\n",
      "\u001b[1m\n",
      "File \"../../.miniconda3/lib/python3.8/site-packages/mnnpy/utils.py\", line 15:\u001b[0m\n",
      "\u001b[1m@jit(float32[:](float32[:, :]), nogil=True)\n",
      "\u001b[1mdef l2_norm(in_matrix):\n",
      "\u001b[0m\u001b[1m^\u001b[0m\u001b[0m\n",
      "\u001b[0m\n",
      "  warnings.warn(errors.NumbaWarning(warn_msg,\n",
      "/home/gokcen/.miniconda3/lib/python3.8/site-packages/numba/core/object_mode_passes.py:161: NumbaDeprecationWarning: \u001b[1m\n",
      "Fall-back from the nopython compilation path to the object mode compilation path has been detected, this is deprecated behaviour.\n",
      "\n",
      "For more information visit https://numba.pydata.org/numba-doc/latest/reference/deprecation.html#deprecation-of-object-mode-fall-back-behaviour-when-using-jit\n",
      "\u001b[1m\n",
      "File \"../../.miniconda3/lib/python3.8/site-packages/mnnpy/utils.py\", line 15:\u001b[0m\n",
      "\u001b[1m@jit(float32[:](float32[:, :]), nogil=True)\n",
      "\u001b[1mdef l2_norm(in_matrix):\n",
      "\u001b[0m\u001b[1m^\u001b[0m\u001b[0m\n",
      "\u001b[0m\n",
      "  warnings.warn(errors.NumbaDeprecationWarning(msg,\n",
      "/home/gokcen/.miniconda3/lib/python3.8/site-packages/mnnpy/utils.py:14: NumbaWarning: \u001b[1mCode running in object mode won't allow parallel execution despite nogil=True.\u001b[0m\n",
      "  @jit(float32[:](float32[:, :]), nogil=True)\n",
      "/home/gokcen/.miniconda3/lib/python3.8/site-packages/mnnpy/utils.py:14: NumbaWarning: \u001b[1m\n",
      "Compilation is falling back to object mode WITH looplifting enabled because Function \"l2_norm\" failed type inference due to: \u001b[1m\u001b[1m\u001b[1mNo implementation of function Function(<function norm at 0x7f31c4115e50>) found for signature:\n",
      " \n",
      " >>> norm(x=array(float32, 2d, A), axis=Literal[int](1))\n",
      " \n",
      "There are 2 candidate implementations:\n",
      "\u001b[1m    - Of which 2 did not match due to:\n",
      "    Overload in function 'norm_impl': File: numba/np/linalg.py: Line 2351.\n",
      "      With argument(s): '(x=array(float32, 2d, A), axis=int64)':\u001b[0m\n",
      "\u001b[1m     Rejected as the implementation raised a specific error:\n",
      "       TypeError: norm_impl() got an unexpected keyword argument 'x'\u001b[0m\n",
      "  raised from /home/gokcen/.miniconda3/lib/python3.8/site-packages/numba/core/typing/templates.py:775\n",
      "\u001b[0m\n",
      "\u001b[0m\u001b[1mDuring: resolving callee type: Function(<function norm at 0x7f31c4115e50>)\u001b[0m\n",
      "\u001b[0m\u001b[1mDuring: typing of call at /home/gokcen/.miniconda3/lib/python3.8/site-packages/mnnpy/utils.py (16)\n",
      "\u001b[0m\n",
      "\u001b[1m\n",
      "File \"../../.miniconda3/lib/python3.8/site-packages/mnnpy/utils.py\", line 16:\u001b[0m\n",
      "\u001b[1mdef l2_norm(in_matrix):\n",
      "\u001b[1m    return np.linalg.norm(x=in_matrix, axis=1)\n",
      "\u001b[0m    \u001b[1m^\u001b[0m\u001b[0m\n",
      "\u001b[0m\n",
      "  @jit(float32[:](float32[:, :]), nogil=True)\n",
      "/home/gokcen/.miniconda3/lib/python3.8/site-packages/numba/core/object_mode_passes.py:151: NumbaWarning: \u001b[1mFunction \"l2_norm\" was compiled in object mode without forceobj=True.\n",
      "\u001b[1m\n",
      "File \"../../.miniconda3/lib/python3.8/site-packages/mnnpy/utils.py\", line 15:\u001b[0m\n",
      "\u001b[1m@jit(float32[:](float32[:, :]), nogil=True)\n",
      "\u001b[1mdef l2_norm(in_matrix):\n",
      "\u001b[0m\u001b[1m^\u001b[0m\u001b[0m\n",
      "\u001b[0m\n",
      "  warnings.warn(errors.NumbaWarning(warn_msg,\n",
      "/home/gokcen/.miniconda3/lib/python3.8/site-packages/numba/core/object_mode_passes.py:161: NumbaDeprecationWarning: \u001b[1m\n",
      "Fall-back from the nopython compilation path to the object mode compilation path has been detected, this is deprecated behaviour.\n",
      "\n",
      "For more information visit https://numba.pydata.org/numba-doc/latest/reference/deprecation.html#deprecation-of-object-mode-fall-back-behaviour-when-using-jit\n",
      "\u001b[1m\n",
      "File \"../../.miniconda3/lib/python3.8/site-packages/mnnpy/utils.py\", line 15:\u001b[0m\n",
      "\u001b[1m@jit(float32[:](float32[:, :]), nogil=True)\n",
      "\u001b[1mdef l2_norm(in_matrix):\n",
      "\u001b[0m\u001b[1m^\u001b[0m\u001b[0m\n",
      "\u001b[0m\n",
      "  warnings.warn(errors.NumbaDeprecationWarning(msg,\n",
      "/home/gokcen/.miniconda3/lib/python3.8/site-packages/mnnpy/utils.py:14: NumbaWarning: \u001b[1mCode running in object mode won't allow parallel execution despite nogil=True.\u001b[0m\n",
      "  @jit(float32[:](float32[:, :]), nogil=True)\n"
     ]
    },
    {
     "name": "stdout",
     "output_type": "stream",
     "text": [
      "Starting MNN correct iteration. Reference batch: 0\n",
      "Step 1 of 89: processing batch 1\n",
      "  Looking for MNNs...\n"
     ]
    },
    {
     "name": "stderr",
     "output_type": "stream",
     "text": [
      "/home/gokcen/.miniconda3/lib/python3.8/site-packages/mnnpy/utils.py:88: NumbaWarning: \u001b[1m\n",
      "Compilation is falling back to object mode WITHOUT looplifting enabled because Function \"find_mutual_nn\" failed type inference due to: \u001b[1m\u001b[1mnon-precise type pyobject\u001b[0m\n",
      "\u001b[0m\u001b[1mDuring: typing of argument at /home/gokcen/.miniconda3/lib/python3.8/site-packages/mnnpy/utils.py (94)\u001b[0m\n",
      "\u001b[1m\n",
      "File \"../../.miniconda3/lib/python3.8/site-packages/mnnpy/utils.py\", line 94:\u001b[0m\n",
      "\u001b[1mdef find_mutual_nn(data1, data2, k1, k2, n_jobs):\n",
      "    <source elided>\n",
      "    mutual_2 = []\n",
      "\u001b[1m    for index_2 in range(data2.shape[0]):\n",
      "\u001b[0m    \u001b[1m^\u001b[0m\u001b[0m\n",
      "\u001b[0m\n",
      "  @jit((float32[:, :], float32[:, :], int8, int8, int8))\n",
      "/home/gokcen/.miniconda3/lib/python3.8/site-packages/numba/core/object_mode_passes.py:151: NumbaWarning: \u001b[1mFunction \"find_mutual_nn\" was compiled in object mode without forceobj=True.\n",
      "\u001b[1m\n",
      "File \"../../.miniconda3/lib/python3.8/site-packages/mnnpy/utils.py\", line 94:\u001b[0m\n",
      "\u001b[1mdef find_mutual_nn(data1, data2, k1, k2, n_jobs):\n",
      "    <source elided>\n",
      "    mutual_2 = []\n",
      "\u001b[1m    for index_2 in range(data2.shape[0]):\n",
      "\u001b[0m    \u001b[1m^\u001b[0m\u001b[0m\n",
      "\u001b[0m\n",
      "  warnings.warn(errors.NumbaWarning(warn_msg,\n",
      "/home/gokcen/.miniconda3/lib/python3.8/site-packages/numba/core/object_mode_passes.py:161: NumbaDeprecationWarning: \u001b[1m\n",
      "Fall-back from the nopython compilation path to the object mode compilation path has been detected, this is deprecated behaviour.\n",
      "\n",
      "For more information visit https://numba.pydata.org/numba-doc/latest/reference/deprecation.html#deprecation-of-object-mode-fall-back-behaviour-when-using-jit\n",
      "\u001b[1m\n",
      "File \"../../.miniconda3/lib/python3.8/site-packages/mnnpy/utils.py\", line 94:\u001b[0m\n",
      "\u001b[1mdef find_mutual_nn(data1, data2, k1, k2, n_jobs):\n",
      "    <source elided>\n",
      "    mutual_2 = []\n",
      "\u001b[1m    for index_2 in range(data2.shape[0]):\n",
      "\u001b[0m    \u001b[1m^\u001b[0m\u001b[0m\n",
      "\u001b[0m\n",
      "  warnings.warn(errors.NumbaDeprecationWarning(msg,\n"
     ]
    },
    {
     "name": "stdout",
     "output_type": "stream",
     "text": [
      "  Computing correction vectors...\n"
     ]
    },
    {
     "name": "stderr",
     "output_type": "stream",
     "text": [
      "/home/gokcen/.miniconda3/lib/python3.8/site-packages/mnnpy/utils.py:102: NumbaWarning: \u001b[1m\n",
      "Compilation is falling back to object mode WITHOUT looplifting enabled because Function \"compute_correction\" failed type inference due to: \u001b[1m\u001b[1mnon-precise type pyobject\u001b[0m\n",
      "\u001b[0m\u001b[1mDuring: typing of argument at /home/gokcen/.miniconda3/lib/python3.8/site-packages/mnnpy/utils.py (107)\u001b[0m\n",
      "\u001b[1m\n",
      "File \"../../.miniconda3/lib/python3.8/site-packages/mnnpy/utils.py\", line 107:\u001b[0m\n",
      "\u001b[1mdef compute_correction(data1, data2, mnn1, mnn2, data2_or_raw2, sigma):\n",
      "    <source elided>\n",
      "    vect_reduced = np.zeros((data2.shape[0], vect.shape[1]), dtype=np.float32)\n",
      "\u001b[1m    for index, ve in zip(mnn2, vect):\n",
      "\u001b[0m    \u001b[1m^\u001b[0m\u001b[0m\n",
      "\u001b[0m\n",
      "  @jit(float32[:, :](float32[:, :], float32[:, :], int32[:], int32[:], float32[:, :], float32))\n",
      "/home/gokcen/.miniconda3/lib/python3.8/site-packages/numba/core/object_mode_passes.py:151: NumbaWarning: \u001b[1mFunction \"compute_correction\" was compiled in object mode without forceobj=True.\n",
      "\u001b[1m\n",
      "File \"../../.miniconda3/lib/python3.8/site-packages/mnnpy/utils.py\", line 107:\u001b[0m\n",
      "\u001b[1mdef compute_correction(data1, data2, mnn1, mnn2, data2_or_raw2, sigma):\n",
      "    <source elided>\n",
      "    vect_reduced = np.zeros((data2.shape[0], vect.shape[1]), dtype=np.float32)\n",
      "\u001b[1m    for index, ve in zip(mnn2, vect):\n",
      "\u001b[0m    \u001b[1m^\u001b[0m\u001b[0m\n",
      "\u001b[0m\n",
      "  warnings.warn(errors.NumbaWarning(warn_msg,\n",
      "/home/gokcen/.miniconda3/lib/python3.8/site-packages/numba/core/object_mode_passes.py:161: NumbaDeprecationWarning: \u001b[1m\n",
      "Fall-back from the nopython compilation path to the object mode compilation path has been detected, this is deprecated behaviour.\n",
      "\n",
      "For more information visit https://numba.pydata.org/numba-doc/latest/reference/deprecation.html#deprecation-of-object-mode-fall-back-behaviour-when-using-jit\n",
      "\u001b[1m\n",
      "File \"../../.miniconda3/lib/python3.8/site-packages/mnnpy/utils.py\", line 107:\u001b[0m\n",
      "\u001b[1mdef compute_correction(data1, data2, mnn1, mnn2, data2_or_raw2, sigma):\n",
      "    <source elided>\n",
      "    vect_reduced = np.zeros((data2.shape[0], vect.shape[1]), dtype=np.float32)\n",
      "\u001b[1m    for index, ve in zip(mnn2, vect):\n",
      "\u001b[0m    \u001b[1m^\u001b[0m\u001b[0m\n",
      "\u001b[0m\n",
      "  warnings.warn(errors.NumbaDeprecationWarning(msg,\n"
     ]
    },
    {
     "name": "stdout",
     "output_type": "stream",
     "text": [
      "  Adjusting variance...\n",
      "  Applying correction...\n",
      "Step 2 of 89: processing batch 2\n",
      "  Looking for MNNs...\n",
      "  Computing correction vectors...\n",
      "  Adjusting variance...\n",
      "  Applying correction...\n",
      "Step 3 of 89: processing batch 3\n",
      "  Looking for MNNs...\n",
      "  Computing correction vectors...\n",
      "  Adjusting variance...\n",
      "  Applying correction...\n",
      "Step 4 of 89: processing batch 4\n",
      "  Looking for MNNs...\n",
      "  Computing correction vectors...\n",
      "  Adjusting variance...\n",
      "  Applying correction...\n",
      "Step 5 of 89: processing batch 5\n",
      "  Looking for MNNs...\n",
      "  Computing correction vectors...\n",
      "  Adjusting variance...\n",
      "  Applying correction...\n",
      "Step 6 of 89: processing batch 6\n",
      "  Looking for MNNs...\n",
      "  Computing correction vectors...\n",
      "  Adjusting variance...\n",
      "  Applying correction...\n",
      "Step 7 of 89: processing batch 7\n",
      "  Looking for MNNs...\n",
      "  Computing correction vectors...\n",
      "  Adjusting variance...\n",
      "  Applying correction...\n",
      "Step 8 of 89: processing batch 8\n",
      "  Looking for MNNs...\n",
      "  Computing correction vectors...\n",
      "  Adjusting variance...\n",
      "  Applying correction...\n",
      "Step 9 of 89: processing batch 9\n",
      "  Looking for MNNs...\n",
      "  Computing correction vectors...\n",
      "  Adjusting variance...\n",
      "  Applying correction...\n",
      "Step 10 of 89: processing batch 10\n",
      "  Looking for MNNs...\n",
      "  Computing correction vectors...\n",
      "  Adjusting variance...\n",
      "  Applying correction...\n",
      "Step 11 of 89: processing batch 11\n",
      "  Looking for MNNs...\n",
      "  Computing correction vectors...\n",
      "  Adjusting variance...\n",
      "  Applying correction...\n",
      "Step 12 of 89: processing batch 12\n",
      "  Looking for MNNs...\n",
      "  Computing correction vectors...\n",
      "  Adjusting variance...\n",
      "  Applying correction...\n",
      "Step 13 of 89: processing batch 13\n",
      "  Looking for MNNs...\n",
      "  Computing correction vectors...\n",
      "  Adjusting variance...\n",
      "  Applying correction...\n",
      "Step 14 of 89: processing batch 14\n",
      "  Looking for MNNs...\n",
      "  Computing correction vectors...\n",
      "  Adjusting variance...\n",
      "  Applying correction...\n",
      "Step 15 of 89: processing batch 15\n",
      "  Looking for MNNs...\n",
      "  Computing correction vectors...\n",
      "  Adjusting variance...\n",
      "  Applying correction...\n",
      "Step 16 of 89: processing batch 16\n",
      "  Looking for MNNs...\n",
      "  Computing correction vectors...\n",
      "  Adjusting variance...\n",
      "  Applying correction...\n",
      "Step 17 of 89: processing batch 17\n",
      "  Looking for MNNs...\n",
      "  Computing correction vectors...\n",
      "  Adjusting variance...\n",
      "  Applying correction...\n",
      "Step 18 of 89: processing batch 18\n",
      "  Looking for MNNs...\n",
      "  Computing correction vectors...\n",
      "  Adjusting variance...\n",
      "  Applying correction...\n",
      "Step 19 of 89: processing batch 19\n",
      "  Looking for MNNs...\n",
      "  Computing correction vectors...\n",
      "  Adjusting variance...\n",
      "  Applying correction...\n",
      "Step 20 of 89: processing batch 20\n",
      "  Looking for MNNs...\n",
      "  Computing correction vectors...\n",
      "  Adjusting variance...\n",
      "  Applying correction...\n",
      "Step 21 of 89: processing batch 21\n",
      "  Looking for MNNs...\n",
      "  Computing correction vectors...\n",
      "  Adjusting variance...\n",
      "  Applying correction...\n",
      "Step 22 of 89: processing batch 22\n",
      "  Looking for MNNs...\n",
      "  Computing correction vectors...\n",
      "  Adjusting variance...\n",
      "  Applying correction...\n",
      "Step 23 of 89: processing batch 23\n",
      "  Looking for MNNs...\n",
      "  Computing correction vectors...\n",
      "  Adjusting variance...\n",
      "  Applying correction...\n",
      "Step 24 of 89: processing batch 24\n",
      "  Looking for MNNs...\n",
      "  Computing correction vectors...\n",
      "  Adjusting variance...\n",
      "  Applying correction...\n",
      "Step 25 of 89: processing batch 25\n",
      "  Looking for MNNs...\n",
      "  Computing correction vectors...\n",
      "  Adjusting variance...\n",
      "  Applying correction...\n",
      "Step 26 of 89: processing batch 26\n",
      "  Looking for MNNs...\n",
      "  Computing correction vectors...\n",
      "  Adjusting variance...\n",
      "  Applying correction...\n",
      "Step 27 of 89: processing batch 27\n",
      "  Looking for MNNs...\n",
      "  Computing correction vectors...\n",
      "  Adjusting variance...\n",
      "  Applying correction...\n",
      "Step 28 of 89: processing batch 28\n",
      "  Looking for MNNs...\n",
      "  Computing correction vectors...\n",
      "  Adjusting variance...\n",
      "  Applying correction...\n",
      "Step 29 of 89: processing batch 29\n",
      "  Looking for MNNs...\n",
      "  Computing correction vectors...\n",
      "  Adjusting variance...\n",
      "  Applying correction...\n",
      "Step 30 of 89: processing batch 30\n",
      "  Looking for MNNs...\n",
      "  Computing correction vectors...\n",
      "  Adjusting variance...\n",
      "  Applying correction...\n",
      "Step 31 of 89: processing batch 31\n",
      "  Looking for MNNs...\n",
      "  Computing correction vectors...\n",
      "  Adjusting variance...\n",
      "  Applying correction...\n",
      "Step 32 of 89: processing batch 32\n",
      "  Looking for MNNs...\n",
      "  Computing correction vectors...\n",
      "  Adjusting variance...\n",
      "  Applying correction...\n",
      "Step 33 of 89: processing batch 33\n",
      "  Looking for MNNs...\n",
      "  Computing correction vectors...\n",
      "  Adjusting variance...\n",
      "  Applying correction...\n",
      "Step 34 of 89: processing batch 34\n",
      "  Looking for MNNs...\n",
      "  Computing correction vectors...\n",
      "  Adjusting variance...\n",
      "  Applying correction...\n",
      "Step 35 of 89: processing batch 35\n",
      "  Looking for MNNs...\n",
      "  Computing correction vectors...\n",
      "  Adjusting variance...\n",
      "  Applying correction...\n",
      "Step 36 of 89: processing batch 36\n",
      "  Looking for MNNs...\n",
      "  Computing correction vectors...\n",
      "  Adjusting variance...\n",
      "  Applying correction...\n",
      "Step 37 of 89: processing batch 37\n",
      "  Looking for MNNs...\n",
      "  Computing correction vectors...\n",
      "  Adjusting variance...\n",
      "  Applying correction...\n",
      "Step 38 of 89: processing batch 38\n",
      "  Looking for MNNs...\n",
      "  Computing correction vectors...\n",
      "  Adjusting variance...\n",
      "  Applying correction...\n",
      "Step 39 of 89: processing batch 39\n",
      "  Looking for MNNs...\n",
      "  Computing correction vectors...\n",
      "  Adjusting variance...\n",
      "  Applying correction...\n",
      "Step 40 of 89: processing batch 40\n",
      "  Looking for MNNs...\n",
      "  Computing correction vectors...\n",
      "  Adjusting variance...\n",
      "  Applying correction...\n",
      "Step 41 of 89: processing batch 41\n",
      "  Looking for MNNs...\n",
      "  Computing correction vectors...\n",
      "  Adjusting variance...\n",
      "  Applying correction...\n",
      "Step 42 of 89: processing batch 42\n",
      "  Looking for MNNs...\n",
      "  Computing correction vectors...\n",
      "  Adjusting variance...\n",
      "  Applying correction...\n",
      "Step 43 of 89: processing batch 43\n",
      "  Looking for MNNs...\n",
      "  Computing correction vectors...\n",
      "  Adjusting variance...\n",
      "  Applying correction...\n",
      "Step 44 of 89: processing batch 44\n",
      "  Looking for MNNs...\n",
      "  Computing correction vectors...\n",
      "  Adjusting variance...\n",
      "  Applying correction...\n",
      "Step 45 of 89: processing batch 45\n",
      "  Looking for MNNs...\n",
      "  Computing correction vectors...\n",
      "  Adjusting variance...\n",
      "  Applying correction...\n",
      "Step 46 of 89: processing batch 46\n",
      "  Looking for MNNs...\n",
      "  Computing correction vectors...\n",
      "  Adjusting variance...\n",
      "  Applying correction...\n",
      "Step 47 of 89: processing batch 47\n",
      "  Looking for MNNs...\n",
      "  Computing correction vectors...\n",
      "  Adjusting variance...\n",
      "  Applying correction...\n",
      "Step 48 of 89: processing batch 48\n",
      "  Looking for MNNs...\n",
      "  Computing correction vectors...\n",
      "  Adjusting variance...\n",
      "  Applying correction...\n",
      "Step 49 of 89: processing batch 49\n",
      "  Looking for MNNs...\n",
      "  Computing correction vectors...\n",
      "  Adjusting variance...\n",
      "  Applying correction...\n",
      "Step 50 of 89: processing batch 50\n",
      "  Looking for MNNs...\n",
      "  Computing correction vectors...\n",
      "  Adjusting variance...\n",
      "  Applying correction...\n",
      "Step 51 of 89: processing batch 51\n",
      "  Looking for MNNs...\n",
      "  Computing correction vectors...\n",
      "  Adjusting variance...\n",
      "  Applying correction...\n",
      "Step 52 of 89: processing batch 52\n",
      "  Looking for MNNs...\n",
      "  Computing correction vectors...\n",
      "  Adjusting variance...\n",
      "  Applying correction...\n",
      "Step 53 of 89: processing batch 53\n",
      "  Looking for MNNs...\n",
      "  Computing correction vectors...\n",
      "  Adjusting variance...\n",
      "  Applying correction...\n",
      "Step 54 of 89: processing batch 54\n",
      "  Looking for MNNs...\n",
      "  Computing correction vectors...\n",
      "  Adjusting variance...\n",
      "  Applying correction...\n",
      "Step 55 of 89: processing batch 55\n",
      "  Looking for MNNs...\n",
      "  Computing correction vectors...\n",
      "  Adjusting variance...\n",
      "  Applying correction...\n",
      "Step 56 of 89: processing batch 56\n",
      "  Looking for MNNs...\n",
      "  Computing correction vectors...\n",
      "  Adjusting variance...\n",
      "  Applying correction...\n",
      "Step 57 of 89: processing batch 57\n",
      "  Looking for MNNs...\n",
      "  Computing correction vectors...\n",
      "  Adjusting variance...\n",
      "  Applying correction...\n",
      "Step 58 of 89: processing batch 58\n",
      "  Looking for MNNs...\n",
      "  Computing correction vectors...\n",
      "  Adjusting variance...\n",
      "  Applying correction...\n",
      "Step 59 of 89: processing batch 59\n",
      "  Looking for MNNs...\n",
      "  Computing correction vectors...\n",
      "  Adjusting variance...\n",
      "  Applying correction...\n",
      "Step 60 of 89: processing batch 60\n",
      "  Looking for MNNs...\n",
      "  Computing correction vectors...\n",
      "  Adjusting variance...\n",
      "  Applying correction...\n",
      "Step 61 of 89: processing batch 61\n",
      "  Looking for MNNs...\n",
      "  Computing correction vectors...\n",
      "  Adjusting variance...\n",
      "  Applying correction...\n",
      "Step 62 of 89: processing batch 62\n",
      "  Looking for MNNs...\n",
      "  Computing correction vectors...\n",
      "  Adjusting variance...\n",
      "  Applying correction...\n",
      "Step 63 of 89: processing batch 63\n",
      "  Looking for MNNs...\n",
      "  Computing correction vectors...\n",
      "  Adjusting variance...\n",
      "  Applying correction...\n",
      "Step 64 of 89: processing batch 64\n",
      "  Looking for MNNs...\n",
      "  Computing correction vectors...\n",
      "  Adjusting variance...\n",
      "  Applying correction...\n",
      "Step 65 of 89: processing batch 65\n",
      "  Looking for MNNs...\n",
      "  Computing correction vectors...\n",
      "  Adjusting variance...\n",
      "  Applying correction...\n",
      "Step 66 of 89: processing batch 66\n",
      "  Looking for MNNs...\n",
      "  Computing correction vectors...\n",
      "  Adjusting variance...\n",
      "  Applying correction...\n",
      "Step 67 of 89: processing batch 67\n",
      "  Looking for MNNs...\n",
      "  Computing correction vectors...\n",
      "  Adjusting variance...\n",
      "  Applying correction...\n",
      "Step 68 of 89: processing batch 68\n",
      "  Looking for MNNs...\n",
      "  Computing correction vectors...\n",
      "  Adjusting variance...\n",
      "  Applying correction...\n",
      "Step 69 of 89: processing batch 69\n",
      "  Looking for MNNs...\n",
      "  Computing correction vectors...\n",
      "  Adjusting variance...\n",
      "  Applying correction...\n",
      "Step 70 of 89: processing batch 70\n",
      "  Looking for MNNs...\n",
      "  Computing correction vectors...\n",
      "  Adjusting variance...\n",
      "  Applying correction...\n",
      "Step 71 of 89: processing batch 71\n",
      "  Looking for MNNs...\n",
      "  Computing correction vectors...\n",
      "  Adjusting variance...\n",
      "  Applying correction...\n",
      "Step 72 of 89: processing batch 72\n",
      "  Looking for MNNs...\n",
      "  Computing correction vectors...\n",
      "  Adjusting variance...\n",
      "  Applying correction...\n",
      "Step 73 of 89: processing batch 73\n",
      "  Looking for MNNs...\n",
      "  Computing correction vectors...\n",
      "  Adjusting variance...\n",
      "  Applying correction...\n",
      "Step 74 of 89: processing batch 74\n",
      "  Looking for MNNs...\n",
      "  Computing correction vectors...\n",
      "  Adjusting variance...\n",
      "  Applying correction...\n",
      "Step 75 of 89: processing batch 75\n",
      "  Looking for MNNs...\n",
      "  Computing correction vectors...\n",
      "  Adjusting variance...\n",
      "  Applying correction...\n",
      "Step 76 of 89: processing batch 76\n",
      "  Looking for MNNs...\n",
      "  Computing correction vectors...\n",
      "  Adjusting variance...\n",
      "  Applying correction...\n",
      "Step 77 of 89: processing batch 77\n",
      "  Looking for MNNs...\n",
      "  Computing correction vectors...\n",
      "  Adjusting variance...\n",
      "  Applying correction...\n",
      "Step 78 of 89: processing batch 78\n",
      "  Looking for MNNs...\n",
      "  Computing correction vectors...\n",
      "  Adjusting variance...\n",
      "  Applying correction...\n",
      "Step 79 of 89: processing batch 79\n",
      "  Looking for MNNs...\n",
      "  Computing correction vectors...\n",
      "  Adjusting variance...\n",
      "  Applying correction...\n",
      "Step 80 of 89: processing batch 80\n",
      "  Looking for MNNs...\n",
      "  Computing correction vectors...\n",
      "  Adjusting variance...\n",
      "  Applying correction...\n",
      "Step 81 of 89: processing batch 81\n",
      "  Looking for MNNs...\n",
      "  Computing correction vectors...\n",
      "  Adjusting variance...\n",
      "  Applying correction...\n",
      "Step 82 of 89: processing batch 82\n",
      "  Looking for MNNs...\n",
      "  Computing correction vectors...\n",
      "  Adjusting variance...\n",
      "  Applying correction...\n",
      "Step 83 of 89: processing batch 83\n",
      "  Looking for MNNs...\n",
      "  Computing correction vectors...\n",
      "  Adjusting variance...\n",
      "  Applying correction...\n",
      "Step 84 of 89: processing batch 84\n",
      "  Looking for MNNs...\n",
      "  Computing correction vectors...\n",
      "  Adjusting variance...\n",
      "  Applying correction...\n",
      "Step 85 of 89: processing batch 85\n",
      "  Looking for MNNs...\n",
      "  Computing correction vectors...\n",
      "  Adjusting variance...\n",
      "  Applying correction...\n",
      "Step 86 of 89: processing batch 86\n",
      "  Looking for MNNs...\n",
      "  Computing correction vectors...\n",
      "  Adjusting variance...\n",
      "  Applying correction...\n",
      "Step 87 of 89: processing batch 87\n",
      "  Looking for MNNs...\n",
      "  Computing correction vectors...\n",
      "  Adjusting variance...\n",
      "  Applying correction...\n",
      "Step 88 of 89: processing batch 88\n",
      "  Looking for MNNs...\n",
      "  Computing correction vectors...\n",
      "  Adjusting variance...\n",
      "  Applying correction...\n",
      "Step 89 of 89: processing batch 89\n",
      "  Looking for MNNs...\n",
      "  Computing correction vectors...\n",
      "  Adjusting variance...\n",
      "  Applying correction...\n",
      "MNN correction complete. Gathering output...\n",
      "Packing AnnData object...\n",
      "Done.\n",
      "CPU times: user 5d 2h 38min 20s, sys: 1d 9h 16min 33s, total: 6d 11h 54min 54s\n",
      "Wall time: 13h 49min 22s\n"
     ]
    }
   ],
   "source": [
    "ad_mnn = ad_orig.copy()\n",
    "sc.pp.highly_variable_genes(ad_mnn, n_top_genes=2000, subset=True)\n",
    "ad_mnn.obs.channel.cat.reorder_categories(sorted(ad_mnn.obs.channel.cat.categories, key=len, reverse=True), inplace=True)\n",
    "\n",
    "%time ad_mnn = scIB.integration.runMNN(ad_mnn, 'channel')\n",
    "\n",
    "sc.pp.neighbors(ad_mnn, use_rep='X')\n",
    "sc.tl.leiden(ad_mnn)"
   ]
  },
  {
   "cell_type": "code",
   "execution_count": 18,
   "metadata": {},
   "outputs": [],
   "source": [
    "#ad_mnn.write('adata_mnn_full.h5ad')"
   ]
  },
  {
   "cell_type": "code",
   "execution_count": 19,
   "metadata": {
    "collapsed": true,
    "jupyter": {
     "outputs_hidden": true
    }
   },
   "outputs": [
    {
     "data": {
      "application/vnd.jupyter.widget-view+json": {
       "model_id": "c78d84b701fd405a87caba8458f179e5",
       "version_major": 2,
       "version_minor": 0
      },
      "text/plain": [
       "HBox(children=(FloatProgress(value=0.0, max=5.0), HTML(value='')))"
      ]
     },
     "metadata": {},
     "output_type": "display_data"
    },
    {
     "name": "stdout",
     "output_type": "stream",
     "text": [
      "\n"
     ]
    },
    {
     "name": "stderr",
     "output_type": "stream",
     "text": [
      "/home/gokcen/.local/lib/python3.8/site-packages/anndata/_core/anndata.py:1094: FutureWarning: is_categorical is deprecated and will be removed in a future version.  Use is_categorical_dtype instead\n",
      "  if not is_categorical(df_full[k]):\n",
      "/home/gokcen/.local/lib/python3.8/site-packages/anndata/_core/anndata.py:1094: FutureWarning: is_categorical is deprecated and will be removed in a future version.  Use is_categorical_dtype instead\n",
      "  if not is_categorical(df_full[k]):\n",
      "/home/gokcen/.local/lib/python3.8/site-packages/anndata/_core/anndata.py:1094: FutureWarning: is_categorical is deprecated and will be removed in a future version.  Use is_categorical_dtype instead\n",
      "  if not is_categorical(df_full[k]):\n",
      "/home/gokcen/.local/lib/python3.8/site-packages/anndata/_core/anndata.py:1094: FutureWarning: is_categorical is deprecated and will be removed in a future version.  Use is_categorical_dtype instead\n",
      "  if not is_categorical(df_full[k]):\n",
      "/home/gokcen/.local/lib/python3.8/site-packages/anndata/_core/anndata.py:1094: FutureWarning: is_categorical is deprecated and will be removed in a future version.  Use is_categorical_dtype instead\n",
      "  if not is_categorical(df_full[k]):\n"
     ]
    },
    {
     "name": "stdout",
     "output_type": "stream",
     "text": [
      "Adding diffusion to step 4\n"
     ]
    },
    {
     "name": "stderr",
     "output_type": "stream",
     "text": [
      "/home/gokcen/.local/lib/python3.8/site-packages/anndata/_core/anndata.py:1094: FutureWarning: is_categorical is deprecated and will be removed in a future version.  Use is_categorical_dtype instead\n",
      "  if not is_categorical(df_full[k]):\n"
     ]
    },
    {
     "name": "stdout",
     "output_type": "stream",
     "text": [
      "Adding diffusion to step 4\n",
      "Adding diffusion to step 5\n"
     ]
    },
    {
     "name": "stderr",
     "output_type": "stream",
     "text": [
      "/home/gokcen/.local/lib/python3.8/site-packages/anndata/_core/anndata.py:1094: FutureWarning: is_categorical is deprecated and will be removed in a future version.  Use is_categorical_dtype instead\n",
      "  if not is_categorical(df_full[k]):\n"
     ]
    },
    {
     "name": "stdout",
     "output_type": "stream",
     "text": [
      "Adding diffusion to step 4\n"
     ]
    },
    {
     "name": "stderr",
     "output_type": "stream",
     "text": [
      "/home/gokcen/.local/lib/python3.8/site-packages/anndata/_core/anndata.py:1094: FutureWarning: is_categorical is deprecated and will be removed in a future version.  Use is_categorical_dtype instead\n",
      "  if not is_categorical(df_full[k]):\n",
      "/home/gokcen/.local/lib/python3.8/site-packages/anndata/_core/anndata.py:1094: FutureWarning: is_categorical is deprecated and will be removed in a future version.  Use is_categorical_dtype instead\n",
      "  if not is_categorical(df_full[k]):\n",
      "/home/gokcen/.local/lib/python3.8/site-packages/anndata/_core/anndata.py:1094: FutureWarning: is_categorical is deprecated and will be removed in a future version.  Use is_categorical_dtype instead\n",
      "  if not is_categorical(df_full[k]):\n",
      "/home/gokcen/.local/lib/python3.8/site-packages/anndata/_core/anndata.py:1094: FutureWarning: is_categorical is deprecated and will be removed in a future version.  Use is_categorical_dtype instead\n",
      "  if not is_categorical(df_full[k]):\n",
      "/home/gokcen/.local/lib/python3.8/site-packages/anndata/_core/anndata.py:1094: FutureWarning: is_categorical is deprecated and will be removed in a future version.  Use is_categorical_dtype instead\n",
      "  if not is_categorical(df_full[k]):\n",
      "/home/gokcen/.local/lib/python3.8/site-packages/anndata/_core/anndata.py:1094: FutureWarning: is_categorical is deprecated and will be removed in a future version.  Use is_categorical_dtype instead\n",
      "  if not is_categorical(df_full[k]):\n"
     ]
    },
    {
     "name": "stdout",
     "output_type": "stream",
     "text": [
      "Adding diffusion to step 4\n"
     ]
    },
    {
     "name": "stderr",
     "output_type": "stream",
     "text": [
      "/home/gokcen/.local/lib/python3.8/site-packages/anndata/_core/anndata.py:1094: FutureWarning: is_categorical is deprecated and will be removed in a future version.  Use is_categorical_dtype instead\n",
      "  if not is_categorical(df_full[k]):\n",
      "/home/gokcen/.local/lib/python3.8/site-packages/anndata/_core/anndata.py:1094: FutureWarning: is_categorical is deprecated and will be removed in a future version.  Use is_categorical_dtype instead\n",
      "  if not is_categorical(df_full[k]):\n"
     ]
    },
    {
     "name": "stdout",
     "output_type": "stream",
     "text": [
      "Adding diffusion to step 4\n"
     ]
    },
    {
     "name": "stderr",
     "output_type": "stream",
     "text": [
      "/home/gokcen/.local/lib/python3.8/site-packages/anndata/_core/anndata.py:1094: FutureWarning: is_categorical is deprecated and will be removed in a future version.  Use is_categorical_dtype instead\n",
      "  if not is_categorical(df_full[k]):\n"
     ]
    },
    {
     "name": "stdout",
     "output_type": "stream",
     "text": [
      "Adding diffusion to step 4\n"
     ]
    },
    {
     "name": "stderr",
     "output_type": "stream",
     "text": [
      "/home/gokcen/.local/lib/python3.8/site-packages/anndata/_core/anndata.py:1094: FutureWarning: is_categorical is deprecated and will be removed in a future version.  Use is_categorical_dtype instead\n",
      "  if not is_categorical(df_full[k]):\n",
      "/home/gokcen/.local/lib/python3.8/site-packages/anndata/_core/anndata.py:1094: FutureWarning: is_categorical is deprecated and will be removed in a future version.  Use is_categorical_dtype instead\n",
      "  if not is_categorical(df_full[k]):\n"
     ]
    },
    {
     "name": "stdout",
     "output_type": "stream",
     "text": [
      "Adding diffusion to step 4\n",
      "Adding diffusion to step 5\n",
      "Adding diffusion to step 6\n",
      "Adding diffusion to step 7\n",
      "Adding diffusion to step 8\n"
     ]
    },
    {
     "name": "stderr",
     "output_type": "stream",
     "text": [
      "/home/gokcen/.local/lib/python3.8/site-packages/anndata/_core/anndata.py:1094: FutureWarning: is_categorical is deprecated and will be removed in a future version.  Use is_categorical_dtype instead\n",
      "  if not is_categorical(df_full[k]):\n"
     ]
    },
    {
     "name": "stdout",
     "output_type": "stream",
     "text": [
      "Adding diffusion to step 4\n"
     ]
    },
    {
     "name": "stderr",
     "output_type": "stream",
     "text": [
      "/home/gokcen/.local/lib/python3.8/site-packages/anndata/_core/anndata.py:1094: FutureWarning: is_categorical is deprecated and will be removed in a future version.  Use is_categorical_dtype instead\n",
      "  if not is_categorical(df_full[k]):\n",
      "/home/gokcen/.local/lib/python3.8/site-packages/anndata/_core/anndata.py:1094: FutureWarning: is_categorical is deprecated and will be removed in a future version.  Use is_categorical_dtype instead\n",
      "  if not is_categorical(df_full[k]):\n"
     ]
    },
    {
     "name": "stdout",
     "output_type": "stream",
     "text": [
      "Adding diffusion to step 4\n",
      "Adding diffusion to step 5\n"
     ]
    },
    {
     "name": "stderr",
     "output_type": "stream",
     "text": [
      "/home/gokcen/.local/lib/python3.8/site-packages/anndata/_core/anndata.py:1094: FutureWarning: is_categorical is deprecated and will be removed in a future version.  Use is_categorical_dtype instead\n",
      "  if not is_categorical(df_full[k]):\n",
      "/home/gokcen/.local/lib/python3.8/site-packages/anndata/_core/anndata.py:1094: FutureWarning: is_categorical is deprecated and will be removed in a future version.  Use is_categorical_dtype instead\n",
      "  if not is_categorical(df_full[k]):\n",
      "/home/gokcen/.local/lib/python3.8/site-packages/anndata/_core/anndata.py:1094: FutureWarning: is_categorical is deprecated and will be removed in a future version.  Use is_categorical_dtype instead\n",
      "  if not is_categorical(df_full[k]):\n",
      "/home/gokcen/.local/lib/python3.8/site-packages/anndata/_core/anndata.py:1094: FutureWarning: is_categorical is deprecated and will be removed in a future version.  Use is_categorical_dtype instead\n",
      "  if not is_categorical(df_full[k]):\n"
     ]
    },
    {
     "name": "stdout",
     "output_type": "stream",
     "text": [
      "Adding diffusion to step 4\n",
      "Adding diffusion to step 5\n"
     ]
    },
    {
     "name": "stderr",
     "output_type": "stream",
     "text": [
      "/home/gokcen/.local/lib/python3.8/site-packages/anndata/_core/anndata.py:1094: FutureWarning: is_categorical is deprecated and will be removed in a future version.  Use is_categorical_dtype instead\n",
      "  if not is_categorical(df_full[k]):\n",
      "/home/gokcen/.local/lib/python3.8/site-packages/anndata/_core/anndata.py:1094: FutureWarning: is_categorical is deprecated and will be removed in a future version.  Use is_categorical_dtype instead\n",
      "  if not is_categorical(df_full[k]):\n"
     ]
    },
    {
     "name": "stdout",
     "output_type": "stream",
     "text": [
      "Adding diffusion to step 4\n"
     ]
    },
    {
     "name": "stderr",
     "output_type": "stream",
     "text": [
      "/home/gokcen/.local/lib/python3.8/site-packages/anndata/_core/anndata.py:1094: FutureWarning: is_categorical is deprecated and will be removed in a future version.  Use is_categorical_dtype instead\n",
      "  if not is_categorical(df_full[k]):\n"
     ]
    },
    {
     "name": "stdout",
     "output_type": "stream",
     "text": [
      "Adding diffusion to step 4\n",
      "Adding diffusion to step 5\n",
      "Adding diffusion to step 6\n",
      "Adding diffusion to step 7\n"
     ]
    },
    {
     "name": "stderr",
     "output_type": "stream",
     "text": [
      "/home/gokcen/.local/lib/python3.8/site-packages/anndata/_core/anndata.py:1094: FutureWarning: is_categorical is deprecated and will be removed in a future version.  Use is_categorical_dtype instead\n",
      "  if not is_categorical(df_full[k]):\n"
     ]
    },
    {
     "name": "stdout",
     "output_type": "stream",
     "text": [
      "Adding diffusion to step 4\n"
     ]
    },
    {
     "name": "stderr",
     "output_type": "stream",
     "text": [
      "/home/gokcen/.local/lib/python3.8/site-packages/anndata/_core/anndata.py:1094: FutureWarning: is_categorical is deprecated and will be removed in a future version.  Use is_categorical_dtype instead\n",
      "  if not is_categorical(df_full[k]):\n",
      "/home/gokcen/.local/lib/python3.8/site-packages/anndata/_core/anndata.py:1094: FutureWarning: is_categorical is deprecated and will be removed in a future version.  Use is_categorical_dtype instead\n",
      "  if not is_categorical(df_full[k]):\n",
      "/home/gokcen/.local/lib/python3.8/site-packages/anndata/_core/anndata.py:1094: FutureWarning: is_categorical is deprecated and will be removed in a future version.  Use is_categorical_dtype instead\n",
      "  if not is_categorical(df_full[k]):\n"
     ]
    },
    {
     "name": "stdout",
     "output_type": "stream",
     "text": [
      "Adding diffusion to step 4\n"
     ]
    },
    {
     "name": "stderr",
     "output_type": "stream",
     "text": [
      "/home/gokcen/.local/lib/python3.8/site-packages/anndata/_core/anndata.py:1094: FutureWarning: is_categorical is deprecated and will be removed in a future version.  Use is_categorical_dtype instead\n",
      "  if not is_categorical(df_full[k]):\n"
     ]
    },
    {
     "name": "stdout",
     "output_type": "stream",
     "text": [
      "Adding diffusion to step 4\n",
      "Adding diffusion to step 5\n"
     ]
    },
    {
     "name": "stderr",
     "output_type": "stream",
     "text": [
      "/home/gokcen/.local/lib/python3.8/site-packages/anndata/_core/anndata.py:1094: FutureWarning: is_categorical is deprecated and will be removed in a future version.  Use is_categorical_dtype instead\n",
      "  if not is_categorical(df_full[k]):\n"
     ]
    },
    {
     "name": "stdout",
     "output_type": "stream",
     "text": [
      "Adding diffusion to step 4\n"
     ]
    },
    {
     "name": "stderr",
     "output_type": "stream",
     "text": [
      "/home/gokcen/.local/lib/python3.8/site-packages/anndata/_core/anndata.py:1094: FutureWarning: is_categorical is deprecated and will be removed in a future version.  Use is_categorical_dtype instead\n",
      "  if not is_categorical(df_full[k]):\n",
      "/home/gokcen/.local/lib/python3.8/site-packages/anndata/_core/anndata.py:1094: FutureWarning: is_categorical is deprecated and will be removed in a future version.  Use is_categorical_dtype instead\n",
      "  if not is_categorical(df_full[k]):\n",
      "/home/gokcen/.local/lib/python3.8/site-packages/anndata/_core/anndata.py:1094: FutureWarning: is_categorical is deprecated and will be removed in a future version.  Use is_categorical_dtype instead\n",
      "  if not is_categorical(df_full[k]):\n"
     ]
    },
    {
     "name": "stdout",
     "output_type": "stream",
     "text": [
      "Adding diffusion to step 4\n"
     ]
    },
    {
     "name": "stderr",
     "output_type": "stream",
     "text": [
      "/home/gokcen/.local/lib/python3.8/site-packages/anndata/_core/anndata.py:1094: FutureWarning: is_categorical is deprecated and will be removed in a future version.  Use is_categorical_dtype instead\n",
      "  if not is_categorical(df_full[k]):\n",
      "/home/gokcen/.local/lib/python3.8/site-packages/anndata/_core/anndata.py:1094: FutureWarning: is_categorical is deprecated and will be removed in a future version.  Use is_categorical_dtype instead\n",
      "  if not is_categorical(df_full[k]):\n",
      "/home/gokcen/.local/lib/python3.8/site-packages/anndata/_core/anndata.py:1094: FutureWarning: is_categorical is deprecated and will be removed in a future version.  Use is_categorical_dtype instead\n",
      "  if not is_categorical(df_full[k]):\n",
      "/home/gokcen/.local/lib/python3.8/site-packages/anndata/_core/anndata.py:1094: FutureWarning: is_categorical is deprecated and will be removed in a future version.  Use is_categorical_dtype instead\n",
      "  if not is_categorical(df_full[k]):\n"
     ]
    },
    {
     "name": "stdout",
     "output_type": "stream",
     "text": [
      "CPU times: user 1h 4min 25s, sys: 43.2 s, total: 1h 5min 8s\n",
      "Wall time: 54min 19s\n"
     ]
    }
   ],
   "source": [
    "ad = ad_mnn\n",
    "method_name = 'MNN'\n",
    "metrics = [x for x in metrics if x[0] != method_name]\n",
    "\n",
    "for key in tqdm(metric_keys):\n",
    "    metrics.append((method_name, 'NMI', key, scIB.metrics.nmi(ad, key, 'leiden')))\n",
    "    metrics.append((method_name, 'ARI', key, scIB.metrics.ari(ad, key, 'leiden')))\n",
    "    \n",
    "%time kbet_score = scIB.metrics.kBET(ad, 'channel', 'Broad cell type', embed='X')\n",
    "metrics.append((method_name, 'kBET', 'Broad cell type', kbet_score))"
   ]
  },
  {
   "cell_type": "markdown",
   "metadata": {},
   "source": [
    "## VAE"
   ]
  },
  {
   "cell_type": "code",
   "execution_count": 20,
   "metadata": {},
   "outputs": [],
   "source": [
    "ad_vae = ad_orig.copy()\n",
    "sc.pp.highly_variable_genes(ad_vae, n_top_genes=5000)"
   ]
  },
  {
   "cell_type": "code",
   "execution_count": 21,
   "metadata": {},
   "outputs": [],
   "source": [
    "hvg = ad_vae.var_names[ad_vae.var['highly_variable']]"
   ]
  },
  {
   "cell_type": "code",
   "execution_count": 22,
   "metadata": {},
   "outputs": [
    {
     "data": {
      "text/plain": [
       "AnnData object with n_obs × n_vars = 209068 × 4999\n",
       "    obs: 'n_genes', 'fpr', 'tissue', 'prep', 'individual', 'nGenes', 'nUMIs', 'PercentMito', 'PercentRibo', 'Age_bin', 'Sex', 'Sample ID', 'Participant ID', 'Container', 'Sample ID short', 'RIN score from PAXgene tissue Aliquot', 'RIN score from Frozen tissue Aliquot', 'Age', 'BMI', 'Race/Ethnicity', 'Autolysis Score', 'Sample Ischemic Time (mins)', 'Tissue Site Detail', 'scrublet', 'scrublet_score', 'barcode', 'batch', 'n_counts', 'tissue-individual-prep', 'Broad cell type', 'Granular cell type', 'batch_triplet', 'introns', 'junctions', 'exons', 'sense', 'antisense', 'intergenic', 'batch-barcode', 'exon_ratio', 'intron_ratio', 'junction_ratio', 'log10_nUMIs', 'leiden', 'leiden_tissue', 'Tissue composition', 'Cell types level 2', 'Cell types level 3', 'Broad cell type numbers', 'Broad cell type (numbers)', 'Tissue', 'channel', 'ischemic_time', 'Participant_ID', 'Sample_ID'\n",
       "    var: 'gene_ids', 'Chromosome', 'Source', 'Start', 'End', 'Strand', 'gene_name', 'gene_source', 'gene_biotype', 'gene_length', 'gene_coding_length', 'Approved symbol', 'Approved name', 'Status', 'Previous symbols', 'Alias symbols'\n",
       "    uns: 'log1p'\n",
       "    obsm: 'X_pca', 'X_umap', 'X_umap_tissue', 'X_vae_mean', 'X_vae_mean_tissue', 'X_vae_samples', 'X_vae_var'"
      ]
     },
     "execution_count": 22,
     "metadata": {},
     "output_type": "execute_result"
    }
   ],
   "source": [
    "ad_vae = sc.AnnData(ad_vae.raw[:, hvg].X, \n",
    "                    obs=ad_vae.obs, \n",
    "                    var=ad_vae.raw[:, hvg].var, \n",
    "                    obsm=ad_vae.obsm)\n",
    "\n",
    "sc.pp.filter_cells(ad_vae, min_counts=1)\n",
    "sc.pp.normalize_total(ad_vae, target_sum=10000)\n",
    "sc.pp.log1p(ad_vae)\n",
    "ad_vae"
   ]
  },
  {
   "cell_type": "code",
   "execution_count": 23,
   "metadata": {},
   "outputs": [
    {
     "data": {
      "application/vnd.jupyter.widget-view+json": {
       "model_id": "eefdaafe210741b4b8bc56832990e2b3",
       "version_major": 2,
       "version_minor": 0
      },
      "text/plain": [
       "HBox(children=(FloatProgress(value=0.0, max=3.0), HTML(value='')))"
      ]
     },
     "metadata": {},
     "output_type": "display_data"
    },
    {
     "name": "stderr",
     "output_type": "stream",
     "text": [
      "Directory single_cell_results/benchmark-8d already exists. Archiving it to single_cell_results/benchmark-8d.zip\n",
      "/home/gokcen/.local/lib/python3.8/site-packages/anndata/_core/anndata.py:1192: FutureWarning: is_categorical is deprecated and will be removed in a future version.  Use is_categorical_dtype instead\n",
      "  if is_string_dtype(df[key]) and not is_categorical(df[key])\n"
     ]
    },
    {
     "name": "stdout",
     "output_type": "stream",
     "text": [
      "CPU times: user 13min 42s, sys: 4min 20s, total: 18min 2s\n",
      "Wall time: 14min 25s\n"
     ]
    },
    {
     "name": "stderr",
     "output_type": "stream",
     "text": [
      "Directory single_cell_results/benchmark-64d already exists. Archiving it to single_cell_results/benchmark-64d.zip\n",
      "/home/gokcen/.local/lib/python3.8/site-packages/anndata/_core/anndata.py:1192: FutureWarning: is_categorical is deprecated and will be removed in a future version.  Use is_categorical_dtype instead\n",
      "  if is_string_dtype(df[key]) and not is_categorical(df[key])\n"
     ]
    },
    {
     "name": "stdout",
     "output_type": "stream",
     "text": [
      "CPU times: user 13min 46s, sys: 5min 2s, total: 18min 49s\n",
      "Wall time: 15min 7s\n"
     ]
    },
    {
     "name": "stderr",
     "output_type": "stream",
     "text": [
      "Directory single_cell_results/benchmark-256d already exists. Archiving it to single_cell_results/benchmark-256d.zip\n",
      "/home/gokcen/.local/lib/python3.8/site-packages/anndata/_core/anndata.py:1192: FutureWarning: is_categorical is deprecated and will be removed in a future version.  Use is_categorical_dtype instead\n",
      "  if is_string_dtype(df[key]) and not is_categorical(df[key])\n"
     ]
    },
    {
     "name": "stdout",
     "output_type": "stream",
     "text": [
      "CPU times: user 15min 17s, sys: 5min 10s, total: 20min 27s\n",
      "Wall time: 16min 19s\n",
      "\n"
     ]
    }
   ],
   "source": [
    "experiments = {}\n",
    "for bottleneck in tqdm((8, 64, 256)):\n",
    "    gc.collect()\n",
    "    \n",
    "    ad = ad_vae.copy()\n",
    "    exp_name = f'benchmark-{bottleneck}d'\n",
    "\n",
    "    %time ad, model, trainer, train_loader = fit_single_cell(ad, exp_name, categorical_vars=['channel'], concat_all_dec_layers=True, output_activation='softplus', latent_dim=bottleneck, btcvae_B=2., epochs=50, progress_bar=False, seed=seed)\n",
    "    \n",
    "    sc.pp.neighbors(ad, use_rep='X_vae_mean')\n",
    "    sc.tl.leiden(ad)\n",
    "    \n",
    "    experiments[exp_name] = ad.copy()"
   ]
  },
  {
   "cell_type": "code",
   "execution_count": 24,
   "metadata": {},
   "outputs": [
    {
     "data": {
      "application/vnd.jupyter.widget-view+json": {
       "model_id": "ef55fe6c3bc74dfa84c453f31fd6cd00",
       "version_major": 2,
       "version_minor": 0
      },
      "text/plain": [
       "HBox(children=(FloatProgress(value=0.0, max=5.0), HTML(value='')))"
      ]
     },
     "metadata": {},
     "output_type": "display_data"
    },
    {
     "name": "stdout",
     "output_type": "stream",
     "text": [
      "\n"
     ]
    },
    {
     "name": "stderr",
     "output_type": "stream",
     "text": [
      "/home/gokcen/.local/lib/python3.8/site-packages/anndata/_core/anndata.py:1094: FutureWarning: is_categorical is deprecated and will be removed in a future version.  Use is_categorical_dtype instead\n",
      "  if not is_categorical(df_full[k]):\n",
      "/home/gokcen/.local/lib/python3.8/site-packages/anndata/_core/anndata.py:1094: FutureWarning: is_categorical is deprecated and will be removed in a future version.  Use is_categorical_dtype instead\n",
      "  if not is_categorical(df_full[k]):\n"
     ]
    },
    {
     "name": "stdout",
     "output_type": "stream",
     "text": [
      "Adding diffusion to step 4\n",
      "Adding diffusion to step 5\n"
     ]
    },
    {
     "name": "stderr",
     "output_type": "stream",
     "text": [
      "/home/gokcen/.local/lib/python3.8/site-packages/anndata/_core/anndata.py:1094: FutureWarning: is_categorical is deprecated and will be removed in a future version.  Use is_categorical_dtype instead\n",
      "  if not is_categorical(df_full[k]):\n",
      "/home/gokcen/.local/lib/python3.8/site-packages/anndata/_core/anndata.py:1094: FutureWarning: is_categorical is deprecated and will be removed in a future version.  Use is_categorical_dtype instead\n",
      "  if not is_categorical(df_full[k]):\n"
     ]
    },
    {
     "name": "stdout",
     "output_type": "stream",
     "text": [
      "Adding diffusion to step 4\n"
     ]
    },
    {
     "name": "stderr",
     "output_type": "stream",
     "text": [
      "/home/gokcen/.local/lib/python3.8/site-packages/anndata/_core/anndata.py:1094: FutureWarning: is_categorical is deprecated and will be removed in a future version.  Use is_categorical_dtype instead\n",
      "  if not is_categorical(df_full[k]):\n"
     ]
    },
    {
     "name": "stdout",
     "output_type": "stream",
     "text": [
      "Adding diffusion to step 4\n",
      "Adding diffusion to step 5\n"
     ]
    },
    {
     "name": "stderr",
     "output_type": "stream",
     "text": [
      "/home/gokcen/.local/lib/python3.8/site-packages/anndata/_core/anndata.py:1094: FutureWarning: is_categorical is deprecated and will be removed in a future version.  Use is_categorical_dtype instead\n",
      "  if not is_categorical(df_full[k]):\n"
     ]
    },
    {
     "name": "stdout",
     "output_type": "stream",
     "text": [
      "Adding diffusion to step 4\n"
     ]
    },
    {
     "name": "stderr",
     "output_type": "stream",
     "text": [
      "/home/gokcen/.local/lib/python3.8/site-packages/anndata/_core/anndata.py:1094: FutureWarning: is_categorical is deprecated and will be removed in a future version.  Use is_categorical_dtype instead\n",
      "  if not is_categorical(df_full[k]):\n"
     ]
    },
    {
     "name": "stdout",
     "output_type": "stream",
     "text": [
      "Adding diffusion to step 4\n",
      "Adding diffusion to step 5\n"
     ]
    },
    {
     "name": "stderr",
     "output_type": "stream",
     "text": [
      "/home/gokcen/.local/lib/python3.8/site-packages/anndata/_core/anndata.py:1094: FutureWarning: is_categorical is deprecated and will be removed in a future version.  Use is_categorical_dtype instead\n",
      "  if not is_categorical(df_full[k]):\n"
     ]
    },
    {
     "name": "stdout",
     "output_type": "stream",
     "text": [
      "Adding diffusion to step 4\n",
      "Adding diffusion to step 5\n",
      "Adding diffusion to step 6\n"
     ]
    },
    {
     "name": "stderr",
     "output_type": "stream",
     "text": [
      "/home/gokcen/.local/lib/python3.8/site-packages/anndata/_core/anndata.py:1094: FutureWarning: is_categorical is deprecated and will be removed in a future version.  Use is_categorical_dtype instead\n",
      "  if not is_categorical(df_full[k]):\n"
     ]
    },
    {
     "name": "stdout",
     "output_type": "stream",
     "text": [
      "Adding diffusion to step 4\n"
     ]
    },
    {
     "name": "stderr",
     "output_type": "stream",
     "text": [
      "/home/gokcen/.local/lib/python3.8/site-packages/anndata/_core/anndata.py:1094: FutureWarning: is_categorical is deprecated and will be removed in a future version.  Use is_categorical_dtype instead\n",
      "  if not is_categorical(df_full[k]):\n",
      "/home/gokcen/.local/lib/python3.8/site-packages/anndata/_core/anndata.py:1094: FutureWarning: is_categorical is deprecated and will be removed in a future version.  Use is_categorical_dtype instead\n",
      "  if not is_categorical(df_full[k]):\n",
      "/home/gokcen/.local/lib/python3.8/site-packages/anndata/_core/anndata.py:1094: FutureWarning: is_categorical is deprecated and will be removed in a future version.  Use is_categorical_dtype instead\n",
      "  if not is_categorical(df_full[k]):\n"
     ]
    },
    {
     "name": "stdout",
     "output_type": "stream",
     "text": [
      "Adding diffusion to step 4\n"
     ]
    },
    {
     "name": "stderr",
     "output_type": "stream",
     "text": [
      "/home/gokcen/.local/lib/python3.8/site-packages/anndata/_core/anndata.py:1094: FutureWarning: is_categorical is deprecated and will be removed in a future version.  Use is_categorical_dtype instead\n",
      "  if not is_categorical(df_full[k]):\n"
     ]
    },
    {
     "name": "stdout",
     "output_type": "stream",
     "text": [
      "Adding diffusion to step 4\n",
      "Adding diffusion to step 5\n"
     ]
    },
    {
     "name": "stderr",
     "output_type": "stream",
     "text": [
      "/home/gokcen/.local/lib/python3.8/site-packages/anndata/_core/anndata.py:1094: FutureWarning: is_categorical is deprecated and will be removed in a future version.  Use is_categorical_dtype instead\n",
      "  if not is_categorical(df_full[k]):\n",
      "/home/gokcen/.local/lib/python3.8/site-packages/anndata/_core/anndata.py:1094: FutureWarning: is_categorical is deprecated and will be removed in a future version.  Use is_categorical_dtype instead\n",
      "  if not is_categorical(df_full[k]):\n"
     ]
    },
    {
     "name": "stdout",
     "output_type": "stream",
     "text": [
      "Adding diffusion to step 4\n"
     ]
    },
    {
     "name": "stderr",
     "output_type": "stream",
     "text": [
      "/home/gokcen/.local/lib/python3.8/site-packages/anndata/_core/anndata.py:1094: FutureWarning: is_categorical is deprecated and will be removed in a future version.  Use is_categorical_dtype instead\n",
      "  if not is_categorical(df_full[k]):\n"
     ]
    },
    {
     "name": "stdout",
     "output_type": "stream",
     "text": [
      "Adding diffusion to step 4\n",
      "Adding diffusion to step 5\n",
      "Adding diffusion to step 6\n",
      "Adding diffusion to step 7\n"
     ]
    },
    {
     "name": "stderr",
     "output_type": "stream",
     "text": [
      "/home/gokcen/.local/lib/python3.8/site-packages/anndata/_core/anndata.py:1094: FutureWarning: is_categorical is deprecated and will be removed in a future version.  Use is_categorical_dtype instead\n",
      "  if not is_categorical(df_full[k]):\n",
      "/home/gokcen/.local/lib/python3.8/site-packages/anndata/_core/anndata.py:1094: FutureWarning: is_categorical is deprecated and will be removed in a future version.  Use is_categorical_dtype instead\n",
      "  if not is_categorical(df_full[k]):\n"
     ]
    },
    {
     "name": "stdout",
     "output_type": "stream",
     "text": [
      "Adding diffusion to step 4\n",
      "Adding diffusion to step 5\n",
      "Adding diffusion to step 6\n",
      "Adding diffusion to step 7\n",
      "Adding diffusion to step 8\n",
      "Adding diffusion to step 9\n",
      "Adding diffusion to step 10\n"
     ]
    },
    {
     "name": "stderr",
     "output_type": "stream",
     "text": [
      "/home/gokcen/.local/lib/python3.8/site-packages/anndata/_core/anndata.py:1094: FutureWarning: is_categorical is deprecated and will be removed in a future version.  Use is_categorical_dtype instead\n",
      "  if not is_categorical(df_full[k]):\n"
     ]
    },
    {
     "name": "stdout",
     "output_type": "stream",
     "text": [
      "Adding diffusion to step 4\n",
      "Adding diffusion to step 5\n",
      "Adding diffusion to step 6\n"
     ]
    },
    {
     "name": "stderr",
     "output_type": "stream",
     "text": [
      "/home/gokcen/.local/lib/python3.8/site-packages/anndata/_core/anndata.py:1094: FutureWarning: is_categorical is deprecated and will be removed in a future version.  Use is_categorical_dtype instead\n",
      "  if not is_categorical(df_full[k]):\n"
     ]
    },
    {
     "name": "stdout",
     "output_type": "stream",
     "text": [
      "Adding diffusion to step 4\n"
     ]
    },
    {
     "name": "stderr",
     "output_type": "stream",
     "text": [
      "/home/gokcen/.local/lib/python3.8/site-packages/anndata/_core/anndata.py:1094: FutureWarning: is_categorical is deprecated and will be removed in a future version.  Use is_categorical_dtype instead\n",
      "  if not is_categorical(df_full[k]):\n"
     ]
    },
    {
     "name": "stdout",
     "output_type": "stream",
     "text": [
      "Adding diffusion to step 4\n",
      "Adding diffusion to step 5\n",
      "Adding diffusion to step 6\n",
      "Adding diffusion to step 7\n"
     ]
    },
    {
     "name": "stderr",
     "output_type": "stream",
     "text": [
      "/home/gokcen/.local/lib/python3.8/site-packages/anndata/_core/anndata.py:1094: FutureWarning: is_categorical is deprecated and will be removed in a future version.  Use is_categorical_dtype instead\n",
      "  if not is_categorical(df_full[k]):\n"
     ]
    },
    {
     "name": "stdout",
     "output_type": "stream",
     "text": [
      "Adding diffusion to step 4\n"
     ]
    },
    {
     "name": "stderr",
     "output_type": "stream",
     "text": [
      "/home/gokcen/.local/lib/python3.8/site-packages/anndata/_core/anndata.py:1094: FutureWarning: is_categorical is deprecated and will be removed in a future version.  Use is_categorical_dtype instead\n",
      "  if not is_categorical(df_full[k]):\n",
      "/home/gokcen/.local/lib/python3.8/site-packages/anndata/_core/anndata.py:1094: FutureWarning: is_categorical is deprecated and will be removed in a future version.  Use is_categorical_dtype instead\n",
      "  if not is_categorical(df_full[k]):\n",
      "/home/gokcen/.local/lib/python3.8/site-packages/anndata/_core/anndata.py:1094: FutureWarning: is_categorical is deprecated and will be removed in a future version.  Use is_categorical_dtype instead\n",
      "  if not is_categorical(df_full[k]):\n"
     ]
    },
    {
     "name": "stdout",
     "output_type": "stream",
     "text": [
      "Adding diffusion to step 4\n",
      "Adding diffusion to step 5\n",
      "Adding diffusion to step 6\n"
     ]
    },
    {
     "name": "stderr",
     "output_type": "stream",
     "text": [
      "/home/gokcen/.local/lib/python3.8/site-packages/anndata/_core/anndata.py:1094: FutureWarning: is_categorical is deprecated and will be removed in a future version.  Use is_categorical_dtype instead\n",
      "  if not is_categorical(df_full[k]):\n",
      "/home/gokcen/.local/lib/python3.8/site-packages/anndata/_core/anndata.py:1094: FutureWarning: is_categorical is deprecated and will be removed in a future version.  Use is_categorical_dtype instead\n",
      "  if not is_categorical(df_full[k]):\n",
      "/home/gokcen/.local/lib/python3.8/site-packages/anndata/_core/anndata.py:1094: FutureWarning: is_categorical is deprecated and will be removed in a future version.  Use is_categorical_dtype instead\n",
      "  if not is_categorical(df_full[k]):\n"
     ]
    },
    {
     "name": "stdout",
     "output_type": "stream",
     "text": [
      "Adding diffusion to step 4\n",
      "Adding diffusion to step 5\n",
      "Adding diffusion to step 6\n",
      "Adding diffusion to step 7\n",
      "Adding diffusion to step 8\n"
     ]
    },
    {
     "name": "stderr",
     "output_type": "stream",
     "text": [
      "/home/gokcen/.local/lib/python3.8/site-packages/anndata/_core/anndata.py:1094: FutureWarning: is_categorical is deprecated and will be removed in a future version.  Use is_categorical_dtype instead\n",
      "  if not is_categorical(df_full[k]):\n"
     ]
    },
    {
     "name": "stdout",
     "output_type": "stream",
     "text": [
      "Adding diffusion to step 4\n",
      "Adding diffusion to step 5\n",
      "Adding diffusion to step 6\n",
      "Adding diffusion to step 7\n",
      "Adding diffusion to step 8\n",
      "Adding diffusion to step 9\n",
      "Adding diffusion to step 10\n",
      "Adding diffusion to step 11\n",
      "Adding diffusion to step 12\n",
      "Adding diffusion to step 13\n",
      "Adding diffusion to step 14\n",
      "Adding diffusion to step 15\n",
      "Adding diffusion to step 16\n",
      "Adding diffusion to step 17\n",
      "Adding diffusion to step 18\n"
     ]
    },
    {
     "name": "stderr",
     "output_type": "stream",
     "text": [
      "/home/gokcen/.local/lib/python3.8/site-packages/anndata/_core/anndata.py:1094: FutureWarning: is_categorical is deprecated and will be removed in a future version.  Use is_categorical_dtype instead\n",
      "  if not is_categorical(df_full[k]):\n",
      "/home/gokcen/.local/lib/python3.8/site-packages/anndata/_core/anndata.py:1094: FutureWarning: is_categorical is deprecated and will be removed in a future version.  Use is_categorical_dtype instead\n",
      "  if not is_categorical(df_full[k]):\n"
     ]
    },
    {
     "name": "stdout",
     "output_type": "stream",
     "text": [
      "Adding diffusion to step 4\n"
     ]
    },
    {
     "name": "stderr",
     "output_type": "stream",
     "text": [
      "/home/gokcen/.local/lib/python3.8/site-packages/anndata/_core/anndata.py:1094: FutureWarning: is_categorical is deprecated and will be removed in a future version.  Use is_categorical_dtype instead\n",
      "  if not is_categorical(df_full[k]):\n",
      "/home/gokcen/.local/lib/python3.8/site-packages/anndata/_core/anndata.py:1094: FutureWarning: is_categorical is deprecated and will be removed in a future version.  Use is_categorical_dtype instead\n",
      "  if not is_categorical(df_full[k]):\n",
      "/home/gokcen/.local/lib/python3.8/site-packages/anndata/_core/anndata.py:1094: FutureWarning: is_categorical is deprecated and will be removed in a future version.  Use is_categorical_dtype instead\n",
      "  if not is_categorical(df_full[k]):\n"
     ]
    },
    {
     "name": "stdout",
     "output_type": "stream",
     "text": [
      "Adding diffusion to step 4\n",
      "Adding diffusion to step 5\n"
     ]
    },
    {
     "name": "stderr",
     "output_type": "stream",
     "text": [
      "/home/gokcen/.local/lib/python3.8/site-packages/anndata/_core/anndata.py:1094: FutureWarning: is_categorical is deprecated and will be removed in a future version.  Use is_categorical_dtype instead\n",
      "  if not is_categorical(df_full[k]):\n"
     ]
    },
    {
     "name": "stdout",
     "output_type": "stream",
     "text": [
      "Adding diffusion to step 4\n",
      "Adding diffusion to step 5\n",
      "Adding diffusion to step 6\n"
     ]
    },
    {
     "name": "stderr",
     "output_type": "stream",
     "text": [
      "/home/gokcen/.local/lib/python3.8/site-packages/anndata/_core/anndata.py:1094: FutureWarning: is_categorical is deprecated and will be removed in a future version.  Use is_categorical_dtype instead\n",
      "  if not is_categorical(df_full[k]):\n"
     ]
    },
    {
     "name": "stdout",
     "output_type": "stream",
     "text": [
      "Adding diffusion to step 4\n",
      "Adding diffusion to step 5\n"
     ]
    },
    {
     "name": "stderr",
     "output_type": "stream",
     "text": [
      "/home/gokcen/.local/lib/python3.8/site-packages/anndata/_core/anndata.py:1094: FutureWarning: is_categorical is deprecated and will be removed in a future version.  Use is_categorical_dtype instead\n",
      "  if not is_categorical(df_full[k]):\n",
      "/home/gokcen/.local/lib/python3.8/site-packages/anndata/_core/anndata.py:1094: FutureWarning: is_categorical is deprecated and will be removed in a future version.  Use is_categorical_dtype instead\n",
      "  if not is_categorical(df_full[k]):\n"
     ]
    },
    {
     "name": "stdout",
     "output_type": "stream",
     "text": [
      "Adding diffusion to step 4\n",
      "Adding diffusion to step 5\n",
      "Adding diffusion to step 6\n",
      "Adding diffusion to step 7\n",
      "Adding diffusion to step 8\n"
     ]
    },
    {
     "name": "stderr",
     "output_type": "stream",
     "text": [
      "/home/gokcen/.local/lib/python3.8/site-packages/anndata/_core/anndata.py:1094: FutureWarning: is_categorical is deprecated and will be removed in a future version.  Use is_categorical_dtype instead\n",
      "  if not is_categorical(df_full[k]):\n"
     ]
    },
    {
     "name": "stdout",
     "output_type": "stream",
     "text": [
      "Adding diffusion to step 4\n"
     ]
    },
    {
     "name": "stderr",
     "output_type": "stream",
     "text": [
      "/home/gokcen/.local/lib/python3.8/site-packages/anndata/_core/anndata.py:1094: FutureWarning: is_categorical is deprecated and will be removed in a future version.  Use is_categorical_dtype instead\n",
      "  if not is_categorical(df_full[k]):\n",
      "/home/gokcen/.local/lib/python3.8/site-packages/anndata/_core/anndata.py:1094: FutureWarning: is_categorical is deprecated and will be removed in a future version.  Use is_categorical_dtype instead\n",
      "  if not is_categorical(df_full[k]):\n",
      "/home/gokcen/.local/lib/python3.8/site-packages/anndata/_core/anndata.py:1094: FutureWarning: is_categorical is deprecated and will be removed in a future version.  Use is_categorical_dtype instead\n",
      "  if not is_categorical(df_full[k]):\n",
      "/home/gokcen/.local/lib/python3.8/site-packages/anndata/_core/anndata.py:1094: FutureWarning: is_categorical is deprecated and will be removed in a future version.  Use is_categorical_dtype instead\n",
      "  if not is_categorical(df_full[k]):\n",
      "/home/gokcen/.local/lib/python3.8/site-packages/anndata/_core/anndata.py:1094: FutureWarning: is_categorical is deprecated and will be removed in a future version.  Use is_categorical_dtype instead\n",
      "  if not is_categorical(df_full[k]):\n"
     ]
    },
    {
     "name": "stdout",
     "output_type": "stream",
     "text": [
      "CPU times: user 40min 59s, sys: 1min 25s, total: 42min 24s\n",
      "Wall time: 39min 26s\n"
     ]
    },
    {
     "data": {
      "application/vnd.jupyter.widget-view+json": {
       "model_id": "8ba7d63062444daaaf507c355546ae68",
       "version_major": 2,
       "version_minor": 0
      },
      "text/plain": [
       "HBox(children=(FloatProgress(value=0.0, max=5.0), HTML(value='')))"
      ]
     },
     "metadata": {},
     "output_type": "display_data"
    },
    {
     "name": "stdout",
     "output_type": "stream",
     "text": [
      "\n"
     ]
    },
    {
     "name": "stderr",
     "output_type": "stream",
     "text": [
      "/home/gokcen/.local/lib/python3.8/site-packages/anndata/_core/anndata.py:1094: FutureWarning: is_categorical is deprecated and will be removed in a future version.  Use is_categorical_dtype instead\n",
      "  if not is_categorical(df_full[k]):\n",
      "/home/gokcen/.local/lib/python3.8/site-packages/anndata/_core/anndata.py:1094: FutureWarning: is_categorical is deprecated and will be removed in a future version.  Use is_categorical_dtype instead\n",
      "  if not is_categorical(df_full[k]):\n",
      "/home/gokcen/.local/lib/python3.8/site-packages/anndata/_core/anndata.py:1094: FutureWarning: is_categorical is deprecated and will be removed in a future version.  Use is_categorical_dtype instead\n",
      "  if not is_categorical(df_full[k]):\n",
      "/home/gokcen/.local/lib/python3.8/site-packages/anndata/_core/anndata.py:1094: FutureWarning: is_categorical is deprecated and will be removed in a future version.  Use is_categorical_dtype instead\n",
      "  if not is_categorical(df_full[k]):\n",
      "/home/gokcen/.local/lib/python3.8/site-packages/anndata/_core/anndata.py:1094: FutureWarning: is_categorical is deprecated and will be removed in a future version.  Use is_categorical_dtype instead\n",
      "  if not is_categorical(df_full[k]):\n",
      "/home/gokcen/.local/lib/python3.8/site-packages/anndata/_core/anndata.py:1094: FutureWarning: is_categorical is deprecated and will be removed in a future version.  Use is_categorical_dtype instead\n",
      "  if not is_categorical(df_full[k]):\n",
      "/home/gokcen/.local/lib/python3.8/site-packages/anndata/_core/anndata.py:1094: FutureWarning: is_categorical is deprecated and will be removed in a future version.  Use is_categorical_dtype instead\n",
      "  if not is_categorical(df_full[k]):\n"
     ]
    },
    {
     "name": "stdout",
     "output_type": "stream",
     "text": [
      "Adding diffusion to step 4\n"
     ]
    },
    {
     "name": "stderr",
     "output_type": "stream",
     "text": [
      "/home/gokcen/.local/lib/python3.8/site-packages/anndata/_core/anndata.py:1094: FutureWarning: is_categorical is deprecated and will be removed in a future version.  Use is_categorical_dtype instead\n",
      "  if not is_categorical(df_full[k]):\n"
     ]
    },
    {
     "name": "stdout",
     "output_type": "stream",
     "text": [
      "Adding diffusion to step 4\n"
     ]
    },
    {
     "name": "stderr",
     "output_type": "stream",
     "text": [
      "/home/gokcen/.local/lib/python3.8/site-packages/anndata/_core/anndata.py:1094: FutureWarning: is_categorical is deprecated and will be removed in a future version.  Use is_categorical_dtype instead\n",
      "  if not is_categorical(df_full[k]):\n",
      "/home/gokcen/.local/lib/python3.8/site-packages/anndata/_core/anndata.py:1094: FutureWarning: is_categorical is deprecated and will be removed in a future version.  Use is_categorical_dtype instead\n",
      "  if not is_categorical(df_full[k]):\n",
      "/home/gokcen/.local/lib/python3.8/site-packages/anndata/_core/anndata.py:1094: FutureWarning: is_categorical is deprecated and will be removed in a future version.  Use is_categorical_dtype instead\n",
      "  if not is_categorical(df_full[k]):\n",
      "/home/gokcen/.local/lib/python3.8/site-packages/anndata/_core/anndata.py:1094: FutureWarning: is_categorical is deprecated and will be removed in a future version.  Use is_categorical_dtype instead\n",
      "  if not is_categorical(df_full[k]):\n",
      "/home/gokcen/.local/lib/python3.8/site-packages/anndata/_core/anndata.py:1094: FutureWarning: is_categorical is deprecated and will be removed in a future version.  Use is_categorical_dtype instead\n",
      "  if not is_categorical(df_full[k]):\n",
      "/home/gokcen/.local/lib/python3.8/site-packages/anndata/_core/anndata.py:1094: FutureWarning: is_categorical is deprecated and will be removed in a future version.  Use is_categorical_dtype instead\n",
      "  if not is_categorical(df_full[k]):\n",
      "/home/gokcen/.local/lib/python3.8/site-packages/anndata/_core/anndata.py:1094: FutureWarning: is_categorical is deprecated and will be removed in a future version.  Use is_categorical_dtype instead\n",
      "  if not is_categorical(df_full[k]):\n"
     ]
    },
    {
     "name": "stdout",
     "output_type": "stream",
     "text": [
      "Adding diffusion to step 4\n"
     ]
    },
    {
     "name": "stderr",
     "output_type": "stream",
     "text": [
      "/home/gokcen/.local/lib/python3.8/site-packages/anndata/_core/anndata.py:1094: FutureWarning: is_categorical is deprecated and will be removed in a future version.  Use is_categorical_dtype instead\n",
      "  if not is_categorical(df_full[k]):\n"
     ]
    },
    {
     "name": "stdout",
     "output_type": "stream",
     "text": [
      "Adding diffusion to step 4\n"
     ]
    },
    {
     "name": "stderr",
     "output_type": "stream",
     "text": [
      "/home/gokcen/.local/lib/python3.8/site-packages/anndata/_core/anndata.py:1094: FutureWarning: is_categorical is deprecated and will be removed in a future version.  Use is_categorical_dtype instead\n",
      "  if not is_categorical(df_full[k]):\n",
      "/home/gokcen/.local/lib/python3.8/site-packages/anndata/_core/anndata.py:1094: FutureWarning: is_categorical is deprecated and will be removed in a future version.  Use is_categorical_dtype instead\n",
      "  if not is_categorical(df_full[k]):\n"
     ]
    },
    {
     "name": "stdout",
     "output_type": "stream",
     "text": [
      "Adding diffusion to step 4\n"
     ]
    },
    {
     "name": "stderr",
     "output_type": "stream",
     "text": [
      "/home/gokcen/.local/lib/python3.8/site-packages/anndata/_core/anndata.py:1094: FutureWarning: is_categorical is deprecated and will be removed in a future version.  Use is_categorical_dtype instead\n",
      "  if not is_categorical(df_full[k]):\n",
      "/home/gokcen/.local/lib/python3.8/site-packages/anndata/_core/anndata.py:1094: FutureWarning: is_categorical is deprecated and will be removed in a future version.  Use is_categorical_dtype instead\n",
      "  if not is_categorical(df_full[k]):\n"
     ]
    },
    {
     "name": "stdout",
     "output_type": "stream",
     "text": [
      "Adding diffusion to step 4\n"
     ]
    },
    {
     "name": "stderr",
     "output_type": "stream",
     "text": [
      "/home/gokcen/.local/lib/python3.8/site-packages/anndata/_core/anndata.py:1094: FutureWarning: is_categorical is deprecated and will be removed in a future version.  Use is_categorical_dtype instead\n",
      "  if not is_categorical(df_full[k]):\n"
     ]
    },
    {
     "name": "stdout",
     "output_type": "stream",
     "text": [
      "Adding diffusion to step 4\n",
      "Adding diffusion to step 5\n"
     ]
    },
    {
     "name": "stderr",
     "output_type": "stream",
     "text": [
      "/home/gokcen/.local/lib/python3.8/site-packages/anndata/_core/anndata.py:1094: FutureWarning: is_categorical is deprecated and will be removed in a future version.  Use is_categorical_dtype instead\n",
      "  if not is_categorical(df_full[k]):\n",
      "/home/gokcen/.local/lib/python3.8/site-packages/anndata/_core/anndata.py:1094: FutureWarning: is_categorical is deprecated and will be removed in a future version.  Use is_categorical_dtype instead\n",
      "  if not is_categorical(df_full[k]):\n",
      "/home/gokcen/.local/lib/python3.8/site-packages/anndata/_core/anndata.py:1094: FutureWarning: is_categorical is deprecated and will be removed in a future version.  Use is_categorical_dtype instead\n",
      "  if not is_categorical(df_full[k]):\n",
      "/home/gokcen/.local/lib/python3.8/site-packages/anndata/_core/anndata.py:1094: FutureWarning: is_categorical is deprecated and will be removed in a future version.  Use is_categorical_dtype instead\n",
      "  if not is_categorical(df_full[k]):\n",
      "/home/gokcen/.local/lib/python3.8/site-packages/anndata/_core/anndata.py:1094: FutureWarning: is_categorical is deprecated and will be removed in a future version.  Use is_categorical_dtype instead\n",
      "  if not is_categorical(df_full[k]):\n"
     ]
    },
    {
     "name": "stdout",
     "output_type": "stream",
     "text": [
      "Adding diffusion to step 4\n",
      "Adding diffusion to step 5\n",
      "Adding diffusion to step 6\n"
     ]
    },
    {
     "name": "stderr",
     "output_type": "stream",
     "text": [
      "/home/gokcen/.local/lib/python3.8/site-packages/anndata/_core/anndata.py:1094: FutureWarning: is_categorical is deprecated and will be removed in a future version.  Use is_categorical_dtype instead\n",
      "  if not is_categorical(df_full[k]):\n",
      "/home/gokcen/.local/lib/python3.8/site-packages/anndata/_core/anndata.py:1094: FutureWarning: is_categorical is deprecated and will be removed in a future version.  Use is_categorical_dtype instead\n",
      "  if not is_categorical(df_full[k]):\n",
      "/home/gokcen/.local/lib/python3.8/site-packages/anndata/_core/anndata.py:1094: FutureWarning: is_categorical is deprecated and will be removed in a future version.  Use is_categorical_dtype instead\n",
      "  if not is_categorical(df_full[k]):\n"
     ]
    },
    {
     "name": "stdout",
     "output_type": "stream",
     "text": [
      "Adding diffusion to step 4\n",
      "Adding diffusion to step 5\n"
     ]
    },
    {
     "name": "stderr",
     "output_type": "stream",
     "text": [
      "/home/gokcen/.local/lib/python3.8/site-packages/anndata/_core/anndata.py:1094: FutureWarning: is_categorical is deprecated and will be removed in a future version.  Use is_categorical_dtype instead\n",
      "  if not is_categorical(df_full[k]):\n"
     ]
    },
    {
     "name": "stdout",
     "output_type": "stream",
     "text": [
      "Adding diffusion to step 4\n",
      "Adding diffusion to step 5\n",
      "Adding diffusion to step 6\n",
      "Adding diffusion to step 7\n",
      "Adding diffusion to step 8\n",
      "Adding diffusion to step 9\n"
     ]
    },
    {
     "name": "stderr",
     "output_type": "stream",
     "text": [
      "/home/gokcen/.local/lib/python3.8/site-packages/anndata/_core/anndata.py:1094: FutureWarning: is_categorical is deprecated and will be removed in a future version.  Use is_categorical_dtype instead\n",
      "  if not is_categorical(df_full[k]):\n",
      "/home/gokcen/.local/lib/python3.8/site-packages/anndata/_core/anndata.py:1094: FutureWarning: is_categorical is deprecated and will be removed in a future version.  Use is_categorical_dtype instead\n",
      "  if not is_categorical(df_full[k]):\n",
      "/home/gokcen/.local/lib/python3.8/site-packages/anndata/_core/anndata.py:1094: FutureWarning: is_categorical is deprecated and will be removed in a future version.  Use is_categorical_dtype instead\n",
      "  if not is_categorical(df_full[k]):\n",
      "/home/gokcen/.local/lib/python3.8/site-packages/anndata/_core/anndata.py:1094: FutureWarning: is_categorical is deprecated and will be removed in a future version.  Use is_categorical_dtype instead\n",
      "  if not is_categorical(df_full[k]):\n"
     ]
    },
    {
     "name": "stdout",
     "output_type": "stream",
     "text": [
      "Adding diffusion to step 4\n",
      "Adding diffusion to step 5\n"
     ]
    },
    {
     "name": "stderr",
     "output_type": "stream",
     "text": [
      "/home/gokcen/.local/lib/python3.8/site-packages/anndata/_core/anndata.py:1094: FutureWarning: is_categorical is deprecated and will be removed in a future version.  Use is_categorical_dtype instead\n",
      "  if not is_categorical(df_full[k]):\n"
     ]
    },
    {
     "name": "stdout",
     "output_type": "stream",
     "text": [
      "Adding diffusion to step 4\n",
      "Adding diffusion to step 5\n"
     ]
    },
    {
     "name": "stderr",
     "output_type": "stream",
     "text": [
      "/home/gokcen/.local/lib/python3.8/site-packages/anndata/_core/anndata.py:1094: FutureWarning: is_categorical is deprecated and will be removed in a future version.  Use is_categorical_dtype instead\n",
      "  if not is_categorical(df_full[k]):\n",
      "/home/gokcen/.local/lib/python3.8/site-packages/anndata/_core/anndata.py:1094: FutureWarning: is_categorical is deprecated and will be removed in a future version.  Use is_categorical_dtype instead\n",
      "  if not is_categorical(df_full[k]):\n",
      "/home/gokcen/.local/lib/python3.8/site-packages/anndata/_core/anndata.py:1094: FutureWarning: is_categorical is deprecated and will be removed in a future version.  Use is_categorical_dtype instead\n",
      "  if not is_categorical(df_full[k]):\n"
     ]
    },
    {
     "name": "stdout",
     "output_type": "stream",
     "text": [
      "Adding diffusion to step 4\n",
      "Adding diffusion to step 5\n"
     ]
    },
    {
     "name": "stderr",
     "output_type": "stream",
     "text": [
      "/home/gokcen/.local/lib/python3.8/site-packages/anndata/_core/anndata.py:1094: FutureWarning: is_categorical is deprecated and will be removed in a future version.  Use is_categorical_dtype instead\n",
      "  if not is_categorical(df_full[k]):\n",
      "/home/gokcen/.local/lib/python3.8/site-packages/anndata/_core/anndata.py:1094: FutureWarning: is_categorical is deprecated and will be removed in a future version.  Use is_categorical_dtype instead\n",
      "  if not is_categorical(df_full[k]):\n",
      "/home/gokcen/.local/lib/python3.8/site-packages/anndata/_core/anndata.py:1094: FutureWarning: is_categorical is deprecated and will be removed in a future version.  Use is_categorical_dtype instead\n",
      "  if not is_categorical(df_full[k]):\n",
      "/home/gokcen/.local/lib/python3.8/site-packages/anndata/_core/anndata.py:1094: FutureWarning: is_categorical is deprecated and will be removed in a future version.  Use is_categorical_dtype instead\n",
      "  if not is_categorical(df_full[k]):\n",
      "/home/gokcen/.local/lib/python3.8/site-packages/anndata/_core/anndata.py:1094: FutureWarning: is_categorical is deprecated and will be removed in a future version.  Use is_categorical_dtype instead\n",
      "  if not is_categorical(df_full[k]):\n",
      "/home/gokcen/.local/lib/python3.8/site-packages/anndata/_core/anndata.py:1094: FutureWarning: is_categorical is deprecated and will be removed in a future version.  Use is_categorical_dtype instead\n",
      "  if not is_categorical(df_full[k]):\n"
     ]
    },
    {
     "name": "stdout",
     "output_type": "stream",
     "text": [
      "CPU times: user 37min 41s, sys: 1min 30s, total: 39min 12s\n",
      "Wall time: 35min 37s\n"
     ]
    },
    {
     "data": {
      "application/vnd.jupyter.widget-view+json": {
       "model_id": "d39fe21789f64694b2782f51d93b44e3",
       "version_major": 2,
       "version_minor": 0
      },
      "text/plain": [
       "HBox(children=(FloatProgress(value=0.0, max=5.0), HTML(value='')))"
      ]
     },
     "metadata": {},
     "output_type": "display_data"
    },
    {
     "name": "stdout",
     "output_type": "stream",
     "text": [
      "\n"
     ]
    },
    {
     "name": "stderr",
     "output_type": "stream",
     "text": [
      "/home/gokcen/.local/lib/python3.8/site-packages/anndata/_core/anndata.py:1094: FutureWarning: is_categorical is deprecated and will be removed in a future version.  Use is_categorical_dtype instead\n",
      "  if not is_categorical(df_full[k]):\n",
      "/home/gokcen/.local/lib/python3.8/site-packages/anndata/_core/anndata.py:1094: FutureWarning: is_categorical is deprecated and will be removed in a future version.  Use is_categorical_dtype instead\n",
      "  if not is_categorical(df_full[k]):\n"
     ]
    },
    {
     "name": "stdout",
     "output_type": "stream",
     "text": [
      "Adding diffusion to step 4\n"
     ]
    },
    {
     "name": "stderr",
     "output_type": "stream",
     "text": [
      "/home/gokcen/.local/lib/python3.8/site-packages/anndata/_core/anndata.py:1094: FutureWarning: is_categorical is deprecated and will be removed in a future version.  Use is_categorical_dtype instead\n",
      "  if not is_categorical(df_full[k]):\n",
      "/home/gokcen/.local/lib/python3.8/site-packages/anndata/_core/anndata.py:1094: FutureWarning: is_categorical is deprecated and will be removed in a future version.  Use is_categorical_dtype instead\n",
      "  if not is_categorical(df_full[k]):\n",
      "/home/gokcen/.local/lib/python3.8/site-packages/anndata/_core/anndata.py:1094: FutureWarning: is_categorical is deprecated and will be removed in a future version.  Use is_categorical_dtype instead\n",
      "  if not is_categorical(df_full[k]):\n"
     ]
    },
    {
     "name": "stdout",
     "output_type": "stream",
     "text": [
      "Adding diffusion to step 4\n"
     ]
    },
    {
     "name": "stderr",
     "output_type": "stream",
     "text": [
      "/home/gokcen/.local/lib/python3.8/site-packages/anndata/_core/anndata.py:1094: FutureWarning: is_categorical is deprecated and will be removed in a future version.  Use is_categorical_dtype instead\n",
      "  if not is_categorical(df_full[k]):\n"
     ]
    },
    {
     "name": "stdout",
     "output_type": "stream",
     "text": [
      "Adding diffusion to step 4\n"
     ]
    },
    {
     "name": "stderr",
     "output_type": "stream",
     "text": [
      "/home/gokcen/.local/lib/python3.8/site-packages/anndata/_core/anndata.py:1094: FutureWarning: is_categorical is deprecated and will be removed in a future version.  Use is_categorical_dtype instead\n",
      "  if not is_categorical(df_full[k]):\n",
      "/home/gokcen/.local/lib/python3.8/site-packages/anndata/_core/anndata.py:1094: FutureWarning: is_categorical is deprecated and will be removed in a future version.  Use is_categorical_dtype instead\n",
      "  if not is_categorical(df_full[k]):\n"
     ]
    },
    {
     "name": "stdout",
     "output_type": "stream",
     "text": [
      "Adding diffusion to step 4\n"
     ]
    },
    {
     "name": "stderr",
     "output_type": "stream",
     "text": [
      "/home/gokcen/.local/lib/python3.8/site-packages/anndata/_core/anndata.py:1094: FutureWarning: is_categorical is deprecated and will be removed in a future version.  Use is_categorical_dtype instead\n",
      "  if not is_categorical(df_full[k]):\n",
      "/home/gokcen/.local/lib/python3.8/site-packages/anndata/_core/anndata.py:1094: FutureWarning: is_categorical is deprecated and will be removed in a future version.  Use is_categorical_dtype instead\n",
      "  if not is_categorical(df_full[k]):\n"
     ]
    },
    {
     "name": "stdout",
     "output_type": "stream",
     "text": [
      "Adding diffusion to step 4\n"
     ]
    },
    {
     "name": "stderr",
     "output_type": "stream",
     "text": [
      "/home/gokcen/.local/lib/python3.8/site-packages/anndata/_core/anndata.py:1094: FutureWarning: is_categorical is deprecated and will be removed in a future version.  Use is_categorical_dtype instead\n",
      "  if not is_categorical(df_full[k]):\n",
      "/home/gokcen/.local/lib/python3.8/site-packages/anndata/_core/anndata.py:1094: FutureWarning: is_categorical is deprecated and will be removed in a future version.  Use is_categorical_dtype instead\n",
      "  if not is_categorical(df_full[k]):\n"
     ]
    },
    {
     "name": "stdout",
     "output_type": "stream",
     "text": [
      "Adding diffusion to step 4\n"
     ]
    },
    {
     "name": "stderr",
     "output_type": "stream",
     "text": [
      "/home/gokcen/.local/lib/python3.8/site-packages/anndata/_core/anndata.py:1094: FutureWarning: is_categorical is deprecated and will be removed in a future version.  Use is_categorical_dtype instead\n",
      "  if not is_categorical(df_full[k]):\n"
     ]
    },
    {
     "name": "stdout",
     "output_type": "stream",
     "text": [
      "Adding diffusion to step 4\n"
     ]
    },
    {
     "name": "stderr",
     "output_type": "stream",
     "text": [
      "/home/gokcen/.local/lib/python3.8/site-packages/anndata/_core/anndata.py:1094: FutureWarning: is_categorical is deprecated and will be removed in a future version.  Use is_categorical_dtype instead\n",
      "  if not is_categorical(df_full[k]):\n",
      "/home/gokcen/.local/lib/python3.8/site-packages/anndata/_core/anndata.py:1094: FutureWarning: is_categorical is deprecated and will be removed in a future version.  Use is_categorical_dtype instead\n",
      "  if not is_categorical(df_full[k]):\n"
     ]
    },
    {
     "name": "stdout",
     "output_type": "stream",
     "text": [
      "Adding diffusion to step 4\n"
     ]
    },
    {
     "name": "stderr",
     "output_type": "stream",
     "text": [
      "/home/gokcen/.local/lib/python3.8/site-packages/anndata/_core/anndata.py:1094: FutureWarning: is_categorical is deprecated and will be removed in a future version.  Use is_categorical_dtype instead\n",
      "  if not is_categorical(df_full[k]):\n"
     ]
    },
    {
     "name": "stdout",
     "output_type": "stream",
     "text": [
      "Adding diffusion to step 4\n"
     ]
    },
    {
     "name": "stderr",
     "output_type": "stream",
     "text": [
      "/home/gokcen/.local/lib/python3.8/site-packages/anndata/_core/anndata.py:1094: FutureWarning: is_categorical is deprecated and will be removed in a future version.  Use is_categorical_dtype instead\n",
      "  if not is_categorical(df_full[k]):\n"
     ]
    },
    {
     "name": "stdout",
     "output_type": "stream",
     "text": [
      "Adding diffusion to step 4\n",
      "Adding diffusion to step 5\n"
     ]
    },
    {
     "name": "stderr",
     "output_type": "stream",
     "text": [
      "/home/gokcen/.local/lib/python3.8/site-packages/anndata/_core/anndata.py:1094: FutureWarning: is_categorical is deprecated and will be removed in a future version.  Use is_categorical_dtype instead\n",
      "  if not is_categorical(df_full[k]):\n"
     ]
    },
    {
     "name": "stdout",
     "output_type": "stream",
     "text": [
      "Adding diffusion to step 4\n",
      "Adding diffusion to step 5\n",
      "Adding diffusion to step 6\n"
     ]
    },
    {
     "name": "stderr",
     "output_type": "stream",
     "text": [
      "/home/gokcen/.local/lib/python3.8/site-packages/anndata/_core/anndata.py:1094: FutureWarning: is_categorical is deprecated and will be removed in a future version.  Use is_categorical_dtype instead\n",
      "  if not is_categorical(df_full[k]):\n"
     ]
    },
    {
     "name": "stdout",
     "output_type": "stream",
     "text": [
      "Adding diffusion to step 4\n",
      "Adding diffusion to step 5\n",
      "Adding diffusion to step 6\n"
     ]
    },
    {
     "name": "stderr",
     "output_type": "stream",
     "text": [
      "/home/gokcen/.local/lib/python3.8/site-packages/anndata/_core/anndata.py:1094: FutureWarning: is_categorical is deprecated and will be removed in a future version.  Use is_categorical_dtype instead\n",
      "  if not is_categorical(df_full[k]):\n"
     ]
    },
    {
     "name": "stdout",
     "output_type": "stream",
     "text": [
      "Adding diffusion to step 4\n",
      "Adding diffusion to step 5\n",
      "Adding diffusion to step 6\n"
     ]
    },
    {
     "name": "stderr",
     "output_type": "stream",
     "text": [
      "/home/gokcen/.local/lib/python3.8/site-packages/anndata/_core/anndata.py:1094: FutureWarning: is_categorical is deprecated and will be removed in a future version.  Use is_categorical_dtype instead\n",
      "  if not is_categorical(df_full[k]):\n"
     ]
    },
    {
     "name": "stdout",
     "output_type": "stream",
     "text": [
      "Adding diffusion to step 4\n",
      "Adding diffusion to step 5\n"
     ]
    },
    {
     "name": "stderr",
     "output_type": "stream",
     "text": [
      "/home/gokcen/.local/lib/python3.8/site-packages/anndata/_core/anndata.py:1094: FutureWarning: is_categorical is deprecated and will be removed in a future version.  Use is_categorical_dtype instead\n",
      "  if not is_categorical(df_full[k]):\n"
     ]
    },
    {
     "name": "stdout",
     "output_type": "stream",
     "text": [
      "Adding diffusion to step 4\n"
     ]
    },
    {
     "name": "stderr",
     "output_type": "stream",
     "text": [
      "/home/gokcen/.local/lib/python3.8/site-packages/anndata/_core/anndata.py:1094: FutureWarning: is_categorical is deprecated and will be removed in a future version.  Use is_categorical_dtype instead\n",
      "  if not is_categorical(df_full[k]):\n",
      "/home/gokcen/.local/lib/python3.8/site-packages/anndata/_core/anndata.py:1094: FutureWarning: is_categorical is deprecated and will be removed in a future version.  Use is_categorical_dtype instead\n",
      "  if not is_categorical(df_full[k]):\n",
      "/home/gokcen/.local/lib/python3.8/site-packages/anndata/_core/anndata.py:1094: FutureWarning: is_categorical is deprecated and will be removed in a future version.  Use is_categorical_dtype instead\n",
      "  if not is_categorical(df_full[k]):\n"
     ]
    },
    {
     "name": "stdout",
     "output_type": "stream",
     "text": [
      "Adding diffusion to step 4\n",
      "Adding diffusion to step 5\n",
      "Adding diffusion to step 6\n",
      "Adding diffusion to step 7\n"
     ]
    },
    {
     "name": "stderr",
     "output_type": "stream",
     "text": [
      "/home/gokcen/.local/lib/python3.8/site-packages/anndata/_core/anndata.py:1094: FutureWarning: is_categorical is deprecated and will be removed in a future version.  Use is_categorical_dtype instead\n",
      "  if not is_categorical(df_full[k]):\n",
      "/home/gokcen/.local/lib/python3.8/site-packages/anndata/_core/anndata.py:1094: FutureWarning: is_categorical is deprecated and will be removed in a future version.  Use is_categorical_dtype instead\n",
      "  if not is_categorical(df_full[k]):\n"
     ]
    },
    {
     "name": "stdout",
     "output_type": "stream",
     "text": [
      "Adding diffusion to step 4\n",
      "Adding diffusion to step 5\n",
      "Adding diffusion to step 6\n"
     ]
    },
    {
     "name": "stderr",
     "output_type": "stream",
     "text": [
      "/home/gokcen/.local/lib/python3.8/site-packages/anndata/_core/anndata.py:1094: FutureWarning: is_categorical is deprecated and will be removed in a future version.  Use is_categorical_dtype instead\n",
      "  if not is_categorical(df_full[k]):\n"
     ]
    },
    {
     "name": "stdout",
     "output_type": "stream",
     "text": [
      "Adding diffusion to step 4\n",
      "Adding diffusion to step 5\n",
      "Adding diffusion to step 6\n",
      "Adding diffusion to step 7\n",
      "Adding diffusion to step 8\n"
     ]
    },
    {
     "name": "stderr",
     "output_type": "stream",
     "text": [
      "/home/gokcen/.local/lib/python3.8/site-packages/anndata/_core/anndata.py:1094: FutureWarning: is_categorical is deprecated and will be removed in a future version.  Use is_categorical_dtype instead\n",
      "  if not is_categorical(df_full[k]):\n"
     ]
    },
    {
     "name": "stdout",
     "output_type": "stream",
     "text": [
      "Adding diffusion to step 4\n"
     ]
    },
    {
     "name": "stderr",
     "output_type": "stream",
     "text": [
      "/home/gokcen/.local/lib/python3.8/site-packages/anndata/_core/anndata.py:1094: FutureWarning: is_categorical is deprecated and will be removed in a future version.  Use is_categorical_dtype instead\n",
      "  if not is_categorical(df_full[k]):\n",
      "/home/gokcen/.local/lib/python3.8/site-packages/anndata/_core/anndata.py:1094: FutureWarning: is_categorical is deprecated and will be removed in a future version.  Use is_categorical_dtype instead\n",
      "  if not is_categorical(df_full[k]):\n",
      "/home/gokcen/.local/lib/python3.8/site-packages/anndata/_core/anndata.py:1094: FutureWarning: is_categorical is deprecated and will be removed in a future version.  Use is_categorical_dtype instead\n",
      "  if not is_categorical(df_full[k]):\n",
      "/home/gokcen/.local/lib/python3.8/site-packages/anndata/_core/anndata.py:1094: FutureWarning: is_categorical is deprecated and will be removed in a future version.  Use is_categorical_dtype instead\n",
      "  if not is_categorical(df_full[k]):\n"
     ]
    },
    {
     "name": "stdout",
     "output_type": "stream",
     "text": [
      "Adding diffusion to step 4\n",
      "Adding diffusion to step 5\n",
      "Adding diffusion to step 6\n",
      "Adding diffusion to step 7\n"
     ]
    },
    {
     "name": "stderr",
     "output_type": "stream",
     "text": [
      "/home/gokcen/.local/lib/python3.8/site-packages/anndata/_core/anndata.py:1094: FutureWarning: is_categorical is deprecated and will be removed in a future version.  Use is_categorical_dtype instead\n",
      "  if not is_categorical(df_full[k]):\n"
     ]
    },
    {
     "name": "stdout",
     "output_type": "stream",
     "text": [
      "Adding diffusion to step 4\n",
      "Adding diffusion to step 5\n"
     ]
    },
    {
     "name": "stderr",
     "output_type": "stream",
     "text": [
      "/home/gokcen/.local/lib/python3.8/site-packages/anndata/_core/anndata.py:1094: FutureWarning: is_categorical is deprecated and will be removed in a future version.  Use is_categorical_dtype instead\n",
      "  if not is_categorical(df_full[k]):\n"
     ]
    },
    {
     "name": "stdout",
     "output_type": "stream",
     "text": [
      "Adding diffusion to step 4\n",
      "Adding diffusion to step 5\n",
      "Adding diffusion to step 6\n"
     ]
    },
    {
     "name": "stderr",
     "output_type": "stream",
     "text": [
      "/home/gokcen/.local/lib/python3.8/site-packages/anndata/_core/anndata.py:1094: FutureWarning: is_categorical is deprecated and will be removed in a future version.  Use is_categorical_dtype instead\n",
      "  if not is_categorical(df_full[k]):\n",
      "/home/gokcen/.local/lib/python3.8/site-packages/anndata/_core/anndata.py:1094: FutureWarning: is_categorical is deprecated and will be removed in a future version.  Use is_categorical_dtype instead\n",
      "  if not is_categorical(df_full[k]):\n"
     ]
    },
    {
     "name": "stdout",
     "output_type": "stream",
     "text": [
      "Adding diffusion to step 4\n",
      "Adding diffusion to step 5\n",
      "Adding diffusion to step 6\n"
     ]
    },
    {
     "name": "stderr",
     "output_type": "stream",
     "text": [
      "/home/gokcen/.local/lib/python3.8/site-packages/anndata/_core/anndata.py:1094: FutureWarning: is_categorical is deprecated and will be removed in a future version.  Use is_categorical_dtype instead\n",
      "  if not is_categorical(df_full[k]):\n"
     ]
    },
    {
     "name": "stdout",
     "output_type": "stream",
     "text": [
      "Adding diffusion to step 4\n"
     ]
    },
    {
     "name": "stderr",
     "output_type": "stream",
     "text": [
      "/home/gokcen/.local/lib/python3.8/site-packages/anndata/_core/anndata.py:1094: FutureWarning: is_categorical is deprecated and will be removed in a future version.  Use is_categorical_dtype instead\n",
      "  if not is_categorical(df_full[k]):\n"
     ]
    },
    {
     "name": "stdout",
     "output_type": "stream",
     "text": [
      "Adding diffusion to step 4\n"
     ]
    },
    {
     "name": "stderr",
     "output_type": "stream",
     "text": [
      "/home/gokcen/.local/lib/python3.8/site-packages/anndata/_core/anndata.py:1094: FutureWarning: is_categorical is deprecated and will be removed in a future version.  Use is_categorical_dtype instead\n",
      "  if not is_categorical(df_full[k]):\n",
      "/home/gokcen/.local/lib/python3.8/site-packages/anndata/_core/anndata.py:1094: FutureWarning: is_categorical is deprecated and will be removed in a future version.  Use is_categorical_dtype instead\n",
      "  if not is_categorical(df_full[k]):\n",
      "/home/gokcen/.local/lib/python3.8/site-packages/anndata/_core/anndata.py:1094: FutureWarning: is_categorical is deprecated and will be removed in a future version.  Use is_categorical_dtype instead\n",
      "  if not is_categorical(df_full[k]):\n",
      "/home/gokcen/.local/lib/python3.8/site-packages/anndata/_core/anndata.py:1094: FutureWarning: is_categorical is deprecated and will be removed in a future version.  Use is_categorical_dtype instead\n",
      "  if not is_categorical(df_full[k]):\n"
     ]
    },
    {
     "name": "stdout",
     "output_type": "stream",
     "text": [
      "CPU times: user 35min 57s, sys: 1min 19s, total: 37min 16s\n",
      "Wall time: 33min 34s\n"
     ]
    }
   ],
   "source": [
    "for bottleneck in (8, 64, 256):\n",
    "    ad = experiments[f'benchmark-{bottleneck}d']\n",
    "    method_name = f'VAE ({bottleneck}D)'\n",
    "    metrics = [x for x in metrics if x[0] != method_name]\n",
    "\n",
    "    for key in tqdm(metric_keys):\n",
    "        metrics.append((method_name, 'NMI', key, scIB.metrics.nmi(ad, key, 'leiden')))\n",
    "        metrics.append((method_name, 'ARI', key, scIB.metrics.ari(ad, key, 'leiden')))\n",
    "        \n",
    "    %time kbet_score = scIB.metrics.kBET(ad, 'channel', 'Broad cell type', embed='X_vae_mean')\n",
    "    metrics.append((method_name, 'kBET', 'Broad cell type', kbet_score))"
   ]
  },
  {
   "cell_type": "markdown",
   "metadata": {},
   "source": [
    "## Compile metrics"
   ]
  },
  {
   "cell_type": "code",
   "execution_count": null,
   "metadata": {},
   "outputs": [],
   "source": [
    "metric_df = pd.DataFrame(metrics, columns=['Method', 'Metric', 'Variable', 'Value'])\n",
    "metric_df"
   ]
  },
  {
   "cell_type": "code",
   "execution_count": 26,
   "metadata": {},
   "outputs": [],
   "source": [
    "metric_df.to_pickle(f'results_all_{seed}.pkl')"
   ]
  }
 ],
 "metadata": {
  "kernelspec": {
   "display_name": "Python 3",
   "language": "python",
   "name": "python3"
  },
  "language_info": {
   "codemirror_mode": {
    "name": "ipython",
    "version": 3
   },
   "file_extension": ".py",
   "mimetype": "text/x-python",
   "name": "python",
   "nbconvert_exporter": "python",
   "pygments_lexer": "ipython3",
   "version": "3.8.6"
  }
 },
 "nbformat": 4,
 "nbformat_minor": 5
}
