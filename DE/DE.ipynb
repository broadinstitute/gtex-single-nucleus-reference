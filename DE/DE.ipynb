{
 "cells": [
  {
   "cell_type": "markdown",
   "metadata": {},
   "source": [
    "## DE for broad and granular annotations"
   ]
  },
  {
   "cell_type": "code",
   "execution_count": 1,
   "metadata": {},
   "outputs": [],
   "source": [
    "import sys\n",
    "import io\n",
    "from pathlib import Path\n",
    "import pickle\n",
    "\n",
    "import scanpy as sc\n",
    "import numpy as np\n",
    "import pandas as pd\n",
    "import scipy as sp\n",
    "import matplotlib.pyplot as plt\n",
    "from tqdm.auto import tqdm\n",
    "from pathlib import Path\n",
    "import seaborn as sns"
   ]
  },
  {
   "cell_type": "code",
   "execution_count": null,
   "metadata": {},
   "outputs": [],
   "source": [
    "sys.path.append(str(Path.home() / 'Code/sctoolkit')) # https://github.com/gokceneraslan/sctoolkit/"
   ]
  },
  {
   "cell_type": "code",
   "execution_count": 2,
   "metadata": {},
   "outputs": [],
   "source": [
    "from sctoolkit.utils import run_spring, summarized_expression_df, bin_pval"
   ]
  },
  {
   "cell_type": "code",
   "execution_count": 3,
   "metadata": {},
   "outputs": [],
   "source": [
    "sc.set_figure_params(dpi=100, vector_friendly=True, facecolor='white', transparent=False)\n",
    "sc.settings.verbosity = 'info'"
   ]
  },
  {
   "cell_type": "code",
   "execution_count": 4,
   "metadata": {},
   "outputs": [],
   "source": [
    "from typing import Optional, Iterable, Tuple, Union\n",
    "from anndata import AnnData\n",
    "\n",
    "# similar to sc.get.rank_genes_groups_df but with pts and pts_rest columns\n",
    "# nowadays it's possible with sc.tl.rank_genes_groups(..., pts=True) I guess\n",
    "def rank_genes_groups_df(\n",
    "    adata: AnnData,\n",
    "    group: Union[str, Iterable[str]] = None,\n",
    "    *,\n",
    "    key: str = \"rank_genes_groups\",\n",
    "    pval_cutoff: Optional[float] = None,\n",
    "    log2fc_min: Optional[float] = None,\n",
    "    log2fc_max: Optional[float] = None,\n",
    "    gene_symbols: Optional[str] = None,\n",
    ") -> pd.DataFrame:\n",
    "\n",
    "    if isinstance(group, str):\n",
    "        group = [group]\n",
    "    if group is None:\n",
    "        group = list(adata.uns[key]['names'].dtype.names)\n",
    "        \n",
    "    colnames = ['names', 'scores', 'logfoldchanges', 'pvals', 'pvals_adj']\n",
    "\n",
    "    d = [pd.DataFrame(adata.uns[key][c])[group] for c in colnames]\n",
    "    d = pd.concat(d, axis=1, names=[None, 'group'], keys=colnames)\n",
    "    d = d.stack(level=1).reset_index()\n",
    "    d['group'] = pd.Categorical(d['group'], categories=group)\n",
    "    d = d.sort_values(['group', 'level_0']).drop(columns='level_0')\n",
    "\n",
    "    if pval_cutoff is not None:\n",
    "        d = d[d[\"pvals_adj\"] < pval_cutoff]\n",
    "    if log2fc_min is not None:\n",
    "        d = d[d[\"logfoldchanges\"] > log2fc_min]\n",
    "    if log2fc_max is not None:\n",
    "        d = d[d[\"logfoldchanges\"] < log2fc_max]\n",
    "    if gene_symbols is not None:\n",
    "        d = d.join(adata.var[gene_symbols], on=\"names\")\n",
    "        \n",
    "    if 'pts' in adata.uns[key]:\n",
    "        pts = adata.uns[key]['pts'][group].reset_index().melt(\n",
    "            id_vars='index', \n",
    "            var_name='group', \n",
    "            value_name='pts').rename(columns={'index': 'names'})\n",
    "        d = d.merge(pts)\n",
    "    if 'pts_rest' in adata.uns[key]:\n",
    "        ptsr = adata.uns[key]['pts_rest'][group].reset_index().melt(\n",
    "            id_vars='index', \n",
    "            var_name='group', \n",
    "            value_name='pts_rest').rename(columns={'index': 'names'})\n",
    "        d = d.merge(ptsr)\n",
    "\n",
    "    return d.reset_index(drop=True)"
   ]
  },
  {
   "cell_type": "markdown",
   "metadata": {},
   "source": [
    "## Literature-curated marker list"
   ]
  },
  {
   "cell_type": "code",
   "execution_count": 5,
   "metadata": {},
   "outputs": [
    {
     "data": {
      "application/vnd.jupyter.widget-view+json": {
       "model_id": "02d946bdac714f0798647312c4bc116d",
       "version_major": 2,
       "version_minor": 0
      },
      "text/plain": [
       "  0%|          | 0/7 [00:00<?, ?it/s]"
      ]
     },
     "metadata": {},
     "output_type": "display_data"
    },
    {
     "data": {
      "text/html": [
       "<div>\n",
       "<style scoped>\n",
       "    .dataframe tbody tr th:only-of-type {\n",
       "        vertical-align: middle;\n",
       "    }\n",
       "\n",
       "    .dataframe tbody tr th {\n",
       "        vertical-align: top;\n",
       "    }\n",
       "\n",
       "    .dataframe thead th {\n",
       "        text-align: right;\n",
       "    }\n",
       "</style>\n",
       "<table border=\"1\" class=\"dataframe\">\n",
       "  <thead>\n",
       "    <tr style=\"text-align: right;\">\n",
       "      <th></th>\n",
       "      <th>genes</th>\n",
       "      <th>marker</th>\n",
       "      <th>tissue</th>\n",
       "    </tr>\n",
       "  </thead>\n",
       "  <tbody>\n",
       "    <tr>\n",
       "      <th>0</th>\n",
       "      <td>CD19</td>\n",
       "      <td>B cell</td>\n",
       "      <td>breast</td>\n",
       "    </tr>\n",
       "    <tr>\n",
       "      <th>1</th>\n",
       "      <td>FCER2</td>\n",
       "      <td>B cell_mature-naïve</td>\n",
       "      <td>breast</td>\n",
       "    </tr>\n",
       "    <tr>\n",
       "      <th>2</th>\n",
       "      <td>CD69</td>\n",
       "      <td>B cell_mature-naïve</td>\n",
       "      <td>breast</td>\n",
       "    </tr>\n",
       "    <tr>\n",
       "      <th>3</th>\n",
       "      <td>CD80</td>\n",
       "      <td>B cell_mature-naïve</td>\n",
       "      <td>breast</td>\n",
       "    </tr>\n",
       "    <tr>\n",
       "      <th>4</th>\n",
       "      <td>CD86</td>\n",
       "      <td>B cell_mature-naïve</td>\n",
       "      <td>breast</td>\n",
       "    </tr>\n",
       "    <tr>\n",
       "      <th>...</th>\n",
       "      <td>...</td>\n",
       "      <td>...</td>\n",
       "      <td>...</td>\n",
       "    </tr>\n",
       "    <tr>\n",
       "      <th>1325</th>\n",
       "      <td>PTPRB</td>\n",
       "      <td>Vascular Endothelial</td>\n",
       "      <td>skin</td>\n",
       "    </tr>\n",
       "    <tr>\n",
       "      <th>1326</th>\n",
       "      <td>EGLF7</td>\n",
       "      <td>Vascular Endothelial</td>\n",
       "      <td>skin</td>\n",
       "    </tr>\n",
       "    <tr>\n",
       "      <th>1327</th>\n",
       "      <td>SCGB3A1</td>\n",
       "      <td>Secretory Cell</td>\n",
       "      <td>skin</td>\n",
       "    </tr>\n",
       "    <tr>\n",
       "      <th>1328</th>\n",
       "      <td>SCGB3A2</td>\n",
       "      <td>Secretory Cell</td>\n",
       "      <td>skin</td>\n",
       "    </tr>\n",
       "    <tr>\n",
       "      <th>1329</th>\n",
       "      <td>SCGB1A1</td>\n",
       "      <td>Secretory Cell</td>\n",
       "      <td>skin</td>\n",
       "    </tr>\n",
       "  </tbody>\n",
       "</table>\n",
       "<p>1330 rows × 3 columns</p>\n",
       "</div>"
      ],
      "text/plain": [
       "        genes                marker  tissue\n",
       "0        CD19                B cell  breast\n",
       "1       FCER2   B cell_mature-naïve  breast\n",
       "2        CD69   B cell_mature-naïve  breast\n",
       "3        CD80   B cell_mature-naïve  breast\n",
       "4        CD86   B cell_mature-naïve  breast\n",
       "...       ...                   ...     ...\n",
       "1325    PTPRB  Vascular Endothelial    skin\n",
       "1326    EGLF7  Vascular Endothelial    skin\n",
       "1327  SCGB3A1        Secretory Cell    skin\n",
       "1328  SCGB3A2        Secretory Cell    skin\n",
       "1329  SCGB1A1        Secretory Cell    skin\n",
       "\n",
       "[1330 rows x 3 columns]"
      ]
     },
     "execution_count": 5,
     "metadata": {},
     "output_type": "execute_result"
    }
   ],
   "source": [
    "markers = []\n",
    "\n",
    "for t in tqdm(('Breast', 'Esophagus', 'Heart', 'Lung', 'Skeletal Muscle', 'Prostate', 'Skin')):\n",
    "    df = pd.read_excel('../markers.xlsx', sheet_name=t)[['Gene', 'Cell-Type']].rename(columns={'Gene': 'genes', 'Cell-Type': 'marker'})\n",
    "    t = t.replace(' ', '').lower()\n",
    "    if t == 'esophagus':\n",
    "        markers.append(df.assign(tissue='esophagusmuscularis'))\n",
    "        markers.append(df.assign(tissue='esophagusmucosa'))        \n",
    "    else:\n",
    "        markers.append(df.assign(tissue=t))\n",
    "    \n",
    "markers = pd.concat(markers, axis=0).drop_duplicates().reset_index(drop=True)\n",
    "markers"
   ]
  },
  {
   "cell_type": "code",
   "execution_count": 6,
   "metadata": {},
   "outputs": [],
   "source": [
    "markers = markers.groupby(['genes', 'tissue']).agg(lambda x: ','.join(sorted(list(set(x))))).reset_index()"
   ]
  },
  {
   "cell_type": "code",
   "execution_count": 7,
   "metadata": {},
   "outputs": [
    {
     "data": {
      "text/html": [
       "<div>\n",
       "<style scoped>\n",
       "    .dataframe tbody tr th:only-of-type {\n",
       "        vertical-align: middle;\n",
       "    }\n",
       "\n",
       "    .dataframe tbody tr th {\n",
       "        vertical-align: top;\n",
       "    }\n",
       "\n",
       "    .dataframe thead th {\n",
       "        text-align: right;\n",
       "    }\n",
       "</style>\n",
       "<table border=\"1\" class=\"dataframe\">\n",
       "  <thead>\n",
       "    <tr style=\"text-align: right;\">\n",
       "      <th></th>\n",
       "      <th>genes</th>\n",
       "      <th>tissue</th>\n",
       "      <th>marker</th>\n",
       "    </tr>\n",
       "  </thead>\n",
       "  <tbody>\n",
       "    <tr>\n",
       "      <th>0</th>\n",
       "      <td>ABCG2</td>\n",
       "      <td>skeletalmuscle</td>\n",
       "      <td>Side Population (SP) Cell</td>\n",
       "    </tr>\n",
       "    <tr>\n",
       "      <th>1</th>\n",
       "      <td>ACPP</td>\n",
       "      <td>prostate</td>\n",
       "      <td>Luminal Epithelial</td>\n",
       "    </tr>\n",
       "    <tr>\n",
       "      <th>2</th>\n",
       "      <td>ACSL1</td>\n",
       "      <td>breast</td>\n",
       "      <td>Adipocyte</td>\n",
       "    </tr>\n",
       "    <tr>\n",
       "      <th>3</th>\n",
       "      <td>ACSL1</td>\n",
       "      <td>heart</td>\n",
       "      <td>Adipocyte</td>\n",
       "    </tr>\n",
       "    <tr>\n",
       "      <th>4</th>\n",
       "      <td>ACSL1</td>\n",
       "      <td>lung</td>\n",
       "      <td>Adipocyte</td>\n",
       "    </tr>\n",
       "    <tr>\n",
       "      <th>...</th>\n",
       "      <td>...</td>\n",
       "      <td>...</td>\n",
       "      <td>...</td>\n",
       "    </tr>\n",
       "    <tr>\n",
       "      <th>1220</th>\n",
       "      <td>VWF</td>\n",
       "      <td>heart</td>\n",
       "      <td>Vascular Endothelial</td>\n",
       "    </tr>\n",
       "    <tr>\n",
       "      <th>1221</th>\n",
       "      <td>VWF</td>\n",
       "      <td>lung</td>\n",
       "      <td>Vascular Endothelial</td>\n",
       "    </tr>\n",
       "    <tr>\n",
       "      <th>1222</th>\n",
       "      <td>VWF</td>\n",
       "      <td>prostate</td>\n",
       "      <td>Vascular Endothelial</td>\n",
       "    </tr>\n",
       "    <tr>\n",
       "      <th>1223</th>\n",
       "      <td>VWF</td>\n",
       "      <td>skeletalmuscle</td>\n",
       "      <td>Vascular Endothelial</td>\n",
       "    </tr>\n",
       "    <tr>\n",
       "      <th>1224</th>\n",
       "      <td>VWF</td>\n",
       "      <td>skin</td>\n",
       "      <td>Vascular Endothelial</td>\n",
       "    </tr>\n",
       "  </tbody>\n",
       "</table>\n",
       "<p>1225 rows × 3 columns</p>\n",
       "</div>"
      ],
      "text/plain": [
       "      genes          tissue                     marker\n",
       "0     ABCG2  skeletalmuscle  Side Population (SP) Cell\n",
       "1      ACPP        prostate         Luminal Epithelial\n",
       "2     ACSL1          breast                  Adipocyte\n",
       "3     ACSL1           heart                  Adipocyte\n",
       "4     ACSL1            lung                  Adipocyte\n",
       "...     ...             ...                        ...\n",
       "1220    VWF           heart       Vascular Endothelial\n",
       "1221    VWF            lung       Vascular Endothelial\n",
       "1222    VWF        prostate       Vascular Endothelial\n",
       "1223    VWF  skeletalmuscle       Vascular Endothelial\n",
       "1224    VWF            skin       Vascular Endothelial\n",
       "\n",
       "[1225 rows x 3 columns]"
      ]
     },
     "execution_count": 7,
     "metadata": {},
     "output_type": "execute_result"
    }
   ],
   "source": [
    "markers"
   ]
  },
  {
   "cell_type": "markdown",
   "metadata": {},
   "source": [
    "## Load data"
   ]
  },
  {
   "cell_type": "code",
   "execution_count": null,
   "metadata": {},
   "outputs": [],
   "source": [
    "adata = sc.read('../alltissue_v5__myocytes_20210204.h5ad')"
   ]
  },
  {
   "cell_type": "code",
   "execution_count": 10,
   "metadata": {},
   "outputs": [],
   "source": [
    "def celltype_de(ad, tissue, correct=('prep', 'Sex'), markers=None):\n",
    "    \n",
    "    for var in correct:\n",
    "        sc.pp.combat(ad, var)\n",
    "\n",
    "    spring_df_broad = run_spring(ad, 'Broad cell type')\n",
    "    spring_df_granular = run_spring(ad, 'Granular cell type')        \n",
    "\n",
    "    sc.tl.rank_genes_groups(ad, groupby='Broad cell type', key_added='broad_de', use_raw=False)\n",
    "    sc.tl.rank_genes_groups(ad, groupby='Granular cell type', key_added='granular_de', use_raw=False)\n",
    "\n",
    "    df_broad = rank_genes_groups_df(ad, key='broad_de')\n",
    "    df_granular = rank_genes_groups_df(ad, key='granular_de')\n",
    "\n",
    "    df_exp = summarized_expression_df(ad, groupby='Broad cell type', ops=['mean_expressed'], use_raw=False).reset_index().rename(columns={'Broad cell type': 'group', 'gene': 'names'})\n",
    "    df_exp.mean_expressed.fillna(0, inplace=True)\n",
    "    df_broad = df_broad.merge(df_exp, how='left')\n",
    "    df_broad.mean_expressed.fillna(0, inplace=True)\n",
    "\n",
    "    df_exp = summarized_expression_df(ad, groupby='Granular cell type', ops=['mean_expressed'], use_raw=False).reset_index().rename(columns={'Granular cell type': 'group', 'gene': 'names'})\n",
    "    df_exp.mean_expressed.fillna(0, inplace=True)\n",
    "    df_granular = df_granular.merge(df_exp, how='left')\n",
    "    df_granular.mean_expressed.fillna(0, inplace=True)\n",
    "    \n",
    "    df_broad = df_broad.merge(spring_df_broad, how='left')\n",
    "    df_granular = df_granular.merge(spring_df_granular, how='left')    \n",
    "\n",
    "    df_broad.rename(columns={'names': 'genes', 'scores': 'tstat', 'pts': 'fraction_group', 'pts_rest': 'fraction_rest', 'logfoldchanges': 'log2FC', 'pvals_adj': 'pvals_fdr'}, inplace=True)\n",
    "    df_granular.rename(columns={'names': 'genes', 'scores': 'tstat', 'pts': 'fraction_group', 'pts_rest': 'fraction_rest', 'logfoldchanges': 'log2FC', 'pvals_adj': 'pvals_fdr'}, inplace=True)\n",
    "    \n",
    "    if markers is not None:\n",
    "        df_broad = df_broad.assign(tissue=tissue).merge(markers, how='left')\n",
    "        df_broad['marker'] = df_broad['marker'].fillna('').astype(str)\n",
    "        df_granular = df_granular.assign(tissue=tissue).merge(markers, how='left')\n",
    "        df_granular['marker'] = df_granular['marker'].fillna('').astype(str)\n",
    "    \n",
    "    return df_broad, df_granular, ad"
   ]
  },
  {
   "cell_type": "code",
   "execution_count": 11,
   "metadata": {},
   "outputs": [],
   "source": [
    "de_dict_adatas = {}\n",
    "\n",
    "de_dict_broad = {}\n",
    "de_dict_granular = {}"
   ]
  },
  {
   "cell_type": "markdown",
   "metadata": {},
   "source": [
    "## DE"
   ]
  },
  {
   "cell_type": "code",
   "execution_count": 12,
   "metadata": {},
   "outputs": [],
   "source": [
    "def move_spring_to_de(ad, spring_key, de_key, old_de_key, obs_key):\n",
    "    ad.uns[de_key] = ad.uns[old_de_key].copy()\n",
    "    cats = ad.obs[obs_key].cat.categories\n",
    "    ad.uns[de_key]['names'] = pd.concat([ad.uns[spring_key][ad.uns[spring_key]['group'] == x].sort_values('spring_score', ascending=False)[['genes']].reset_index(drop=True) for x in cats], axis=1, ignore_index=True)\n",
    "    ad.uns[de_key]['names'].columns = cats\n",
    "    ad.uns[de_key]['names'] = ad.uns[de_key]['names'].to_records(index=False)"
   ]
  },
  {
   "cell_type": "code",
   "execution_count": null,
   "metadata": {},
   "outputs": [
    {
     "data": {
      "application/vnd.jupyter.widget-view+json": {
       "model_id": "5732e7ce4d124ea88e3bd6aa5f5750c1",
       "version_major": 2,
       "version_minor": 0
      },
      "text/plain": [
       "  0%|          | 0/8 [00:00<?, ?it/s]"
      ]
     },
     "metadata": {},
     "output_type": "display_data"
    },
    {
     "name": "stdout",
     "output_type": "stream",
     "text": [
      "Standardizing Data across genes.\n",
      "\n",
      "Found 4 batches\n",
      "\n",
      "Found 0 numerical variables:\n",
      "\t\n",
      "\n",
      "Found 642 genes with zero variance.\n",
      "Fitting L/S model and finding priors\n",
      "\n",
      "Finding parametric adjustments\n",
      "\n"
     ]
    },
    {
     "name": "stderr",
     "output_type": "stream",
     "text": [
      "/home/gokcen/.miniconda3/lib/python3.8/site-packages/scanpy/preprocessing/_combat.py:340: RuntimeWarning: invalid value encountered in true_divide\n",
      "/home/gokcen/.miniconda3/lib/python3.8/site-packages/scanpy/preprocessing/_combat.py:340: RuntimeWarning: divide by zero encountered in true_divide\n"
     ]
    },
    {
     "name": "stdout",
     "output_type": "stream",
     "text": [
      "Adjusting data\n",
      "\n"
     ]
    },
    {
     "data": {
      "application/vnd.jupyter.widget-view+json": {
       "model_id": "d942362391344ddc965538dde23f4566",
       "version_major": 2,
       "version_minor": 0
      },
      "text/plain": [
       "  0%|          | 0/8 [00:00<?, ?it/s]"
      ]
     },
     "metadata": {},
     "output_type": "display_data"
    },
    {
     "data": {
      "application/vnd.jupyter.widget-view+json": {
       "model_id": "81c58d30ae7e4e17802dd2be67643433",
       "version_major": 2,
       "version_minor": 0
      },
      "text/plain": [
       "  0%|          | 0/14 [00:00<?, ?it/s]"
      ]
     },
     "metadata": {},
     "output_type": "display_data"
    },
    {
     "name": "stdout",
     "output_type": "stream",
     "text": [
      "WARNING: Default of the method has been changed to 't-test' from 't-test_overestim_var'\n",
      "ranking genes\n",
      "    finished (0:00:09)\n",
      "WARNING: Default of the method has been changed to 't-test' from 't-test_overestim_var'\n",
      "ranking genes\n"
     ]
    },
    {
     "name": "stderr",
     "output_type": "stream",
     "text": [
      "/home/gokcen/.miniconda3/lib/python3.8/site-packages/scanpy/tools/_rank_genes_groups.py:420: RuntimeWarning: invalid value encountered in log2\n"
     ]
    },
    {
     "name": "stdout",
     "output_type": "stream",
     "text": [
      "    finished (0:00:15)\n",
      "Standardizing Data across genes.\n",
      "\n",
      "Found 4 batches\n",
      "\n",
      "Found 0 numerical variables:\n",
      "\t\n",
      "\n",
      "Found 275 genes with zero variance.\n",
      "Fitting L/S model and finding priors\n",
      "\n",
      "Finding parametric adjustments\n",
      "\n",
      "Adjusting data\n",
      "\n"
     ]
    },
    {
     "data": {
      "application/vnd.jupyter.widget-view+json": {
       "model_id": "ed8939d8ef6f4382b238af1dd63b1c2b",
       "version_major": 2,
       "version_minor": 0
      },
      "text/plain": [
       "  0%|          | 0/17 [00:00<?, ?it/s]"
      ]
     },
     "metadata": {},
     "output_type": "display_data"
    },
    {
     "data": {
      "application/vnd.jupyter.widget-view+json": {
       "model_id": "4e0ed4c41b7c4115838a905636404233",
       "version_major": 2,
       "version_minor": 0
      },
      "text/plain": [
       "  0%|          | 0/26 [00:00<?, ?it/s]"
      ]
     },
     "metadata": {},
     "output_type": "display_data"
    },
    {
     "name": "stdout",
     "output_type": "stream",
     "text": [
      "WARNING: Default of the method has been changed to 't-test' from 't-test_overestim_var'\n",
      "ranking genes\n",
      "    finished (0:00:50)\n",
      "WARNING: Default of the method has been changed to 't-test' from 't-test_overestim_var'\n",
      "ranking genes\n",
      "    finished (0:01:17)\n"
     ]
    },
    {
     "name": "stderr",
     "output_type": "stream",
     "text": [
      "/home/gokcen/.miniconda3/lib/python3.8/site-packages/scanpy/tools/_rank_genes_groups.py:394: PerformanceWarning: DataFrame is highly fragmented.  This is usually the result of calling `frame.insert` many times, which has poor performance.  Consider joining all columns at once using pd.concat(axis=1) instead.  To get a de-fragmented frame, use `newframe = frame.copy()`\n",
      "/home/gokcen/.miniconda3/lib/python3.8/site-packages/scanpy/tools/_rank_genes_groups.py:396: PerformanceWarning: DataFrame is highly fragmented.  This is usually the result of calling `frame.insert` many times, which has poor performance.  Consider joining all columns at once using pd.concat(axis=1) instead.  To get a de-fragmented frame, use `newframe = frame.copy()`\n",
      "/home/gokcen/.miniconda3/lib/python3.8/site-packages/scanpy/tools/_rank_genes_groups.py:399: PerformanceWarning: DataFrame is highly fragmented.  This is usually the result of calling `frame.insert` many times, which has poor performance.  Consider joining all columns at once using pd.concat(axis=1) instead.  To get a de-fragmented frame, use `newframe = frame.copy()`\n",
      "/home/gokcen/.miniconda3/lib/python3.8/site-packages/scanpy/tools/_rank_genes_groups.py:409: PerformanceWarning: DataFrame is highly fragmented.  This is usually the result of calling `frame.insert` many times, which has poor performance.  Consider joining all columns at once using pd.concat(axis=1) instead.  To get a de-fragmented frame, use `newframe = frame.copy()`\n",
      "/home/gokcen/.miniconda3/lib/python3.8/site-packages/scanpy/tools/_rank_genes_groups.py:420: PerformanceWarning: DataFrame is highly fragmented.  This is usually the result of calling `frame.insert` many times, which has poor performance.  Consider joining all columns at once using pd.concat(axis=1) instead.  To get a de-fragmented frame, use `newframe = frame.copy()`\n"
     ]
    },
    {
     "name": "stdout",
     "output_type": "stream",
     "text": [
      "Standardizing Data across genes.\n",
      "\n",
      "Found 4 batches\n",
      "\n",
      "Found 0 numerical variables:\n",
      "\t\n",
      "\n",
      "Found 314 genes with zero variance.\n",
      "Fitting L/S model and finding priors\n",
      "\n",
      "Finding parametric adjustments\n",
      "\n",
      "Adjusting data\n",
      "\n",
      "Standardizing Data across genes.\n",
      "\n",
      "Found 2 batches\n",
      "\n",
      "Found 0 numerical variables:\n",
      "\t\n",
      "\n",
      "Found 314 genes with zero variance.\n",
      "Fitting L/S model and finding priors\n",
      "\n",
      "Finding parametric adjustments\n",
      "\n",
      "Adjusting data\n",
      "\n"
     ]
    },
    {
     "data": {
      "application/vnd.jupyter.widget-view+json": {
       "model_id": "18261b0ac4464caa830f568ea1fc0e2d",
       "version_major": 2,
       "version_minor": 0
      },
      "text/plain": [
       "  0%|          | 0/14 [00:00<?, ?it/s]"
      ]
     },
     "metadata": {},
     "output_type": "display_data"
    },
    {
     "data": {
      "application/vnd.jupyter.widget-view+json": {
       "model_id": "b15835ecead34a719ec344f0a435c13b",
       "version_major": 2,
       "version_minor": 0
      },
      "text/plain": [
       "  0%|          | 0/23 [00:00<?, ?it/s]"
      ]
     },
     "metadata": {},
     "output_type": "display_data"
    },
    {
     "name": "stdout",
     "output_type": "stream",
     "text": [
      "WARNING: Default of the method has been changed to 't-test' from 't-test_overestim_var'\n",
      "ranking genes\n",
      "    finished (0:00:54)\n",
      "WARNING: Default of the method has been changed to 't-test' from 't-test_overestim_var'\n",
      "ranking genes\n",
      "    finished (0:01:29)\n",
      "Standardizing Data across genes.\n",
      "\n",
      "Found 4 batches\n",
      "\n",
      "Found 0 numerical variables:\n",
      "\t\n",
      "\n",
      "Found 312 genes with zero variance.\n",
      "Fitting L/S model and finding priors\n",
      "\n"
     ]
    }
   ],
   "source": [
    "%%time\n",
    "\n",
    "correct = ['prep', 'Sex']\n",
    "\n",
    "for tissue in tqdm(adata.obs.Tissue.cat.categories):\n",
    "    ad = adata[adata.obs.Tissue == tissue].copy()\n",
    "    correct_ex = [x for x in correct if len(ad.obs[x].cat.categories)>1]\n",
    "    \n",
    "    df_broad, df_granular, ad_ret = celltype_de(ad, correct=correct_ex, markers=markers, tissue=tissue)\n",
    "\n",
    "    ad.uns['broad_de'] = ad_ret.uns['broad_de']\n",
    "    ad.uns['granular_de'] = ad_ret.uns['granular_de']\n",
    "\n",
    "    ad.uns['df_broad'] = df_broad.copy()\n",
    "    ad.uns['df_granular'] = df_granular.copy()\n",
    "\n",
    "    de_dict_broad[tissue] = df_broad.copy()\n",
    "    de_dict_granular[tissue] = df_granular.copy()\n",
    "    \n",
    "    ad.obsm['X_umap'] = ad.obsm['X_umap_tissue'].values\n",
    "    if 'Granular cell type_colors' in ad.uns_keys():\n",
    "        del ad.uns['Granular cell type_colors']\n",
    "        \n",
    "    move_spring_to_de(ad, 'df_broad', 'broad_zscore_de', 'broad_de', 'Broad cell type')\n",
    "    move_spring_to_de(ad, 'df_granular', 'granular_zscore_de', 'granular_de', 'Granular cell type')        \n",
    "    \n",
    "    ad.write(f'DE-{tissue}.h5ad')"
   ]
  },
  {
   "cell_type": "code",
   "execution_count": null,
   "metadata": {},
   "outputs": [],
   "source": [
    "with open('de_dict_broad.pkl', 'wb') as f:\n",
    "    pickle.dump(de_dict_broad, f)\n",
    "    \n",
    "with open('de_dict_granular.pkl', 'wb') as f:\n",
    "    pickle.dump(de_dict_granular, f)    "
   ]
  },
  {
   "cell_type": "code",
   "execution_count": null,
   "metadata": {},
   "outputs": [],
   "source": [
    "de_dict_broad = pickle.load(open('de_dict_broad.pkl', 'rb'))\n",
    "de_dict_granular = pickle.load(open('de_dict_granular.pkl', 'rb'))"
   ]
  },
  {
   "cell_type": "code",
   "execution_count": null,
   "metadata": {},
   "outputs": [],
   "source": [
    "pd.concat([v.assign(tissue=k) for k,v in de_dict_broad.items()], axis=0).to_csv('de_results_broad.csv.gz', index=None)\n",
    "pd.concat([v.assign(tissue=k) for k,v in de_dict_granular.items()], axis=0).to_csv('de_results_granular.csv.gz', index=None)"
   ]
  }
 ],
 "metadata": {
  "kernelspec": {
   "display_name": "Python 3",
   "language": "python",
   "name": "python3"
  },
  "language_info": {
   "codemirror_mode": {
    "name": "ipython",
    "version": 3
   },
   "file_extension": ".py",
   "mimetype": "text/x-python",
   "name": "python",
   "nbconvert_exporter": "python",
   "pygments_lexer": "ipython3",
   "version": "3.8.12"
  }
 },
 "nbformat": 4,
 "nbformat_minor": 4
}
