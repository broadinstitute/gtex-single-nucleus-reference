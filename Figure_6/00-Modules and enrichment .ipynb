{
 "cells": [
  {
   "cell_type": "code",
   "execution_count": 1,
   "metadata": {},
   "outputs": [],
   "source": [
    "%load_ext autoreload"
   ]
  },
  {
   "cell_type": "code",
   "execution_count": 2,
   "metadata": {},
   "outputs": [],
   "source": [
    "%autoreload 2"
   ]
  },
  {
   "cell_type": "code",
   "execution_count": 3,
   "metadata": {},
   "outputs": [],
   "source": [
    "import scanpy as sc\n",
    "import pandas as pd\n",
    "import numpy as np\n",
    "import scipy as sp\n",
    "\n",
    "import plotnine as p9\n",
    "import sys\n",
    "from pathlib import Path\n",
    "from tqdm.auto import tqdm\n",
    "from joblib import Parallel, delayed\n",
    "import pickle"
   ]
  },
  {
   "cell_type": "code",
   "execution_count": 4,
   "metadata": {},
   "outputs": [],
   "source": [
    "sc.set_figure_params()"
   ]
  },
  {
   "cell_type": "code",
   "execution_count": 5,
   "metadata": {},
   "outputs": [],
   "source": [
    "sys.path.append(str(Path.home() / 'Code/sctoolkit'))"
   ]
  },
  {
   "cell_type": "code",
   "execution_count": 6,
   "metadata": {},
   "outputs": [],
   "source": [
    "from sctoolkit.modules import find_modules, tag_with_score, sort_module_dict"
   ]
  },
  {
   "cell_type": "markdown",
   "metadata": {},
   "source": [
    "## Load expression data"
   ]
  },
  {
   "cell_type": "code",
   "execution_count": null,
   "metadata": {},
   "outputs": [],
   "source": [
    "adata = sc.read('adata.h5ad')"
   ]
  },
  {
   "cell_type": "markdown",
   "metadata": {},
   "source": [
    "## Load GWAS genes"
   ]
  },
  {
   "cell_type": "code",
   "execution_count": 8,
   "metadata": {},
   "outputs": [
    {
     "data": {
      "text/plain": [
       "AnnData object with n_obs × n_vars = 5674 × 12864\n",
       "    obs: 'studyId', 'pmid', 'pubAuthor', 'pubDate', 'pubJournal', 'pubTitle', 'traitReported', 'ancestryInitial', 'gene_id', 'gene_symbol', 'nInitial', 'numAssocLoci', 'source', 'traitEfos', 'hasSumsStats', 'ancestryReplication', 'nReplication', 'nCases', 'nTotal', 'traitCategory', 'traitEfosStr'\n",
       "    var: 'gene_id'"
      ]
     },
     "execution_count": 8,
     "metadata": {},
     "output_type": "execute_result"
    }
   ],
   "source": [
    "gwas_ad = sc.read('otg-gwascat-20210125.h5ad') ## available at https://github.com/gokceneraslan/opentargets-genetics-python/tree/master/data\n",
    "gwas_ad"
   ]
  },
  {
   "cell_type": "code",
   "execution_count": 9,
   "metadata": {},
   "outputs": [
    {
     "data": {
      "text/plain": [
       "AnnData object with n_obs × n_vars = 4738 × 12864\n",
       "    obs: 'studyId', 'pmid', 'pubAuthor', 'pubDate', 'pubJournal', 'pubTitle', 'traitReported', 'ancestryInitial', 'gene_id', 'gene_symbol', 'nInitial', 'numAssocLoci', 'source', 'traitEfos', 'hasSumsStats', 'ancestryReplication', 'nReplication', 'nCases', 'nTotal', 'traitCategory', 'traitEfosStr'\n",
       "    var: 'gene_id'"
      ]
     },
     "execution_count": 9,
     "metadata": {},
     "output_type": "execute_result"
    }
   ],
   "source": [
    "overlap = gwas_ad[:, gwas_ad.var_names.isin(adata.var_names)].X.sum(1).A1\n",
    "gwas_ad = gwas_ad[(overlap>1) & (overlap<400)].copy()\n",
    "gwas_ad"
   ]
  },
  {
   "cell_type": "markdown",
   "metadata": {},
   "source": [
    "## GWAS enrichment tests"
   ]
  },
  {
   "cell_type": "code",
   "execution_count": 10,
   "metadata": {},
   "outputs": [],
   "source": [
    "def gwas_enrichment(adata, gwas_ad, obs_key=None):\n",
    "\n",
    "    background = sorted(set(gwas_ad.var_names) | set(adata.var_names))\n",
    "\n",
    "    print('Building expression module df...')\n",
    "    module_dict = {}\n",
    "    for l in tqdm(adata.uns['paris']['module_dict'].keys()):\n",
    "        mod_dict = adata.uns['paris']['module_dict'][l]\n",
    "        fisher_df = pd.DataFrame(dict(background=background))\n",
    "        for mod, genes in mod_dict.items():\n",
    "            fisher_df[mod] = fisher_df.background.isin(genes)\n",
    "\n",
    "        module_dict[l] = fisher_df.set_index('background')\n",
    "\n",
    "    module_df = pd.concat(module_dict.values(), axis=1, keys=module_dict.keys()).T\n",
    "\n",
    "    gwas_df = pd.DataFrame(gwas_ad.X.astype(bool).A, index=gwas_ad.obs_names, columns=gwas_ad.var_names).T\n",
    "    gwas_df.columns.name = None\n",
    "\n",
    "    background_df = pd.DataFrame(index=background)\n",
    "    gwas_df = gwas_df.join(background_df, how='outer').fillna(False).T\n",
    "\n",
    "    print('Calculating binary test statistics...')\n",
    "    final_df = binary_test_statistics(gwas_df, module_df)\n",
    "    \n",
    "    if obs_key is not None:\n",
    "        if 'score_tags' not in adata.uns['paris']:\n",
    "            print('Scoring modules and merging score info...')\n",
    "            tag_with_score(adata, obs_key, zcutoff=0)\n",
    "        \n",
    "        final_df = final_df.reset_index().merge(adata.uns['paris']['score_tags'])\n",
    "    \n",
    "    return final_df"
   ]
  },
  {
   "cell_type": "code",
   "execution_count": 11,
   "metadata": {},
   "outputs": [],
   "source": [
    "def binary_test_statistics(gwas_df, module_df):\n",
    "    assert np.all(gwas_df.columns == module_df.columns), 'Columns of dfs must match'\n",
    "\n",
    "    from fisher import pvalue_npy\n",
    "    import sparse\n",
    "    \n",
    "    x = sparse.COO(gwas_df.values.astype('uint32'))\n",
    "    y = sparse.COO(module_df.values.T.astype('uint32'))\n",
    "\n",
    "    # find 2x2 values\n",
    "    a = x.dot(y).todense()\n",
    "    b = x.dot(1-(y.todense()))\n",
    "    c = sparse.dot(1-(x.todense()), y)\n",
    "    d = gwas_df.shape[1] - (a+b+c)\n",
    "\n",
    "    # get intersections, phew\n",
    "    nnz = (x.T[:, :, None] * y[:, None, :]).nonzero()\n",
    "    nnz = pd.DataFrame(np.array(nnz).T, columns=['gene', 'gwas', 'module'])\n",
    "\n",
    "    nnz['gene'] = gwas_df.columns[nnz['gene'].values]\n",
    "    nnz['gwas'] = gwas_df.index[nnz['gwas'].values]\n",
    "    nnz['level'] = [x[0] for x in module_df.index[nnz['module'].values]]\n",
    "    nnz['module'] = [x[1] for x in module_df.index[nnz['module'].values]]\n",
    "\n",
    "    nnz = nnz.groupby(['gwas', 'level', 'module'], observed=True)[['gene']].agg(tuple)\n",
    "\n",
    "    # run fisher test\n",
    "    pval = pvalue_npy(a.ravel().astype('uint'), \n",
    "                      b.ravel().astype('uint'), \n",
    "                      c.ravel().astype('uint'), \n",
    "                      d.ravel().astype('uint'))[1]\n",
    "    pval = pval.reshape(a.shape)\n",
    "\n",
    "    # calculate log odds, prec, recall, fscore\n",
    "    with np.errstate(invalid='ignore', divide='ignore'):\n",
    "        logodds = np.log2((a.astype(float)*d.astype(float)) / (b.astype(float)*c.astype(float)))\n",
    "        \n",
    "    precision = a/(a+c)    \n",
    "    recall = a/(a+b)\n",
    "    fscore = 2*precision*recall/(precision+recall)        \n",
    "        \n",
    "    # store everything in a data frame\n",
    "    def melt(mat, valname):\n",
    "        mat = pd.DataFrame(mat, index=gwas_df.index, columns=module_df.index).reset_index().rename(columns={'index': 'gwas'})\n",
    "        mat = mat.melt(id_vars=['gwas'], var_name=['level', 'module'], value_name=valname).set_index(['gwas', 'level', 'module'])\n",
    "        return mat\n",
    "\n",
    "    pval = melt(pval, 'pval')\n",
    "    logodds = melt(logodds, 'logodds')\n",
    "    \n",
    "    a = melt(a, 'pospos')\n",
    "    b = melt(b, 'posneg')\n",
    "    c = melt(c, 'negpos')\n",
    "    d = melt(d, 'negneg')\n",
    "    \n",
    "    precision = melt(precision, 'precision')\n",
    "    recall = melt(recall, 'recall')\n",
    "    fscore = melt(fscore, 'fscore')    \n",
    "    \n",
    "    final_df = pval.copy()\n",
    "    final_df['logOR'] = logodds.logodds\n",
    "    final_df['pospos'] = a.pospos\n",
    "    final_df['posneg'] = b.posneg\n",
    "    final_df['negpos'] = c.negpos\n",
    "    final_df['negneg'] = d.negneg\n",
    "\n",
    "    final_df['precision'] = precision.precision\n",
    "    final_df['recall'] = recall.recall\n",
    "    final_df['fscore'] = fscore.fscore\n",
    "    \n",
    "    final_df['intersections'] = nnz.gene    \n",
    "    \n",
    "    final_df = final_df[(final_df.pospos>0)]\n",
    "    \n",
    "    return final_df"
   ]
  },
  {
   "cell_type": "code",
   "execution_count": null,
   "metadata": {},
   "outputs": [],
   "source": [
    "%%time\n",
    "\n",
    "for t in tqdm(adata.obs.tissue.cat.categories):\n",
    "    print(t)\n",
    "    ad = adata[adata.obs.tissue == t].copy()\n",
    "    sc.pp.filter_genes(ad, min_cells=10)\n",
    "\n",
    "    find_modules(ad)\n",
    "    tag_with_score(ad, ['Broad cell type', 'Granular cell type'], zcutoff=0.)\n",
    "    filename = f'modules-{t}'\n",
    "\n",
    "    res = gwas_enrichment(ad, gwas_ad, ['Granular cell type', 'Broad cell type']).assign(tissue=t)\n",
    "    res.to_pickle(f'{filename}-enrichment-v2.pkl')\n",
    "    \n",
    "    with open(f'{filename}-v2.pkl', 'wb') as f:\n",
    "        pickle.dump(ad.uns['paris'], f)\n",
    "\n",
    "    del ad.uns['paris']\n",
    "    ad.write(f'{filename}.h5ad')\n",
    "    \n",
    "    del ad\n",
    "    del res\n",
    "    \n",
    "    gc.collect()"
   ]
  }
 ],
 "metadata": {
  "kernelspec": {
   "display_name": "Python 3",
   "language": "python",
   "name": "python3"
  },
  "language_info": {
   "codemirror_mode": {
    "name": "ipython",
    "version": 3
   },
   "file_extension": ".py",
   "mimetype": "text/x-python",
   "name": "python",
   "nbconvert_exporter": "python",
   "pygments_lexer": "ipython3",
   "version": "3.8.6"
  }
 },
 "nbformat": 4,
 "nbformat_minor": 4
}
